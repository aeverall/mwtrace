{
 "cells": [
  {
   "cell_type": "code",
   "execution_count": 1,
   "metadata": {},
   "outputs": [],
   "source": [
    "%load_ext autoreload\n",
    "%autoreload 2"
   ]
  },
  {
   "cell_type": "code",
   "execution_count": 2,
   "metadata": {},
   "outputs": [],
   "source": [
    "%config Completer.use_jedi = False"
   ]
  },
  {
   "cell_type": "code",
   "execution_count": 3,
   "metadata": {},
   "outputs": [],
   "source": [
    "import sys, os, pickle, time, warnings, h5py\n",
    "\n",
    "import numpy as np, pandas as pd, scipy, scipy.stats as stats, tqdm, h5py\n",
    "from copy import deepcopy as copy\n",
    "\n",
    "sys.path.extend(['../utilities/', '../models/'])\n",
    "import samplers, disk_cone_plcut as dcp, plotting, transformations\n",
    "import disk_halo_mstogap as dh_msto\n",
    "from transformations import func_inv_jac, func_labels, label_dict\n",
    "import sf_utils\n",
    "\n",
    "from multiprocessing import Pool"
   ]
  },
  {
   "cell_type": "code",
   "execution_count": 4,
   "metadata": {},
   "outputs": [],
   "source": [
    "# Plotting modules\n",
    "import matplotlib\n",
    "from pylab import cm\n",
    "import matplotlib.pyplot as plt\n",
    "from matplotlib.colors import LogNorm\n",
    "plt.rc('text', usetex=True)\n",
    "plt.rc('font', family='serif')\n",
    "plt.rc('axes', labelsize=16)\n",
    "plt.rc('xtick',labelsize=16)\n",
    "plt.rc('ytick',labelsize=16)\n",
    "plt.rc('legend',fontsize=16)\n",
    "plt.rc('font',size=16)\n",
    "from pylab import Rectangle"
   ]
  },
  {
   "cell_type": "code",
   "execution_count": 5,
   "metadata": {},
   "outputs": [],
   "source": [
    "from selectionfunctions.config import config\n",
    "config['data_dir'] = '/data/asfe2/Projects/testselectionfunctions/'"
   ]
  },
  {
   "cell_type": "markdown",
   "metadata": {},
   "source": [
    "# Load in selection function"
   ]
  },
  {
   "cell_type": "code",
   "execution_count": 7,
   "metadata": {},
   "outputs": [
    {
     "name": "stdout",
     "output_type": "stream",
     "text": [
      "Loading auxilliary data ...\n",
      "Loading selection function ...\n",
      "Creating selection function interpolator...\n",
      "t = 4.290 s\n",
      "  auxilliary:   4.287 s\n",
      "          sf:   0.002 s\n",
      "interpolator:   0.001 s\n"
     ]
    }
   ],
   "source": [
    "# Apply Gaia Selection Function\n",
    "from selectionfunctions.carpentry import chisel\n",
    "import selectionfunctions.cog_ii as CoGii\n",
    "from selectionfunctions.config import config\n",
    "config['data_dir'] = '/data/asfe2/Projects/testselectionfunctions/'\n",
    "#CoGii.fetch()\n",
    "dr2_sf = CoGii.dr2_sf(version='modelAB',crowding=False)"
   ]
  },
  {
   "cell_type": "code",
   "execution_count": null,
   "metadata": {},
   "outputs": [],
   "source": [
    "ast_sf.s"
   ]
  },
  {
   "cell_type": "code",
   "execution_count": 23,
   "metadata": {},
   "outputs": [
    {
     "name": "stdout",
     "output_type": "stream",
     "text": [
      "Loading auxilliary data ...\n",
      "Spherical Basis: wavelet_chisquare_nside64_B2.0_p1.0_tol0.01_j[-1,0,1,2,3,4].h5\n",
      "Spherical basis file loaded\n",
      "t = 0.597 s\n",
      "  auxilliary:   0.017 s\n",
      "          sf:   0.000 s\n",
      "interpolator:   0.580 s\n"
     ]
    }
   ],
   "source": [
    "config['data_dir'] = '/data/asfe2/Projects/astrometry/PyOutput/'\n",
    "M = 85; C = 1; j=[-1,0,1,2,3,4]; lengthscale=0.3; nside=32\n",
    "map_fname = f\"chisquare_j{str(j).replace(' ','')}_nside{nside}_M{M}_C1_l0.3_results.h5\"\n",
    "\n",
    "M = 214; C = 1; jmax=4; lengthscale=0.3; nside=32\n",
    "map_fname = f\"chisquare_jmax{jmax}_nside{nside}_M{M}_C1_l0.3_B2.0_ncores40mp_lbfgsb_scipy_results.h5\"\n",
    "\n",
    "M = 21; C = 1; jmax=4; lengthscale=0.3; nside=32\n",
    "map_fname = f\"chisquare_jmax{jmax}_nside{nside}_M{M}_C1_l0.3_B2.0_ncores20mp_lbfgsb_scipy_results.h5\"\n",
    "\n",
    "ast_sf = chisel(map_fname=map_fname, nside=64, C=C, M=M, basis_options={'needlet':'chisquare', 'j':j, 'B':2.0, 'p':1.0, 'wavelet_tol':1e-2},\n",
    "                       spherical_basis_directory='/data/asfe2/Projects/astrometry/SphericalWavelets/',\n",
    "                       )"
   ]
  },
  {
   "cell_type": "markdown",
   "metadata": {},
   "source": [
    "# Apply selection function"
   ]
  },
  {
   "cell_type": "code",
   "execution_count": 28,
   "metadata": {},
   "outputs": [],
   "source": [
    "m = np.arange(0.,23.,0.1)\n",
    "l = np.random.rand(len(m))+2*np.pi\n",
    "b = np.zeros(len(m)) + np.pi/2\n"
   ]
  },
  {
   "cell_type": "code",
   "execution_count": 29,
   "metadata": {},
   "outputs": [],
   "source": [
    "gaiasf = sf_utils.apply_subgaiasf(l, b, m, dr2_sf=dr2_sf, get_prob=True)[1]"
   ]
  },
  {
   "cell_type": "code",
   "execution_count": 30,
   "metadata": {},
   "outputs": [],
   "source": [
    "astsf = sf_utils.apply_subgaiasf(l, b, m, dr2_sf=dr2_sf, sub_sf=ast_sf)[1]"
   ]
  },
  {
   "cell_type": "code",
   "execution_count": 41,
   "metadata": {},
   "outputs": [
    {
     "data": {
      "image/png": "[encoded data removed]",
      "text/plain": [
       "<Figure size 576x360 with 1 Axes>"
      ]
     },
     "metadata": {
      "needs_background": "light"
     },
     "output_type": "display_data"
    }
   ],
   "source": [
    "fig, ax = plt.subplots(1,1,figsize=(8,5))\n",
    "\n",
    "plt.plot(m, gaiasf, linestyle='--')\n",
    "plt.plot(m, astsf*gaiasf)\n",
    "plt.plot(m, astsf, linestyle='--')\n",
    "\n",
    "plt.ylabel(r'$\\mathcal{S}(b=\\frac{\\pi}{2}, G)$')\n",
    "\n",
    "plt.xlabel(r'$G$')\n",
    "plt.ylim(-0.01, 1.01); plt.xlim(m[0], m[-1])\n",
    "\n",
    "plt.savefig(f'figs/gaia-dr2_ast-{map_fname}_SF_G.png', bbox_inches='tight', facecolor='w', transparent=False)"
   ]
  }
 ],
 "metadata": {
  "kernelspec": {
   "display_name": "py36",
   "language": "python",
   "name": "py36"
  },
  "language_info": {
   "codemirror_mode": {
    "name": "ipython",
    "version": 3
   },
   "file_extension": ".py",
   "mimetype": "text/x-python",
   "name": "python",
   "nbconvert_exporter": "python",
   "pygments_lexer": "ipython3",
   "version": "3.6.13"
  }
 },
 "nbformat": 4,
 "nbformat_minor": 2
}
