{
 "cells": [
  {
   "cell_type": "code",
   "execution_count": 1,
   "metadata": {},
   "outputs": [],
   "source": [
    "%load_ext autoreload\n",
    "%autoreload 2"
   ]
  },
  {
   "cell_type": "code",
   "execution_count": 350,
   "metadata": {},
   "outputs": [],
   "source": [
    "import sys, os, pickle, time, warnings\n",
    "\n",
    "import numpy as np, pandas as pd, scipy, scipy.stats as stats, tqdm, h5py\n",
    "from copy import deepcopy as copy\n",
    "\n",
    "sys.path.extend(['../utilities/', '../models/'])\n",
    "import samplers, disk_cone_plcut as dcp, plotting, transformations\n",
    "import disk_halo_mstogap as dh_msto\n",
    "from transformations import func_inv_jac\n",
    "\n",
    "from multiprocessing import Pool"
   ]
  },
  {
   "cell_type": "markdown",
   "metadata": {},
   "source": [
    "# Load in parameter transformations"
   ]
  },
  {
   "cell_type": "code",
   "execution_count": 326,
   "metadata": {},
   "outputs": [],
   "source": [
    "param_trans = {}\n",
    "param_trans['shd'] = {'alpha1':('nexp',0,0,-3,3),\n",
    "                      'alpha2':('nexp',0,0,-3,3)}\n",
    "param_trans[0] = {'w':('exp',0,0,-10,10),\n",
    "                  'fD': ('logit_scaled', 0,1, -10,10),\n",
    "                  'alpha3':('nexp',0,0,-10,10),\n",
    "                  'hz': ('logit_scaled', 0,  1.2,-10,10)}\n",
    "param_trans[1] = {'w':('exp',0,0,-10,10),\n",
    "                  'fD': ('logit_scaled', 0,1,-10,10),\n",
    "                  'alpha3':('nexp',0,0,-10,10),\n",
    "                  'hz': ('logit_scaled', 1.2,3,-10,10)}\n",
    "param_trans[2] = {'w':('exp',0,0,-10,10),\n",
    "                  'fD': ('logit_scaled', 0,1,-10,10),\n",
    "                  'alpha3':('nexp',0,0,-10,10),\n",
    "                  'hz': ('logit_scaled', 3,  7.3,-10,10)}"
   ]
  },
  {
   "cell_type": "code",
   "execution_count": 113,
   "metadata": {},
   "outputs": [],
   "source": [
    "param_trans['shd'] = {'alpha1':('none',0,0,-3,3),\n",
    "                      'alpha2':('none',0,0,-3,3)}"
   ]
  },
  {
   "cell_type": "markdown",
   "metadata": {},
   "source": [
    "# Load data"
   ]
  },
  {
   "cell_type": "code",
   "execution_count": 327,
   "metadata": {},
   "outputs": [
    {
     "name": "stdout",
     "output_type": "stream",
     "text": [
      "99911/100000\n"
     ]
    }
   ],
   "source": [
    "# Load Sample\n",
    "size = 1000\n",
    "sample = {}; true_pars={}; latent_pars={};\n",
    "filename = '/data/asfe2/Projects/mwtrace_data/mockmodel/sample.h'\n",
    "with h5py.File(filename, 'r') as hf:\n",
    "    subset = (hf['sample']['m'][...]>0)&(hf['sample']['m'][...]<33)\n",
    "    print('%d/%d' % (np.sum(subset), len(subset)))\n",
    "    subsample  = np.sort(np.random.choice(np.arange(np.sum(subset)), size=size, replace=False))\n",
    "    for key in hf['sample'].keys():\n",
    "        sample[key]=hf['sample'][key][...][subset][subsample]\n",
    "    # Get true parameters\n",
    "    for key in hf['true_pars'].keys():\n",
    "        if not key in np.arange(3).astype(str):\n",
    "            true_pars[key]=hf['true_pars'][key][...]\n",
    "        else:\n",
    "            true_pars[key]={}\n",
    "            for par in hf['true_pars'][key].keys():\n",
    "                true_pars[key][par]=hf['true_pars'][key][par][...]\n",
    "for j in range(3): true_pars[str(j)]['w']*=size"
   ]
  },
  {
   "cell_type": "markdown",
   "metadata": {},
   "source": [
    "# Generate model parameters"
   ]
  },
  {
   "cell_type": "code",
   "execution_count": 328,
   "metadata": {},
   "outputs": [],
   "source": [
    "fid_pars = {'Mmax':true_pars['Mx'],  'lat_min':np.deg2rad(true_pars['theta_deg']), 'R0':true_pars['R0'],\n",
    "            'free_pars':{}, 'fixed_pars':{}, 'functions':{}, 'functions_inv':{}, 'jacobians':{}, 'w':True,\n",
    "            'components':['disk','disk','halo'], 'ncomponents':3}\n",
    "\n",
    "fid_pars['free_pars'][0] = ['w', 'hz', 'fD']\n",
    "fid_pars['free_pars'][1] = ['w', 'hz', 'fD']\n",
    "fid_pars['free_pars'][2] = ['w', 'hz', 'fD']\n",
    "fid_pars['free_pars']['shd'] = ['alpha1', 'alpha2']\n",
    "ndim=np.sum([len(fid_pars['free_pars'][key]) for key in fid_pars['free_pars'].keys()])\n",
    "\n",
    "fid_pars['fixed_pars'][0] = {'Mms':true_pars['Mms'], 'fD':1.-1e-15, 'alpha3':true_pars['0']['alpha3'],\n",
    "                             'Mms1':true_pars['Mms1'], 'Mms2':true_pars['Mms2'],\n",
    "                             'Mto':true_pars['0']['Mto']}\n",
    "fid_pars['fixed_pars'][1] = copy(fid_pars['fixed_pars'][0]); fid_pars['fixed_pars'][2] = copy(fid_pars['fixed_pars'][0])\n",
    "fid_pars['fixed_pars'][1]['Mto'] = true_pars['1']['Mto']\n",
    "fid_pars['fixed_pars'][2]['Mto'] = true_pars['2']['Mto']\n",
    "\n",
    "fid_pars['functions']={}; fid_pars['functions_inv']={}; fid_pars['jacobians']={}; bounds=[]\n",
    "params_i = 0\n",
    "for cmpt in np.arange(fid_pars['ncomponents']).tolist()+['shd',]:\n",
    "    fid_pars['functions'][cmpt]={}; fid_pars['functions_inv'][cmpt]={}; fid_pars['jacobians'][cmpt]={}\n",
    "    for par in fid_pars['free_pars'][cmpt]:\n",
    "        fid_pars['functions'][cmpt][par], \\\n",
    "        fid_pars['functions_inv'][cmpt][par], \\\n",
    "        fid_pars['jacobians'][cmpt][par]=func_inv_jac[param_trans[cmpt][par][0]](*param_trans[cmpt][par][1:3])\n",
    "        bounds.append([param_trans[cmpt][par][3], param_trans[cmpt][par][4]])\n",
    "        params_i += 1;\n",
    "bounds = np.array(bounds).T"
   ]
  },
  {
   "cell_type": "code",
   "execution_count": 329,
   "metadata": {},
   "outputs": [
    {
     "data": {
      "text/plain": [
       "{'0': {'Mto': array(4.8),\n",
       "  'alpha3': array(-1.),\n",
       "  'fD': array(0.94),\n",
       "  'hz': array(0.9),\n",
       "  'w': array(200.)},\n",
       " '1': {'Mto': array(3.14),\n",
       "  'alpha3': array(-0.5),\n",
       "  'fD': array(0.998),\n",
       "  'hz': array(1.9),\n",
       "  'w': array(300.)},\n",
       " '2': {'Mto': array(3.3),\n",
       "  'alpha3': array(-0.6),\n",
       "  'fD': array(0.995),\n",
       "  'hz': array(4.6),\n",
       "  'w': array(500.)},\n",
       " 'Mms': array(8.),\n",
       " 'Mms1': array(9.),\n",
       " 'Mms2': array(7.),\n",
       " 'Mx': array(10.7),\n",
       " 'N': array(100000),\n",
       " 'R0': array(8.27),\n",
       " 'alpha1': array(-0.15),\n",
       " 'alpha2': array(-0.3),\n",
       " 'theta_deg': array(60)}"
      ]
     },
     "execution_count": 329,
     "metadata": {},
     "output_type": "execute_result"
    }
   ],
   "source": [
    "true_pars"
   ]
  },
  {
   "cell_type": "code",
   "execution_count": 330,
   "metadata": {},
   "outputs": [
    {
     "data": {
      "text/plain": [
       "(array([ 2.00e+02,  9.00e-01,  9.40e-01,  3.00e+02,  1.90e+00,  9.98e-01,\n",
       "         5.00e+02,  4.60e+00,  9.95e-01, -1.50e-01, -3.00e-01]),\n",
       " array([ 5.29831737,  1.09861229,  2.75153531,  5.70378247, -0.45198512,\n",
       "         6.2126061 ,  6.2146081 , -0.52324814,  5.29330482, -1.89711998,\n",
       "        -1.2039728 ]))"
      ]
     },
     "execution_count": 330,
     "metadata": {},
     "output_type": "execute_result"
    }
   ],
   "source": [
    "true_params_f=[];\n",
    "true_params=[]; \n",
    "for j in range(fid_pars['ncomponents']):\n",
    "    for par in fid_pars['free_pars'][j]:\n",
    "        true_params_f   += [fid_pars['functions_inv'][j][par](true_pars[str(j)][par]),]\n",
    "        true_params += [true_pars[str(j)][par],]\n",
    "for par in fid_pars['free_pars']['shd']:\n",
    "    true_params_f += [fid_pars['functions_inv']['shd'][par](true_pars[par]),]\n",
    "    true_params += [true_pars[par],]\n",
    "true_params_f=np.array(true_params_f)\n",
    "true_params=np.array(true_params)\n",
    "true_params, true_params_f"
   ]
  },
  {
   "cell_type": "markdown",
   "metadata": {},
   "source": [
    "# Test model"
   ]
  },
  {
   "cell_type": "code",
   "execution_count": 283,
   "metadata": {},
   "outputs": [],
   "source": [
    "p0 = np.array( [transformations.logit(np.random.rand()),transformations.logit(np.random.rand()),-np.random.rand()*1,\n",
    "                transformations.logit(np.random.rand()),transformations.logit(np.random.rand()),-np.random.rand()*1,\n",
    "                transformations.logit(np.random.rand()),transformations.logit(np.random.rand()),-np.random.rand()*1,\n",
    "                -np.random.rand()*1,-np.random.rand()*1] )"
   ]
  },
  {
   "cell_type": "code",
   "execution_count": 284,
   "metadata": {},
   "outputs": [],
   "source": [
    "p0 = transformations.logit(np.random.rand(ndim))"
   ]
  },
  {
   "cell_type": "code",
   "execution_count": 285,
   "metadata": {},
   "outputs": [],
   "source": [
    "p0 = np.array([0.,0.,-1.,\n",
    "               0.,0.,-1.,\n",
    "               0.,0.,-1.,\n",
    "               -1.,-1.])"
   ]
  },
  {
   "cell_type": "code",
   "execution_count": 352,
   "metadata": {},
   "outputs": [],
   "source": [
    "sample_2d = np.vstack((sample['parallax_obs'], sample['parallax_error'],\n",
    "                       np.abs(sample['sinb']), np.log(np.sqrt(1-sample['sinb']**2)),\n",
    "                       sample['m'], np.log(sample['parallax_error'])))\n",
    "fid_pars['models']=[dh_msto.log_expmodel_perr_grad, dh_msto.log_expmodel_perr_grad, dh_msto.log_halomodel_perr_grad]\n",
    "poisson_kwargs_global = {'sample':sample_2d, 'logmodel': dh_msto.logmodel_perr_grad, \n",
    "                         'model_integrate':dh_msto.integral_model,\n",
    "                         'param_bounds':bounds, 'gmm':None, 'bins':([0,np.inf],[-np.inf,np.inf]),\n",
    "                         'fid_pars':fid_pars, 'model_prior':None,\n",
    "                        'chunksize':100, 'ncores':2}"
   ]
  },
  {
   "cell_type": "code",
   "execution_count": 332,
   "metadata": {},
   "outputs": [],
   "source": [
    "def poisson_like(params, bounds=None, grad=False):\n",
    "\n",
    "    poisson_kwargs = copy(poisson_kwargs_global)\n",
    "\n",
    "    # Prior boundaries\n",
    "    if bounds is None: bounds = poisson_kwargs['param_bounds']\n",
    "    if np.sum((params<=bounds[0])|(params>=bounds[1]))>0:\n",
    "        if grad: return -1e20, np.zeros(len(params))\n",
    "        else: return -1e20\n",
    "\n",
    "    # Optional prior inclusion\n",
    "    if poisson_kwargs_global['model_prior'] is not None:\n",
    "        prior=poisson_kwargs_global['model_prior'](params, fid_pars=poisson_kwargs['fid_pars'], grad=grad)\n",
    "    else: \n",
    "        if not grad: prior=0.\n",
    "        else: prior=(0.,0.)\n",
    "\n",
    "    integral = poisson_kwargs['model_integrate'](params, bins=poisson_kwargs['bins'], fid_pars=poisson_kwargs['fid_pars'], grad=grad)\n",
    "    obj = poisson_kwargs['logmodel'](poisson_kwargs['sample'], params, gmm=poisson_kwargs['gmm'], fid_pars=poisson_kwargs['fid_pars'], grad=grad)\n",
    "    if not grad: return np.sum(obj) - integral + prior\n",
    "\n",
    "    model_val = np.sum(obj[0]) - integral[0] + prior[0]\n",
    "    model_grad = np.sum(obj[1], axis=1) - integral[1] + prior[1]\n",
    "    return model_val, model_grad"
   ]
  },
  {
   "cell_type": "code",
   "execution_count": 384,
   "metadata": {},
   "outputs": [],
   "source": [
    "global params_i\n",
    "\n",
    "def poisson_like_parallel_func(ii):\n",
    "    grad = poisson_kwargs_global['grad']\n",
    "    output = poisson_kwargs_global['logmodel'](poisson_kwargs_global['sample'][:,ii:ii+poisson_kwargs_global['chunksize']].copy(),\n",
    "                                            params_i,\n",
    "                                            gmm=copy(poisson_kwargs_global['gmm']),\n",
    "                                            fid_pars=copy(poisson_kwargs_global['fid_pars']),\n",
    "                                            grad=grad)\n",
    "    if not grad: return np.sum(obj)\n",
    "    else: return np.sum(output[0]), np.sum(output[1], axis=1)\n",
    "    \n",
    "def poisson_like_parallel(params, bounds=None):\n",
    "    \n",
    "    global params_i\n",
    "    params_i = params.copy()\n",
    "    grad = poisson_kwargs_global['grad']\n",
    "    \n",
    "    poisson_kwargs = copy(poisson_kwargs_global)\n",
    "\n",
    "    # Prior boundaries\n",
    "    if bounds is None: bounds = poisson_kwargs['param_bounds']\n",
    "    if np.sum((params<=bounds[0])|(params>=bounds[1]))>0:\n",
    "        if grad: return -1e20, np.zeros(len(params))\n",
    "        else: return -1e20\n",
    "\n",
    "    # Optional prior inclusion\n",
    "    if poisson_kwargs_global['model_prior'] is not None:\n",
    "        prior=poisson_kwargs_global['model_prior'](params, fid_pars=poisson_kwargs['fid_pars'], grad=grad)\n",
    "    else: \n",
    "        if not grad: prior=0.\n",
    "        else: prior=(0.,0.)\n",
    "\n",
    "    logl_val = 0.\n",
    "    if grad: logl_grad = np.zeros(len(params))\n",
    "            \n",
    "    integral = poisson_kwargs['model_integrate'](params, bins=poisson_kwargs['bins'], \n",
    "                                                 fid_pars=poisson_kwargs['fid_pars'], grad=grad)\n",
    "    \n",
    "    i_list = np.arange(0, poisson_kwargs_global['sample'].shape[1], poisson_kwargs_global['chunksize'])\n",
    "    with Pool(poisson_kwargs['ncores']) as p:\n",
    "        for logl_i in p.imap(poisson_like_parallel_func, i_list):\n",
    "            if not grad: logl_val += logl_i\n",
    "            if grad: \n",
    "                logl_val += logl_i[0]\n",
    "                logl_grad += logl_i[1]\n",
    "    \n",
    "    if not grad: return logl_val - integral[0] + prior[0]\n",
    "    return logl_val - integral[0] + prior[0], logl_grad - integral[1] + prior[1]"
   ]
  },
  {
   "cell_type": "code",
   "execution_count": 386,
   "metadata": {},
   "outputs": [],
   "source": [
    "poisson_kwargs_global['grad']=True"
   ]
  },
  {
   "cell_type": "code",
   "execution_count": 387,
   "metadata": {},
   "outputs": [
    {
     "data": {
      "text/plain": [
       "(-1147.2148089940306,\n",
       " array([ 164.10198065,  188.44085838,   79.91249312,  151.75721547,\n",
       "         -13.7860862 ,   60.30290338,  679.32722189,  221.0192986 ,\n",
       "         -68.61722509, -237.45785972,  -28.72894533]))"
      ]
     },
     "execution_count": 387,
     "metadata": {},
     "output_type": "execute_result"
    }
   ],
   "source": [
    "poisson_like_parallel(p0)"
   ]
  },
  {
   "cell_type": "code",
   "execution_count": 381,
   "metadata": {},
   "outputs": [
    {
     "data": {
      "text/plain": [
       "(-1147.2148089940306,\n",
       " array([ 164.10198065,  188.44085838,   79.91249312,  151.75721547,\n",
       "         -13.7860862 ,   60.30290338,  679.32722189,  221.0192986 ,\n",
       "         -68.61722509, -237.45785972,  -28.72894533]))"
      ]
     },
     "execution_count": 381,
     "metadata": {},
     "output_type": "execute_result"
    }
   ],
   "source": [
    "poisson_like(p0, grad=True)"
   ]
  },
  {
   "cell_type": "code",
   "execution_count": 204,
   "metadata": {},
   "outputs": [],
   "source": [
    "model = lambda x: poisson_like(x, grad=False)\n",
    "grad  = lambda x: poisson_like(x, grad=True)[1]"
   ]
  },
  {
   "cell_type": "code",
   "execution_count": 205,
   "metadata": {},
   "outputs": [
    {
     "data": {
      "text/plain": [
       "array([[ 2.70630380e+02,  2.70629917e+02],\n",
       "       [ 4.59522198e+01,  4.59477087e+01],\n",
       "       [ 0.00000000e+00, -1.03400554e-13],\n",
       "       [ 3.41143505e+02,  3.41143153e+02],\n",
       "       [ 3.17072590e+00,  3.19474612e+00],\n",
       "       [ 0.00000000e+00, -2.82754267e-13],\n",
       "       [ 3.85226713e+02,  3.85226929e+02],\n",
       "       [-5.21561105e+01, -5.24186719e+01],\n",
       "       [ 0.00000000e+00, -2.61137875e-13],\n",
       "       [-9.33573574e+01, -9.41802020e+01],\n",
       "       [ 2.73075784e+00,  3.12589444e+00]])"
      ]
     },
     "execution_count": 205,
     "metadata": {},
     "output_type": "execute_result"
    }
   ],
   "source": [
    "np.vstack((scipy.optimize.approx_fprime(p0, model, 1e-10), grad(p0))).T"
   ]
  },
  {
   "cell_type": "code",
   "execution_count": 388,
   "metadata": {},
   "outputs": [],
   "source": [
    "model = lambda x: poisson_like_parallel(x)[0]\n",
    "grad  = lambda x: poisson_like_parallel(x)[1]"
   ]
  },
  {
   "cell_type": "code",
   "execution_count": 389,
   "metadata": {},
   "outputs": [
    {
     "data": {
      "text/plain": [
       "array([[ 164.10012904,  164.10198065],\n",
       "       [ 188.44730221,  188.44085838],\n",
       "       [  79.91502571,   79.91249312],\n",
       "       [ 151.7560122 ,  151.75721547],\n",
       "       [ -13.78339221,  -13.7860862 ],\n",
       "       [  60.29949873,   60.30290338],\n",
       "       [ 679.32660386,  679.32722189],\n",
       "       [ 221.36191546,  221.0192986 ],\n",
       "       [ -68.61455404,  -68.61722509],\n",
       "       [-234.34949981, -237.45785972],\n",
       "       [ -28.50811143,  -28.72894533]])"
      ]
     },
     "execution_count": 389,
     "metadata": {},
     "output_type": "execute_result"
    }
   ],
   "source": [
    "np.vstack((scipy.optimize.approx_fprime(p0, model, 1e-10), grad(p0))).T"
   ]
  },
  {
   "cell_type": "markdown",
   "metadata": {},
   "source": [
    "# Run Newton CG"
   ]
  },
  {
   "cell_type": "code",
   "execution_count": 335,
   "metadata": {},
   "outputs": [],
   "source": [
    "from scipy.optimize import minimize"
   ]
  },
  {
   "cell_type": "code",
   "execution_count": 341,
   "metadata": {},
   "outputs": [],
   "source": [
    "##Print callback function\n",
    "def printx(Xi):\n",
    "    global Nfeval\n",
    "    global fout\n",
    "    sys.stdout.write('At iterate {0}, {1}'.format(Nfeval, poisson_like(Xi)) + '\\n')\n",
    "    sys.stdout.write(str(Xi)+'\\n')\n",
    "    Nfeval += 1"
   ]
  },
  {
   "cell_type": "code",
   "execution_count": 337,
   "metadata": {},
   "outputs": [],
   "source": [
    "def nll(x):\n",
    "    lnl, grad = poisson_like(x, grad=True)\n",
    "    return -lnl, -grad"
   ]
  },
  {
   "cell_type": "code",
   "execution_count": 338,
   "metadata": {},
   "outputs": [],
   "source": [
    "p0 = np.array( [transformations.logit(np.random.rand()),transformations.logit(np.random.rand()),-np.random.rand()*1,\n",
    "                transformations.logit(np.random.rand()),transformations.logit(np.random.rand()),-np.random.rand()*1,\n",
    "                transformations.logit(np.random.rand()),transformations.logit(np.random.rand()),-np.random.rand()*1,\n",
    "                -np.random.rand()*1,-np.random.rand()*1] )\n",
    "\n",
    "p0 = np.array([0.,0.,-1.,0.,\n",
    "               0.,0.,-1.,0.,\n",
    "               0.,0.,-1.,0.,\n",
    "               -1.,-1.])\n",
    "\n",
    "p0 = transformations.logit(np.random.rand(ndim))\n",
    "p0 = np.random.normal(0,1,ndim)"
   ]
  },
  {
   "cell_type": "code",
   "execution_count": 339,
   "metadata": {},
   "outputs": [
    {
     "data": {
      "text/plain": [
       "(1147.2148089940306,\n",
       " array([-164.10198065, -188.44085838,  -79.91249312, -151.75721547,\n",
       "          13.7860862 ,  -60.30290338, -679.32722189, -221.0192986 ,\n",
       "          68.61722509,  237.45785972,   28.72894533]))"
      ]
     },
     "execution_count": 339,
     "metadata": {},
     "output_type": "execute_result"
    }
   ],
   "source": [
    "nll(p0)"
   ]
  },
  {
   "cell_type": "code",
   "execution_count": 342,
   "metadata": {
    "scrolled": true
   },
   "outputs": [
    {
     "name": "stdout",
     "output_type": "stream",
     "text": [
      "At iterate 1, 3598.895787182455\n",
      "[ 1.63624877  0.75507424  0.57109867  0.67120343 -0.09559155  0.60756163\n",
      "  7.2821046   0.61782692  0.83389269 -1.81231508  0.10851004]At iterate 2, 3714.9285581788154\n",
      "[ 1.63751846  0.75432765  0.57207958  0.67070505 -0.09568277  0.60789415\n",
      "  6.90704201  0.58606947  0.99814073 -1.83250911  0.09245845]At iterate 3, 3843.883564935802\n",
      "[ 1.66881821  0.74444813  0.58676435  0.66983404 -0.09693978  0.61232193\n",
      "  6.93242751  0.37544015  2.13933082 -2.06682868 -0.09940385]At iterate 4, 3873.5971584437852\n",
      "[ 1.72136958  0.72498583  0.61295375  0.66727917 -0.09916159  0.61885818\n",
      "  6.90039239  0.39242968  2.88821645 -2.41640392 -0.47017023]At iterate 5, 3889.079356798249\n",
      "[ 1.88374089  0.65581969  0.69761948  0.66195473 -0.10650763  0.63405112\n",
      "  6.89579388  0.45232086  3.79593015 -2.17522113 -0.84492366]At iterate 6, 3912.245993384174\n",
      "[ 3.87690995 -0.17398531  1.48781876  0.69598885 -0.19165654  0.69950227\n",
      "  6.87008117  0.51383388  6.00449536 -2.23624388 -1.45646684]At iterate 7, 3920.339097626368\n",
      "[ 4.6356482   0.22188171  1.8650542   0.69686081 -0.20086056  0.70665033\n",
      "  6.80845896 -0.10161148  6.04213511 -2.47614503 -1.22420647]At iterate 8, 3935.017829082455\n",
      "[ 5.29248452  0.82914397  2.44796186  0.68366739 -0.20376822  0.71929675\n",
      "  6.73409684 -0.17092228  6.08210382 -2.382048   -1.30628342]At iterate 9, 3943.81306008942\n",
      "[ 5.29319132  1.00934496  2.5523603   0.68125941 -0.20450638  0.7218153\n",
      "  6.67192864  0.05177594  6.09131153 -2.00398294 -1.40001547]At iterate 10, 3950.1506403949816\n",
      "[ 5.61703404  1.42839088  2.8619347   0.67450314 -0.20728385  0.72883543\n",
      "  6.59332524 -0.0387065   6.11545625 -1.9434509  -1.42329756]At iterate 11, 3955.5342445229326\n",
      "[ 5.8572625   2.34984817  3.46974377  0.66127364 -0.21552551  0.7425515\n",
      "  6.49139128 -0.13890273  6.1681459  -1.99376878 -1.49715062]At iterate 12, 3955.718607054733\n",
      "[ 5.81969647  2.37388575  3.47439357  0.6618076  -0.21627158  0.74225039\n",
      "  6.49486284 -0.15794224  6.16955257 -1.99781771 -1.50514567]At iterate 13, 3956.0464745223076\n",
      "[ 5.83333446  2.51001583  3.50190029  0.66754288 -0.22234214  0.73928351\n",
      "  6.4874592  -0.16576114  6.17915195 -2.02037259 -1.5579659 ]At iterate 14, 3956.575638457807\n",
      "[ 5.85807647  2.79541356  3.55532373  0.68281458 -0.23766364  0.73097746\n",
      "  6.47361828 -0.18046277  6.20167967 -2.07044732 -1.67092046]At iterate 15, 3957.259411701284\n",
      "[ 5.89873169  3.44316533  3.64411736  0.73946899 -0.28938277  0.69791198\n",
      "  6.45189843 -0.20686784  6.26688017 -2.19645746 -1.93278655]At iterate 16, 3957.681158725258\n",
      "[ 5.91431702  4.29343647  3.60490602  0.94690973 -0.45677579  0.56828903\n",
      "  6.44101987 -0.22160978  6.42128004 -2.38103442 -2.24996714]At iterate 17, 3957.690170837668\n",
      "[ 5.90259878  4.30020936  3.61430941  0.95090822 -0.4606798   0.56580923\n",
      "  6.44721131 -0.21508834  6.42440082 -2.39545845 -2.24222131]At iterate 18, 3957.7612790675676\n",
      "[ 5.90310958  4.39714143  3.72534209  1.02004522 -0.52373991  0.52297872\n",
      "  6.44438436 -0.21519691  6.47056995 -2.40581849 -2.25621751]At iterate 19, 3957.7633735818617\n",
      "[ 5.90450991  4.39759606  3.7253403   1.02057233 -0.52413152  0.52266026\n",
      "  6.44648006 -0.21537935  6.47077316 -2.40543919 -2.2566087 ]At iterate 20, 3957.836686361631\n",
      "[ 5.91149318  4.50542135  3.72511542  1.14343998 -0.61708951  0.44717428\n",
      "  6.44235705 -0.22548778  6.51858972 -2.42550652 -2.28031806]At iterate 21, 3957.8830364738396\n",
      "[ 5.88260049  4.57745244  3.77421537  1.2415526  -0.69496022  0.38834177\n",
      "  6.45674497 -0.20554151  6.5555034  -2.44466021 -2.28935704]At iterate 22, 3957.934227908282\n",
      "[ 5.90706127  4.58029353  3.77650345  1.24752539 -0.6994652   0.38486496\n",
      "  6.44436284 -0.21500517  6.55729914 -2.42895548 -2.30026423]At iterate 23, 3957.934634839222\n",
      "[ 5.90652141  4.58163999  3.77727094  1.24992715 -0.70129654  0.38345193\n",
      "  6.44449986 -0.21670684  6.55802557 -2.43077884 -2.29953693]At iterate 24, 3957.941036481372\n",
      "[ 5.90489144  4.59302425  3.78402907  1.27026453 -0.71680008  0.37151042\n",
      "  6.44507458 -0.2222818   6.56418303 -2.43782346 -2.29880158]At iterate 25, 3957.957153355843\n",
      "[ 5.90679749  4.59672973  3.78661258  1.27704855 -0.72197262  0.3675597\n",
      "  6.44392929 -0.21492313  6.56621925 -2.43136674 -2.30422716]At iterate 26, 3957.957565479708\n",
      "[ 5.90630087  4.59796363  3.78739392  1.27936318 -0.72373709  0.36620673\n",
      "  6.4442032  -0.21660095  6.56689756 -2.43321697 -2.30344792]At iterate 27, 3957.9594401563018\n",
      "[ 5.90583251  4.60044441  3.78902336  1.2840216  -0.72728854  0.36348823\n",
      "  6.4444256  -0.21808581  6.56826488 -2.4350537  -2.30310098]At iterate 28, 3957.9613038654893\n",
      "[ 5.90485523  4.60239514  3.7903509   1.28769574 -0.73009707  0.36134202\n",
      "  6.4420762  -0.21772744  6.56934434 -2.43534975 -2.30357499]At iterate 29, 3957.963135498343\n",
      "[ 5.9058582   4.60277675  3.79061676  1.28842474 -0.73064542  0.36092409\n",
      "  6.44439388 -0.21791256  6.56955542 -2.43525087 -2.30376613]At iterate 30, 3957.964709566343\n",
      "[ 5.90481354  4.60469359  3.79193478  1.29206237 -0.73342624  0.35880076\n",
      "  6.44208338 -0.21776352  6.5706189  -2.43574854 -2.30409941]At iterate 31, 3957.9665161611483\n",
      "[ 5.90571869  4.60503823  3.79217826  1.29272542 -0.73392504  0.35842098\n",
      "  6.44417147 -0.21792635  6.57081006 -2.43565694 -2.30427378]At iterate 32, 3957.969592268355\n",
      "[ 5.90517159  4.60732591  3.79377581  1.29710055 -0.7372646   0.35587399\n",
      "  6.44300411 -0.21785078  6.57208245 -2.43612255 -2.30475423]At iterate 33, 3957.9706379173213\n",
      "[ 5.90592242  4.60787651  3.79416863  1.29816521 -0.73807075  0.3552604\n",
      "  6.44474993 -0.21798942  6.57238915 -2.43608986 -2.30496155]At iterate 34, 3957.971548163156\n",
      "[ 5.90514848  4.6086127   3.79468968  1.29958281 -0.73915732  0.35443231\n",
      "  6.44300339 -0.21786022  6.57280029 -2.43633804 -2.30505471]At iterate 35, 3957.9725857451076\n",
      "[ 5.90583503  4.60911604  3.79505155  1.30055998 -0.73989726  0.35386944\n",
      "  6.44459933 -0.21798663  6.5730811  -2.43630856 -2.30524419]At iterate 36, 3957.973611085604\n",
      "[ 5.90507009  4.61002041  3.79569707  1.30230903 -0.74123654  0.35284946\n",
      "  6.4428808  -0.21786057  6.57358686 -2.43658329 -2.30537798]At iterate 37, 3957.97471276001\n",
      "[ 5.9058257   4.6105138   3.79605505  1.30327145 -0.74196473  0.35229594\n",
      "  6.44463502 -0.21799907  6.57386254 -2.43654097 -2.3055724 ]At iterate 38, 3957.975702078752\n",
      "[ 5.90501531  4.61141404  3.79670292  1.30501989 -0.74330395  0.35127661\n",
      "  6.44281252 -0.21786492  6.57436687 -2.43682269 -2.30570074]At iterate 39, 3957.9768324988345\n",
      "[ 5.90573201  4.6118552   3.79702582  1.30588437 -0.74395777  0.35077996\n",
      "  6.4444756  -0.21799602  6.57461378 -2.43677822 -2.30587897]At iterate 40, 3957.9780812643658\n",
      "[ 5.90497916  4.61295904  3.79782748  1.30803833 -0.74560586  0.34952647\n",
      "  6.44279462 -0.21787407  6.57523308 -2.43708447 -2.30606152]At iterate 41, 3957.979237770043\n",
      "[ 5.90577009  4.61343879  3.7981819   1.30898298 -0.74632029  0.34898419\n",
      "  6.4446299  -0.21801867  6.57550209 -2.43703437 -2.30625667]At iterate 42, 3957.980241783479\n",
      "[ 5.90495358  4.61434368  3.79884474  1.3107565  -0.74767887  0.34795151\n",
      "  6.44279459 -0.21788345  6.57601085 -2.43731837 -2.30638595]At iterate 43, 3957.981388181496\n",
      "[ 5.9056757   4.61478188  3.79917113  1.31162304 -0.74833427  0.34745436\n",
      "  6.44447064 -0.2180155   6.57625698 -2.43727275 -2.30656432]At iterate 44, 3957.9826586648023\n",
      "[ 5.90491835  4.61588991  3.79999018  1.31380494 -0.75000394  0.34618619\n",
      "  6.44278081 -0.21789278  6.57688088 -2.43758105 -2.30674799]At iterate 45, 3957.9838290727153\n",
      "[ 5.90571389  4.61636723  3.80034903  1.31475344 -0.75072133  0.34564242\n",
      "  6.44462731 -0.2180382   6.5771495  -2.43753004 -2.30694335]At iterate 46, 3957.9848457998687\n",
      "[ 5.90489214  4.61727271  3.80102412  1.31654432 -0.7520934   0.34460093\n",
      "  6.442781   -0.21790204  6.57766044 -2.43781553 -2.30707271]At iterate 47, 3957.9860061379177\n",
      "[ 5.90561886  4.61770894  3.80135477  1.31741485 -0.75275188  0.34410214\n",
      "  6.44446818 -0.21803492  6.57790636 -2.43776905 -2.30725138]At iterate 48, 3957.987293313792\n",
      "[ 5.90485674  4.61881664  3.80218814  1.31961602 -0.75443655  0.34282438\n",
      "  6.44276867 -0.21791133  6.57853234 -2.43807873 -2.30743509]At iterate 49, 3957.988476940645\n",
      "[ 5.90565663  4.61929194  3.80255175  1.32056911 -0.75515751  0.34227869\n",
      "  6.44462581 -0.21805754  6.5788008  -2.43802692 -2.30763074]At iterate 50, 3957.9895058982347\n",
      "[ 5.90482992  4.62019661  3.80323823  1.3223747  -0.75654109  0.34122995\n"
     ]
    },
    {
     "name": "stdout",
     "output_type": "stream",
     "text": [
      "  6.44276908 -0.21792048  6.57931316 -2.43831362 -2.3077599 ]At iterate 51, 3957.990679445248\n",
      "[ 5.90556104  4.62063125  3.80357347  1.32325    -0.75720326  0.3407291\n",
      "  6.44446699 -0.21805416  6.57955907 -2.43826639 -2.30793893]At iterate 52, 3957.9919812221333\n",
      "[ 5.90479396  4.62173677  3.80441993  1.32546681 -0.75890023  0.33944386\n",
      "  6.44275728 -0.21792966  6.58018612 -2.43857717 -2.30812224]At iterate 53, 3957.9931779732497\n",
      "[ 5.90559813  4.62221018  3.80478844  1.32642475 -0.75962496  0.33889612\n",
      "  6.44462491 -0.21807665  6.58045449 -2.4385246  -2.30831821]At iterate 54, 3957.994219134876\n",
      "[ 5.90476651  4.62311362  3.80548612  1.32824425 -0.76101948  0.33784064\n",
      "  6.44275787 -0.21793868  6.58096803 -2.43881245 -2.30844708]At iterate 55, 3957.995405858067\n",
      "[ 5.90550201  4.62354682  3.8058261   1.32912457 -0.76168556  0.33733758\n",
      "  6.44446648 -0.21807316  6.58121403 -2.43876449 -2.30862652]At iterate 56, 3957.996721638865\n",
      "[ 5.90472981  4.62464964  3.8066854   1.33135601 -0.7633941   0.33604548\n",
      "  6.44274618 -0.21794772  6.58184186 -2.43907633 -2.3088093 ]At iterate 57, 3957.997931579238\n",
      "[ 5.90553829  4.62512117  3.80705887  1.33231881 -0.76412263  0.33549571\n",
      "  6.44462437 -0.21809549  6.58211015 -2.43902299 -2.3090056 ]At iterate 58, 3957.9989852275835\n",
      "[ 5.90470173  4.62602337  3.80776788  1.33415224 -0.76552817  0.33443348\n",
      "  6.44274696 -0.21795662  6.58262488 -2.439312   -2.30913418]At iterate 59, 3958.0001851131624\n",
      "[ 5.90544173  4.62645519  3.80811268  1.33503769 -0.76619825  0.33392817\n",
      "  6.44446652 -0.21809192  6.582871   -2.43926331 -2.30931407]At iterate 60, 3958.001514710772\n",
      "[ 5.90466433  4.62755495  3.80898468  1.33728303 -0.76791788  0.33262968\n",
      "  6.44273543 -0.21796551  6.58349942 -2.43957616 -2.30949623]At iterate 61, 3958.002738020675\n",
      "[ 5.90547713  4.62802464  3.80936316  1.33825071 -0.76865025  0.33207786\n",
      "  6.44462423 -0.21811407  6.58376764 -2.43952207 -2.30969288]At iterate 62, 3958.0038039865676\n",
      "[ 5.90463563  4.62892552  3.81008359  1.34009796 -0.77006676  0.33100899\n",
      "  6.44273643 -0.2179743   6.58428354 -2.43981223 -2.30982117]At iterate 63, 3958.005017304564\n",
      "[ 5.90537995  4.62935588  3.81043319  1.34098836 -0.77074074  0.33050154\n",
      "  6.44446655 -0.21811038  6.58452974 -2.43976283 -2.31000146]At iterate 64, 3958.006361655094\n",
      "[ 5.90459754  4.6304531   3.81131843  1.34324862 -0.77247229  0.32919608\n",
      "  6.44272516 -0.21798305  6.58515904 -2.44007676 -2.31018317]At iterate 65, 3958.0075984742234\n",
      "[ 5.90541465  4.630921    3.811702    1.34422128 -0.77320861  0.32864218\n",
      "  6.44462454 -0.2181324   6.58542723 -2.44002192 -2.31038018]At iterate 66, 3958.008676874718\n",
      "[ 5.90456822  4.6318204   3.81243385  1.34608203 -0.77463589  0.32756688\n",
      "  6.44272637 -0.21799171  6.58594422 -2.44031322 -2.31050815]At iterate 67, 3958.0099036776664\n",
      "[ 5.90531689  4.63224937  3.81278836  1.3469775  -0.77531389  0.32705724\n",
      "  6.44446713 -0.21812859  6.58619053 -2.44026311 -2.31068888]At iterate 68, 3958.0112623750065\n",
      "[ 5.90452937  4.63334377  3.81368676  1.3492521  -0.77705698  0.32574519\n",
      "  6.44271516 -0.21800032  6.58682057 -2.44057811 -2.31087006]At iterate 69, 3958.0125128395125\n",
      "[ 5.90535081  4.63380988  3.81407547  1.35022973 -0.77779725  0.32518922\n",
      "  6.4446252  -0.21815045  6.58708875 -2.44052252 -2.31106744]At iterate 70, 3958.013603923074\n",
      "[ 5.9044994   4.63470786  3.81481892  1.35210406 -0.77923544  0.32410746\n",
      "  6.44271656 -0.21800885  6.58760685 -2.44081498 -2.31119511]At iterate 71, 3958.014844334054\n",
      "[ 5.90525251  4.63513545  3.8151784   1.35300465 -0.77991751  0.32359562\n",
      "  6.44446818 -0.21814655  6.5878533  -2.44076416 -2.3113763 ]At iterate 72, 3958.016217446232\n",
      "[ 5.90445977  4.63622692  3.81609     1.35529333 -0.781672    0.32227715\n",
      "  6.44270541 -0.21801731  6.58848402 -2.44108022 -2.31155694]At iterate 73, 3958.0174816366325\n",
      "[ 5.90528561  4.63669126  3.81648391  1.3562759  -0.78241625  0.32171915\n",
      "  6.44462623 -0.21816824  6.58875218 -2.44102388 -2.3117547 ]At iterate 74, 3958.018585531997\n",
      "[ 5.9044292   4.63758778  3.81723908  1.35816379 -0.78386538  0.32063099\n",
      "  6.4427071  -0.21802573  6.5892714  -2.4413175  -2.31188207]At iterate 75, 3958.0198397057748\n",
      "[ 5.90518677  4.63801403  3.81760359  1.3590695  -0.78455155  0.32011694\n",
      "  6.44446961 -0.21816423  6.589518   -2.44126597 -2.31206372]At iterate 76, 3958.0212272148165\n",
      "[ 5.90438877  4.63910256  3.81852852  1.3613722  -0.78631748  0.31879213\n",
      "  6.44269593 -0.21803402  6.59014941 -2.44158312 -2.31224382]At iterate 77, 3958.022505479573\n",
      "[ 5.90521899  4.63956512  3.81892766  1.36235965 -0.78706567  0.31823213\n",
      "  6.44462754 -0.21818576  6.59041755 -2.44152603 -2.31244196]At iterate 78, 3958.023622318966\n",
      "[ 5.90435753  4.64046033  3.81969481  1.36426141 -0.78852605  0.31713741\n",
      "  6.44269777 -0.21804231  6.59093799 -2.44182086 -2.31256907]At iterate 79, 3958.024890488493\n",
      "[ 5.90511954  4.64088517  3.82006435  1.36517209 -0.78921622  0.31662127\n",
      "  6.44447116 -0.21818163  6.59118471 -2.44176862 -2.31275118]At iterate 80, 3958.0262933184413\n",
      "[ 5.9043164   4.6419711   3.82100306  1.36748949 -0.79099419  0.31528975\n",
      "  6.44268686 -0.21805046  6.59181702 -2.44208689 -2.31293084]At iterate 81, 3958.027585431527\n",
      "[ 5.90515102  4.64243192  3.82140751  1.36848187 -0.79174641  0.31472775\n",
      "  6.4446293  -0.21820301  6.59208516 -2.44202906 -2.31312939]At iterate 82, 3958.0287153661493\n",
      "[ 5.90428451  4.64332568  3.82218667  1.37039718 -0.79321784  0.31362669\n",
      "  6.44268892 -0.21805864  6.59260675 -2.44232509 -2.31325622]At iterate 83, 3958.0299975625812\n",
      "[ 5.90505102  4.64374919  3.82256136  1.37131297 -0.79391217  0.31310838\n",
      "  6.44447333 -0.21819878  6.59285364 -2.44227213 -2.31343882]At iterate 84, 3958.0314149857286\n",
      "[ 5.90424257  4.64483218  3.82351368  1.37364429 -0.79570165  0.31177064\n",
      "  6.44267801 -0.21806663  6.59348665 -2.44259151 -2.31361795]At iterate 85, 3958.0327213608707\n",
      "[ 5.90508163  4.64529125  3.82392347  1.37464154 -0.79645787  0.31120668\n",
      "  6.44463138 -0.21821999  6.5937548  -2.44253294 -2.31381691]At iterate 86, 3958.0338645911106\n",
      "[ 5.90421004  4.64618365  3.82471486  1.37657058 -0.79794058  0.3100992\n",
      "  6.4426803  -0.21807468  6.5942776  -2.44283018 -2.31394349]At iterate 87, 3958.0351609684244\n",
      "[ 5.90498109  4.64660583  3.82509474  1.37749143 -0.79863904  0.30957877\n",
      "  6.44447584 -0.21821566  6.59452465 -2.44277651 -2.31412658]At iterate 88, 3958.0365933781986\n",
      "[ 5.90416732  4.64768594  3.82606088  1.37983673 -0.80044018  0.30823479\n",
      "  6.44266948 -0.21808252  6.59515842 -2.44309702 -2.31430521]At iterate 89, 3958.037914061884\n",
      "[ 5.90501084  4.64814327  3.82647607  1.38083883 -0.80120042  0.3076689\n",
      "  6.44463381 -0.2182367   6.59542658 -2.4430377  -2.31450459]At iterate 90, 3958.0390707087477\n",
      "[ 5.90413413  4.64903431  3.82727986  1.3827816  -0.80269447  0.30655503\n",
      "  6.44267198 -0.21809045  6.59595061 -2.44333618 -2.31463093]At iterate 91, 3958.0403814805\n",
      "[ 5.90490974  4.64945515  3.82766497  1.38370748 -0.80339709  0.3060325\n",
      "  6.44447868 -0.21823227  6.59619783 -2.44328179 -2.31481452]At iterate 92, 3958.041828958905\n",
      "[ 5.90409061  4.6505325   3.82864518  1.38606694 -0.8052101   0.30468223\n",
      "  6.4426612  -0.21809814  6.59683244 -2.44360347 -2.31499268]At iterate 93, 3958.043164335031\n",
      "[ 5.90493861  4.65098809  3.82906581  1.38707382 -0.80597435  0.30411445\n",
      "  6.44463658 -0.21825314  6.59710061 -2.44354339 -2.31519249]At iterate 94, 3958.0443343730967\n",
      "[ 5.90405677  4.65187784  3.8298822   1.38903042 -0.8074799   0.30299416\n",
      "  6.44266394 -0.21810594  6.59762592 -2.44384314 -2.3153186 ]At iterate 95, 3958.0456597385837\n",
      "[ 5.90483684  4.65229727  3.83027253  1.38996113 -0.80818654  0.30246967\n",
      "  6.44448157 -0.21824858  6.59787327 -2.44378804 -2.31550267]At iterate 96, 3958.047123161093\n",
      "[ 5.90401254  4.65337223  3.8312673   1.39233551 -0.8100121   0.3011127\n",
      "  6.44265342 -0.21811349  6.59850895 -2.44411093 -2.3156805 ]At iterate 97, 3958.048473081086\n",
      "[ 5.904865    4.65382613  3.83169347  1.39334724 -0.81078045  0.30054301\n",
      "  6.4446398  -0.21826931  6.59877717 -2.44405011 -2.31588075]At iterate 98, 3958.04965681926\n",
      "[ 5.90397804  4.65471442  3.83252246  1.39531727 -0.81229727  0.29941656\n",
      "  6.4426564  -0.21812117  6.59930367 -2.44435109 -2.31600661]At iterate 99, 3958.0509965812844\n",
      "[ 5.90476274  4.6551326   3.83291821  1.3962531  -0.81300821  0.29888995\n"
     ]
    },
    {
     "name": "stdout",
     "output_type": "stream",
     "text": [
      "  6.44448538 -0.21826466  6.59955124 -2.44429528 -2.31619122]At iterate 100, 3958.0524748981707\n",
      "[ 5.903933    4.65620439  3.83392696  1.39864057 -0.81484501  0.29752735\n",
      "  6.4426459  -0.21812856  6.60018754 -2.44461929 -2.31636849]At iterate 101, 3958.0538393129714\n",
      "[ 5.90478994  4.65665659  3.83435871  1.39965708 -0.81561744  0.29695581\n",
      "  6.44464334 -0.21828521  6.6004558  -2.44455774 -2.31656919]At iterate 102, 3958.055036807622\n",
      "[ 5.90389785  4.6575435   3.83520052  1.40164067 -0.81714572  0.29582316\n",
      "  6.44264911 -0.21813612  6.60098356 -2.44485999 -2.31669483]At iterate 103, 3958.0563912895814\n",
      "[ 5.90468712  4.65796037  3.83560168  1.40258147 -0.81786087  0.29529453\n",
      "  6.44448934 -0.21828046  6.60123133 -2.44480347 -2.31687997]At iterate 104, 3958.057884952552\n",
      "[ 5.90385197  4.65902938  3.83662494  1.40498279 -0.8197096   0.29392589\n",
      "  6.44263862 -0.21814335  6.60186849 -2.44512868 -2.3170568 ]At iterate 105, 3958.0592643418836\n",
      "[ 5.90471343  4.65947988  3.8370623   1.40600399 -0.8204861   0.29335256\n",
      "  6.4446472  -0.21830084  6.60213679 -2.44506637 -2.31725795]At iterate 106, 3958.0604756312246\n",
      "[ 5.90381616  4.66036549  3.83791716  1.40800127 -0.82202602  0.29221366\n",
      "  6.44264208 -0.21815079  6.60266587 -2.44536992 -2.3173834 ]At iterate 107, 3958.0618450103048\n",
      "[ 5.90460997  4.660781    3.83832374  1.40894687 -0.82274529  0.29168312\n",
      "  6.44449344 -0.21829596  6.60291381 -2.44531269 -2.31756905]At iterate 108, 3958.0633547753096\n",
      "[ 5.90376954  4.66184752  3.83936192  1.41136259 -0.82460648  0.29030818\n",
      "  6.4426318  -0.21815787  6.60355201 -2.44563913 -2.31774554]At iterate 109, 3958.064749039886\n",
      "[ 5.90463549  4.66229635  3.83980498  1.4123885  -0.82538709  0.28973305\n",
      "  6.44465147 -0.21831619  6.60382039 -2.4455761  -2.31794716]At iterate 110, 3958.0659742221524\n",
      "[ 5.90373306  4.66318057  3.84067296  1.41439921 -0.82693856  0.28858808\n",
      "  6.44263548 -0.21816519  6.60435074 -2.44588092 -2.3180724 ]At iterate 111, 3958.067358512031\n",
      "[ 5.90453141  4.66359477  3.84108505  1.41534966 -0.82766203  0.28805561\n",
      "  6.44449802 -0.21831121  6.60459888 -2.44582299 -2.31825858]At iterate 112, 3958.068884083498\n",
      "[ 5.90368566  4.66465862  3.84213814  1.41777925 -0.82953538  0.2866747\n",
      "  6.44262533 -0.21817213  6.60523804 -2.44615066 -2.31843468]At iterate 113, 3958.0702934291676\n",
      "[ 5.9045561   4.66510579  3.84258695  1.41880983 -0.83032013  0.28609781\n",
      "  6.44465611 -0.21833128  6.60550649 -2.44608689 -2.31863678]At iterate 114, 3958.0715326493505\n",
      "[ 5.90364851  4.66598861  3.84346821  1.42083388 -0.83188316  0.28494685\n",
      "  6.44262924 -0.21817932  6.60603814 -2.44639301 -2.31876182]At iterate 115, 3958.0729318366616\n",
      "[ 5.90445145  4.66640153  3.84388588  1.42178918 -0.83261088  0.28441246\n",
      "  6.44450307 -0.21832619  6.6062865  -2.44633438 -2.31894855]At iterate 116, 3958.0744731783693\n",
      "[ 5.90360034  4.66746254  3.84495388  1.42423214 -0.83449614  0.28302589\n",
      "  6.44261925 -0.21818611  6.60692652 -2.44666325 -2.31912424]At iterate 117, 3958.075897488826\n",
      "[ 5.90447526  4.66790808  3.8454085   1.42526736 -0.83528504  0.28244728\n",
      "  6.44466112 -0.21834609  6.60719506 -2.44659876 -2.31932682]At iterate 118, 3958.077150793868\n",
      "[ 5.9035625   4.66878949  3.84630317  1.42730464 -0.83685966  0.28129042\n",
      "  6.44262337 -0.21819317  6.60772801 -2.44690618 -2.31945167]At iterate 119, 3958.0785650892058\n",
      "[ 5.90437     4.66920113  3.84672648  1.42826472 -0.83759163  0.28075416\n",
      "  6.44450843 -0.21834089  6.60797659 -2.44684685 -2.31963895]At iterate 120, 3958.080122281654\n",
      "[ 5.90351351  4.67025946  3.84780968  1.43072128 -0.83948908  0.27936183\n",
      "  6.44261341 -0.2181998   6.60861759 -2.44717697 -2.31981427]At iterate 121, 3958.08156180443\n",
      "[ 5.90439295  4.67070336  3.84827016  1.43176105 -0.84028211  0.27878156\n",
      "  6.44466646 -0.21836063  6.60888622 -2.44711176 -2.32001734]At iterate 122, 3958.082829392555\n",
      "[ 5.90347502  4.6715834   3.84917844  1.43381156 -0.84186843  0.27761882\n",
      "  6.44261781 -0.21820675  6.60942051 -2.44742049 -2.32014202]At iterate 123, 3958.0842588269825\n",
      "[ 5.90428715  4.67199378  3.84960747  1.43477644 -0.8426047   0.2770807\n",
      "  6.44451427 -0.21835533  6.60966934 -2.44736046 -2.32032987]At iterate 124, 3958.0858316348967\n",
      "[ 5.90342519  4.67304929  3.85070588  1.43724611 -0.84451411  0.27568292\n",
      "  6.44260787 -0.21821322  6.61031124 -2.44769183 -2.32050479]At iterate 125, 3958.087286639515\n",
      "[ 5.90430915  4.67349154  3.85117225  1.43829032 -0.84531124  0.27510106\n",
      "  6.44467209 -0.21837489  6.61057997 -2.44762588 -2.32070835]At iterate 126, 3958.0885683495817\n",
      "[ 5.90338603  4.67437032  3.8520944   1.4403542  -0.84690948  0.27393241\n",
      "  6.4426125  -0.21822005  6.61111567 -2.44793596 -2.3208329 ]At iterate 127, 3958.0900132762554\n",
      "[ 5.9042026   4.67477933  3.85252907  1.44132353 -0.84764983  0.27339263\n",
      "  6.44451995 -0.21836945  6.61136468 -2.44787524 -2.32102127]At iterate 128, 3958.091603117681\n",
      "[ 5.90333544  4.67583273  3.85364358  1.44380781 -0.84957248  0.27198858\n",
      "  6.4426028  -0.21822638  6.61200793 -2.44820794 -2.321196  ]At iterate 129, 3958.093073359658\n",
      "[ 5.90422389  4.67627337  3.85411593  1.44485647 -0.85037378  0.27140514\n",
      "  6.44467817 -0.21838888  6.61227677 -2.44814128 -2.32140007]At iterate 130, 3958.0943695480737\n",
      "[ 5.90329562  4.67715074  3.85505196  1.44693329 -0.85198373  0.27023083\n",
      "  6.44260771 -0.21823309  6.61281382 -2.44845269 -2.32152447]At iterate 131, 3958.0958296083527\n",
      "[ 5.90411685  4.67755854  3.85549249  1.44790738 -0.85272845  0.26968925\n",
      "  6.44452664 -0.21838336  6.61306311 -2.44839128 -2.32171343]At iterate 132, 3958.0974348892505\n",
      "[ 5.90324422  4.67860893  3.85662232  1.45040397 -0.85466272  0.26828025\n",
      "  6.44259805 -0.21823926  6.61370717 -2.44872521 -2.32188774]At iterate 133, 3958.098920557376\n",
      "[ 5.90413716  4.67904796  3.85710068  1.45145698 -0.85546817  0.26769529\n",
      "  6.44468456 -0.2184026   6.61397614 -2.44865783 -2.32209232]At iterate 134, 3958.1002310713825\n",
      "[ 5.90320373  4.67992398  3.85805081  1.45354676 -0.85708995  0.26651536\n",
      "  6.44260323 -0.21824584  6.61451459 -2.44897058 -2.32221658]At iterate 135, 3958.1017064881744\n",
      "[ 5.90402947  4.68033049  3.85849716  1.45452532 -0.85783888  0.26597213\n",
      "  6.44453328 -0.21839696  6.61476412 -2.44890849 -2.3224061 ]At iterate 136, 3958.103328259523\n",
      "[ 5.90315158  4.68137837  3.85964297  1.45703523 -0.85978569  0.26455766\n",
      "  6.44259381 -0.21825188  6.61540931 -2.44924371 -2.32258014]At iterate 137, 3958.1048292570586\n",
      "[ 5.90404897  4.68181583  3.86012744  1.45809259 -0.86059534  0.2639712\n",
      "  6.44469136 -0.21841606  6.61567843 -2.44917564 -2.32278524]At iterate 138, 3958.106154225673\n",
      "[ 5.90311041  4.68269042  3.86109172  1.46019498 -0.86222884  0.26278585\n",
      "  6.44259921 -0.21825834  6.61621824 -2.44948972 -2.32290936]At iterate 139, 3958.1076450970813\n",
      "[ 5.90394071  4.6830957   3.86154401  1.46117809 -0.86298208  0.26224095\n",
      "  6.44454053 -0.2184103   6.61646805 -2.44942695 -2.32309948]At iterate 140, 3958.1092826034546\n",
      "[ 5.90305735  4.6841409   3.86270577  1.4637007  -0.86494111  0.26082138\n",
      "  6.44258964 -0.2182642   6.61711429 -2.44976348 -2.32327319]At iterate 141, 3958.11079943843\n",
      "[ 5.90395923  4.68457673  3.86319632  1.46476216 -0.86575484  0.26023356\n",
      "  6.44469835 -0.21842922  6.61738351 -2.44969469 -2.32347881]At iterate 142, 3958.112138785622\n",
      "[ 5.90301549  4.68545015  3.8641752   1.46687767 -0.86740056  0.25904256\n",
      "  6.44259528 -0.21827054  6.61792487 -2.45001017 -2.32360286]At iterate 143, 3958.113645267379\n",
      "[ 5.90385021  4.68585406  3.86463331  1.46786489 -0.86815785  0.25849623\n",
      "  6.44454754 -0.21842333  6.61817488 -2.44994672 -2.32379352]At iterate 144, 3958.1153003030995\n",
      "[ 5.9029618   4.68689722  3.86581188  1.47040154 -0.87013028  0.25707085\n",
      "  6.44258624 -0.21827629  6.61882257 -2.4502846  -2.32396713]At iterate 145, 3958.1168323774436\n",
      "[ 5.90386808  4.68733151  3.86630867  1.47146724 -0.87094826  0.25648161\n",
      "  6.44470591 -0.21844213  6.61909198 -2.45021513 -2.32417328]At iterate 146, 3958.118186241622\n",
      "[ 5.9029193   4.68820338  3.86730186  1.47359475 -0.8726055   0.25528559\n",
      "  6.44259219 -0.21828251  6.61963465 -2.45053193 -2.32429719]At iterate 147, 3958.1197078472924\n",
      "[ 5.90375857  4.68860613  3.86776609  1.47458652 -0.87336723  0.25473761\n",
      "  6.44455572 -0.21843616  6.61988499 -2.45046782 -2.32448847]At iterate 148, 3958.121378133674\n",
      "[ 5.90286476  4.68964617  3.86896038  1.47713435 -0.87535102  0.25330804\n"
     ]
    },
    {
     "name": "stdout",
     "output_type": "stream",
     "text": [
      "  6.44258311 -0.21828809  6.62053348 -2.45080694 -2.32466166]At iterate 149, 3958.1229258522603\n",
      "[ 5.90377544  4.69007892  3.86946342  1.47820412 -0.87617319  0.25271749\n",
      "  6.44471374 -0.21845477  6.62080306 -2.45073678 -2.32486835]At iterate 150, 3958.1242939935373\n",
      "[ 5.90282159  4.69094937  3.87047123  1.48034384 -0.87784224  0.25151637\n",
      "  6.44258931 -0.21829419  6.62134716 -2.45105493 -2.32499217]At iterate 151, 3958.1258311537313\n",
      "[ 5.90366521  4.69135084  3.87094146  1.48133971 -0.87860814  0.250967\n",
      "  6.44456363 -0.21844866  6.62159776 -2.45099018 -2.32518401]At iterate 152, 3958.127518291543\n",
      "[ 5.90276627  4.69238861  3.87215261  1.48390057 -0.88060491  0.24953223\n",
      "  6.4425804  -0.21829963  6.62224759 -2.45133064 -2.32535706]At iterate 153, 3958.1290813247597\n",
      "[ 5.90368134  4.69281983  3.87266196  1.48497437 -0.88143129  0.2489404\n",
      "  6.44472195 -0.21846714  6.62251736 -2.45125981 -2.32556429]At iterate 154, 3958.1304640369153\n",
      "[ 5.90272247  4.69368879  3.87368444  1.48712588 -0.883112    0.24773444\n",
      "  6.44258693 -0.21830562  6.62306285 -2.4515793  -2.32568801]At iterate 155, 3958.1320164842964\n",
      "[ 5.9035706   4.6940891   3.87416087  1.48812608 -0.88388229  0.24718357\n",
      "  6.44457244 -0.21846093  6.62331379 -2.4515139  -2.32588047]At iterate 156, 3958.133718877594\n",
      "[ 5.90266626  4.69512394  3.87538822  1.49069809 -0.88589076  0.24574467\n",
      "  6.4425779  -0.21831089  6.62396458 -2.45185564 -2.32605318]At iterate 157, 3958.135297570908\n",
      "[ 5.90358568  4.6955536   3.87590388  1.49177566 -0.88672123  0.24515172\n",
      "  6.44473031 -0.21847922  6.62423451 -2.45178414 -2.32626095]At iterate 158, 3958.136694884619\n",
      "[ 5.90262173  4.69642138  3.87694153  1.49393957 -0.88841421  0.24394061\n",
      "  6.44258456 -0.21831675  6.6247816  -2.45210504 -2.32638464]At iterate 159, 3958.1382629062496\n",
      "[ 5.9034743   4.6968204   3.87742405  1.49494367 -0.88918865  0.24338848\n",
      "  6.44458109 -0.2184729   6.62503281 -2.45203897 -2.3265777 ]At iterate 160, 3958.139982093727\n",
      "[ 5.90256482  4.69785298  3.87866853  1.49752819 -0.89121006  0.24194473\n",
      "  6.44257587 -0.21832189  6.62568497 -2.45238209 -2.32675028]At iterate 161, 3958.141576250088\n",
      "[ 5.90348859  4.6982811   3.87919057  1.49860952 -0.89204469  0.24135067\n",
      "  6.44473914 -0.21849104  6.6259551  -2.45230992 -2.3269586 ]At iterate 162, 3958.142987914999\n",
      "[ 5.90251967  4.69914747  3.88024327  1.50078504 -0.8937495   0.24013487\n",
      "  6.44258289 -0.21832764  6.62650367 -2.45263218 -2.32708223]At iterate 163, 3958.144571322152\n",
      "[ 5.90337656  4.69954526  3.88073196  1.50179303 -0.89452815  0.2395815\n",
      "  6.44459016 -0.21848461  6.62675518 -2.45256549 -2.32727588]At iterate 164, 3958.146306864908\n",
      "[ 5.902462    4.7005754   3.88199351  1.50438936 -0.89656215  0.23813332\n",
      "  6.44257437 -0.21833264  6.62740863 -2.45290994 -2.3274483 ]At iterate 165, 3958.1479163605736\n",
      "[ 5.90339004  4.70100203  3.882522    1.50547438 -0.89740096  0.2375382\n",
      "  6.44474833 -0.2185026   6.62767898 -2.45283712 -2.32765718]At iterate 166, 3958.149342515019\n",
      "[ 5.90241623  4.70186692  3.88358979  1.5076611  -0.89911746  0.23631797\n",
      "  6.44258176 -0.21833828  6.62822899 -2.45316073 -2.32778076]At iterate 167, 3958.1509410953267\n",
      "[ 5.90327753  4.70226356  3.88408483  1.50867312 -0.8999005   0.23576327\n",
      "  6.44460001 -0.21849609  6.62848086 -2.45309341 -2.32797504]At iterate 168, 3958.152691718591\n",
      "[ 5.90235766  4.7032908   3.88536296  1.51127975 -0.90194613  0.23431153\n",
      "  6.44257306 -0.21834311  6.62913532 -2.45343915 -2.32814717]At iterate 169, 3958.1543167763098\n",
      "[ 5.90328998  4.70371589  3.88589791  1.51236824 -0.90278903  0.23371548\n",
      "  6.44475774 -0.21851389  6.62940587 -2.45336568 -2.3283566 ]At iterate 170, 3958.155757253367\n",
      "[ 5.9023112   4.70457954  3.88698122  1.51456654 -0.90451769  0.23249062\n",
      "  6.44258064 -0.21834863  6.6299575  -2.4536907  -2.32848019]At iterate 171, 3958.157371390447\n",
      "[ 5.90317673  4.70497488  3.88748242  1.51558203 -0.90530476  0.23193495\n",
      "  6.44460943 -0.21850724  6.63020964 -2.45362275 -2.32867504]At iterate 172, 3958.1591390998146\n",
      "[ 5.90225194  4.70600016  3.88877845  1.51820106 -0.90736385  0.23047849\n",
      "  6.44257233 -0.21835334  6.63086571 -2.45396991 -2.32884717]At iterate 173, 3958.160779408573\n",
      "[ 5.90318847  4.70642376  3.88931992  1.51929296 -0.90821088  0.22988156\n",
      "  6.44476753 -0.21852491  6.63113649 -2.45389581 -2.32905716]At iterate 174, 3958.16223426301\n",
      "[ 5.90220482  4.70728603  3.89041871  1.52150223 -0.90995143  0.22865244\n",
      "  6.44258016 -0.21835874  6.63168967 -2.45422221 -2.32918075]At iterate 175, 3958.163863486364\n",
      "[ 5.90307465  4.70768018  3.89092626  1.52252135 -0.91074273  0.22809569\n",
      "  6.44461966 -0.21851816  6.63194215 -2.45415364 -2.32937621]At iterate 176, 3958.16564692742\n",
      "[ 5.90214484  4.70870284  3.89223948  1.52515077 -0.91281394  0.22663567\n",
      "  6.44257205 -0.21836331  6.63259943 -2.45450212 -2.32954818]At iterate 177, 3958.1673024251268\n",
      "[ 5.90308551  4.70912497  3.89278752  1.52624597 -0.91366511  0.22603791\n",
      "  6.44477768 -0.21853568  6.63287046 -2.4544274  -2.32975874]At iterate 178, 3958.1687714244313\n",
      "[ 5.90209708  4.7099858   3.89390184  1.52846582 -0.91541741  0.22480478\n",
      "  6.44258018 -0.21836859  6.63342516 -2.45475516 -2.32988232]At iterate 179, 3958.170415710907\n",
      "[ 5.90297108  4.71037875  3.89441575  1.5294884  -0.9162129   0.22424707\n",
      "  6.44463011 -0.21852882  6.63367798 -2.454686   -2.33007839]At iterate 180, 3958.172214968711\n",
      "[ 5.90203634  4.71139895  3.89574647  1.53212824 -0.91829649  0.22278348\n",
      "  6.44257221 -0.21837303  6.6343366  -2.45503582 -2.33025025]At iterate 181, 3958.173885552675\n",
      "[ 5.90298109  4.71181961  3.89630112  1.5332266  -0.91915177  0.22218499\n",
      "  6.4447881  -0.21854618  6.63460788 -2.45496049 -2.33046137]At iterate 182, 3958.1753686595957\n",
      "[ 5.9019879   4.71267907  3.89743115  1.53545688 -0.92091591  0.22094795\n",
      "  6.44258053 -0.21837819  6.63516416 -2.45528963 -2.33058498]At iterate 183, 3958.177028051261\n",
      "[ 5.90286604  4.71307081  3.89795145  1.53648274 -0.92171555  0.22038937\n",
      "  6.44464081 -0.2185392   6.63541732 -2.45521988 -2.33078165]At iterate 184, 3958.178843073194\n",
      "[ 5.90192638  4.71408869  3.89929997  1.53913304 -0.92381177  0.21892222\n",
      "  6.44257266 -0.21838248  6.63607738 -2.45557107 -2.33095346]At iterate 185, 3958.180528980723\n",
      "[ 5.90287522  4.71450787  3.89986123  1.54023438 -0.92467111  0.21832311\n",
      "  6.44479883 -0.21855642  6.63634891 -2.45549513 -2.33116514]At iterate 186, 3958.1820259120955\n",
      "[ 5.90187736  4.71536595  3.90100709  1.54247476 -0.92644706  0.21708235\n",
      "  6.44258136 -0.21838754  6.63690679 -2.45582564 -2.33128879]At iterate 187, 3958.1837001726212\n",
      "[ 5.90275948  4.71575645  3.90153376  1.54350368 -0.92725074  0.21652304\n",
      "  6.44465163 -0.21854932  6.63716027 -2.45575532 -2.33148605]At iterate 188, 3958.1855314753143\n",
      "[ 5.90181518  4.71677212  3.90290032  1.54616432 -0.92935975  0.21505242\n",
      "  6.44257387 -0.21839171  6.63782186 -2.45610787 -2.33165788]At iterate 189, 3958.1872321380456\n",
      "[ 5.90276796  4.71718989  3.9034683   1.54726861 -0.93022324  0.21445271\n",
      "  6.44480998 -0.21856641  6.63809368 -2.45603136 -2.33187013]At iterate 190, 3958.1887427580546\n",
      "[ 5.90176553  4.7180464   3.90462985  1.54951833 -0.93201059  0.21320868\n",
      "  6.44258284 -0.21839665  6.63865305 -2.45636319 -2.3319938 ]At iterate 191, 3958.19043166967\n",
      "[ 5.90265161  4.71843574  3.90516301  1.55055036 -0.93281846  0.21264862\n",
      "  6.44466307 -0.21855919  6.63890691 -2.45629233 -2.33219166]At iterate 192, 3958.1922779752886\n",
      "[ 5.90170254  4.71944892  3.90654733  1.55322018 -0.93493961  0.21117518\n",
      "  6.44257532 -0.21840067  6.63956985 -2.45664621 -2.33236342]At iterate 193, 3958.1939933900635\n",
      "[ 5.90265925  4.71986525  3.90712202  1.55432719 -0.93580715  0.210575\n",
      "  6.44482134 -0.21857613  6.63984195 -2.45656912 -2.33257624]At iterate 194, 3958.1955178195158\n",
      "[ 5.90165227  4.72072035  3.90829955  1.55658629 -0.93760618  0.20932769\n",
      "  6.44258456 -0.21840551  6.64040293 -2.45690231 -2.33269998]At iterate 195, 3958.1972212111114\n",
      "[ 5.90254237  4.72110853  3.90883924  1.55762126 -0.9384182   0.20876698\n",
      "  6.44467487 -0.21856882  6.64065717 -2.45683089 -2.33289846]At iterate 196, 3958.199082572597\n",
      "[ 5.90158854  4.72211917  3.91024132  1.56029972 -0.94055131  0.20729105\n",
      "  6.44257715 -0.21840938  6.64132145 -2.4571861  -2.33307015]At iterate 197, 3958.200812288601\n",
      "[ 5.90254912  4.72253406  3.91082274  1.56140927 -0.94142286  0.20669051\n"
     ]
    },
    {
     "name": "stdout",
     "output_type": "stream",
     "text": [
      "  6.44483297 -0.21858559  6.64159384 -2.45710845 -2.33328354]At iterate 198, 3958.202350229732\n",
      "[ 5.90153769  4.72338774  3.91201635  1.56367741 -0.94323352  0.20544013\n",
      "  6.44258675 -0.21841412  6.64215643 -2.45744299 -2.33340736]At iterate 199, 3958.20406805218\n",
      "[ 5.90243166  4.72377474  3.91256255  1.56471508 -0.94404961  0.2048789\n",
      "  6.4446868  -0.21857818  6.64241106 -2.45737103 -2.33360645]At iterate 200, 3958.2059443622975\n",
      "[ 5.90147321  4.72478306  3.91398278  1.56740233 -0.94619507  0.20340041\n",
      "  6.44257942 -0.21841786  6.64307683 -2.4577276  -2.33377816]At iterate 201, 3958.207688484694\n",
      "[ 5.90243758  4.72519653  3.91457093  1.56851421 -0.94707059  0.20279962\n",
      "  6.44484485 -0.21859481  6.64334951 -2.4576494  -2.33399211]At iterate 202, 3958.2092399625813\n",
      "[ 5.90142174  4.72604887  3.91578082  1.57079124 -0.948893    0.20154628\n",
      "  6.44258928 -0.21842249  6.64391379 -2.45798531 -2.33411606]At iterate 203, 3958.2109719019863\n",
      "[ 5.90231961  4.72643471  3.91633357  1.57183148 -0.94971315  0.20098461\n",
      "  6.44469913 -0.2185873   6.6441688  -2.45791282 -2.33431576]At iterate 204, 3958.212862948555\n",
      "[ 5.90135659  4.72744057  3.91777183  1.57452669 -0.95187059  0.19950403\n",
      "  6.44258219 -0.2184261   6.644836   -2.45827071 -2.33448747]At iterate 205, 3958.2146211428526\n",
      "[ 5.90232468  4.72785262  3.91836675  1.57564076 -0.95275007  0.19890308\n",
      "  6.44485704 -0.21860377  6.64510898 -2.45819198 -2.33470199]At iterate 206, 3958.216185721777\n",
      "[ 5.90130453  4.72870356  3.91959292  1.57792613 -0.95458405  0.19764708\n",
      "  6.44259232 -0.21843062  6.64567493 -2.45852924 -2.33482606]At iterate 207, 3958.2179316822494\n",
      "[ 5.90220609  4.7290882   3.92015218  1.57896868 -0.95540815  0.19708513\n",
      "  6.44471151 -0.21859616  6.64593031 -2.45845624 -2.33502635]At iterate 208, 3958.219837564475\n",
      "[ 5.90123871  4.73009188  3.92160891  1.58167209 -0.95757806  0.19560234\n",
      "  6.44258547 -0.21843412  6.64659912 -2.45881548 -2.33519816]At iterate 209, 3958.221609729202\n",
      "[ 5.90221042  4.73050253  3.92221063  1.58278819 -0.95846149  0.19500132\n",
      "  6.44486954 -0.2186125   6.64687243 -2.45873624 -2.33541324]At iterate 210, 3958.2231872931407\n",
      "[ 5.90118606  4.73135203  3.92345308  1.58508138 -0.96030687  0.19374297\n",
      "  6.4425959  -0.21843854  6.64744001 -2.45907482 -2.33553745]At iterate 211, 3958.2249468173977\n",
      "[ 5.90209131  4.73173553  3.92401894  1.58612617 -0.96113498  0.19318077\n",
      "  6.4447244  -0.21860479  6.64769581 -2.45900133 -2.33573834]At iterate 212, 3958.226866795777\n",
      "[ 5.90111959  4.73273671  3.92549377  1.58883649 -0.96331662  0.19169649\n",
      "  6.44258927 -0.21844191  6.64836604 -2.45936188 -2.33591019]At iterate 213, 3958.22865253538\n",
      "[ 5.90209484  4.73314599  3.92610232  1.58995447 -0.96420399  0.19109549\n",
      "  6.44488234 -0.21862098  6.64863969 -2.45928215 -2.33612583]At iterate 214, 3958.23024259251\n",
      "[ 5.9010664   4.73399398  3.92736101  1.59225488 -0.96606057  0.18983513\n",
      "  6.44260002 -0.21844623  6.64920889 -2.45962203 -2.33625018]At iterate 215, 3958.23201562095\n",
      "[ 5.9019751   4.73437631  3.92793343  1.59330164 -0.96689259  0.18927284\n",
      "  6.44473732 -0.21861316  6.64946508 -2.45954807 -2.33645166]At iterate 216, 3958.233949821196\n",
      "[ 5.90099922  4.73537531  3.92942685  1.59601918 -0.96908651  0.18778691\n",
      "  6.4425935  -0.21844947  6.65013696 -2.45990995 -2.33662365]At iterate 217, 3958.2357489748442\n",
      "[ 5.90197791  4.73578322  3.93004223  1.5971388  -0.96997776  0.18718606\n",
      "  6.44489535 -0.21862922  6.65041095 -2.45982975 -2.33683985]At iterate 218, 3958.2373514893034\n",
      "[ 5.90094546  4.73662976  3.93131732  1.59944619 -0.97184561  0.18592383\n",
      "  6.44260451 -0.21845368  6.65098183 -2.46017093 -2.33696438]At iterate 219, 3958.2391376269106\n",
      "[ 5.90185765  4.73701094  3.93189634  1.60049477 -0.97268155  0.18536153\n",
      "  6.44475066 -0.2186213   6.65123843 -2.46009652 -2.33716645]At iterate 220, 3958.2410855030967\n",
      "[ 5.90087764  4.73800759  3.93340813  1.60321853 -0.97488727  0.18387451\n",
      "  6.44259819 -0.21845681  6.65191185 -2.4604597  -2.33733855]At iterate 221, 3958.242897682553\n",
      "[ 5.90185967  4.73841413  3.93403034  1.60433959 -0.97578236  0.18327392\n",
      "  6.44490863 -0.21863722  6.65218619 -2.46037904 -2.33755531]At iterate 222, 3958.2445123277653\n",
      "[ 5.90082333  4.73925921  3.93532186  1.60665347 -0.97766137  0.18201011\n",
      "  6.4426095  -0.21846092  6.65275875 -2.46072152 -2.33768003]At iterate 223, 3958.246311288847\n",
      "[ 5.90173888  4.73963925  3.93590747  1.60770365 -0.97850116  0.18144791\n",
      "  6.44476422 -0.2186292   6.65301577 -2.46064667 -2.33788268]At iterate 224, 3958.2482725359832\n",
      "[ 5.90075489  4.74063359  3.93743772  1.61043321 -0.98071868  0.17996005\n",
      "  6.44260337 -0.21846393  6.65369078 -2.46101115 -2.33805493]At iterate 225, 3958.2500974572167\n",
      "[ 5.90174015  4.74103877  3.93806677  1.61155549 -0.98161756  0.17935984\n",
      "  6.44492213 -0.21864499  6.65396547 -2.46093005 -2.33827225]At iterate 226, 3958.251723986708\n",
      "[ 5.90070001  4.74188242  3.93937479  1.61387547 -0.9835077   0.17809465\n",
      "  6.44261491 -0.21846794  6.65453973 -2.46127383 -2.33839719]At iterate 227, 3958.253535524598\n",
      "[ 5.90161884  4.74226131  3.93996699  1.61492704 -0.9843513   0.17753268\n",
      "  6.444778   -0.21863687  6.65479718 -2.46119855 -2.33860042]At iterate 228, 3958.2555098209978\n",
      "[ 5.90063094  4.74325342  3.94151583  1.61766202 -0.98658064  0.17604418\n",
      "  6.44260896 -0.21847083  6.65547383 -2.46156434 -2.33877286]At iterate 229, 3958.2573472156473\n",
      "[ 5.90161939  4.74365726  3.94215171  1.61878533 -0.98748329  0.17544447\n",
      "  6.44493591 -0.21865253  6.65574889 -2.46148281 -2.33899073]At iterate 230, 3958.2589852123137\n",
      "[ 5.9005756   4.74449939  3.94347614  1.6211107  -0.98938429  0.17417831\n",
      "  6.4426209  -0.21847476  6.65632483 -2.46182784 -2.33911589]At iterate 231, 3958.2608089044934\n",
      "[ 5.90149756  4.74487714  3.94407494  1.62216346 -0.99023166  0.17361667\n",
      "  6.44479203 -0.21864432  6.6565827  -2.46175217 -2.33931969]At iterate 232, 3958.2627958971702\n",
      "[ 5.90050591  4.74586697  3.9456423   1.62490315 -0.9924726   0.17212793\n",
      "  6.44261511 -0.21847754  6.65726098 -2.46211923 -2.33949234]At iterate 233, 3958.2646452792956\n",
      "[ 5.90149738  4.74626947  3.94628501  1.62602724 -0.99337895  0.17152883\n",
      "  6.44494988 -0.21865984  6.65753642 -2.46203731 -2.33971075]At iterate 234, 3958.266294471678\n",
      "[ 5.90045004  4.74711015  3.94762596  1.62835767 -0.99529085  0.17026188\n",
      "  6.44262729 -0.21848137  6.65811407 -2.4623836  -2.33983618]At iterate 235, 3958.268129960835\n",
      "[ 5.90137505  4.74748677  3.94823133  1.62941138 -0.99614193  0.16970071\n",
      "  6.44480625 -0.21865153  6.65837237 -2.46230754 -2.34004054]At iterate 236, 3958.2701293320133\n",
      "[ 5.90037979  4.74847436  3.94981728  1.63215529 -0.99839443  0.16821199\n",
      "  6.44262177 -0.21848404  6.65905232 -2.46267587 -2.34021342]At iterate 237, 3958.271990318754\n",
      "[ 5.90137418  4.74887554  3.95046683  1.63327997 -0.99930446  0.16761362\n",
      "  6.44496411 -0.21866693  6.65932815 -2.46259358 -2.34043238]At iterate 238, 3958.2736503594083\n",
      "[ 5.90032343  4.74971471  3.9518242   1.63561477 -1.00122701  0.16634626\n",
      "  6.44263424 -0.21848778  6.65990749 -2.4629411  -2.34055807]At iterate 239, 3958.275497193599\n",
      "[ 5.9012514   4.75009021  3.95243617  1.63666925 -1.00208179  0.16578565\n",
      "  6.44482082 -0.21865853  6.66016625 -2.46286468 -2.340763  ]At iterate 240, 3958.277508261398\n",
      "[ 5.90025261  4.75107546  3.9540405   1.63941645 -1.00434544  0.16429746\n",
      "  6.44262889 -0.21849034  6.6608478  -2.46323425 -2.34093611]At iterate 241, 3958.279380573271\n",
      "[ 5.9012498   4.75147532  3.95469685  1.64054145 -1.00525909  0.16369996\n",
      "  6.44497853 -0.2186738   6.66112401 -2.4631516  -2.3411556 ]At iterate 242, 3958.281050939825\n",
      "[ 5.90019577  4.75231299  3.95607069  1.64288016 -1.00719224  0.16243243\n",
      "  6.44264164 -0.21849399  6.66170508 -2.46350034 -2.34128159]At iterate 243, 3958.282908995686\n",
      "[ 5.90112648  4.75268734  3.95668916  1.64393507 -1.00805057  0.16187257\n",
      "  6.44483534 -0.2186653   6.66196426 -2.46342358 -2.34148706]At iterate 244, 3958.2849317308483\n",
      "[ 5.90012435  4.7536706   3.95831242  1.6466859  -1.01032604  0.16038474\n",
      "  6.4426364  -0.21849643  6.66264766 -2.46379444 -2.34166052]At iterate 245, 3958.2868151557677\n",
      "[ 5.90112425  4.75406914  3.95897555  1.64781094 -1.01124321  0.15978825\n",
      "  6.44499311 -0.21868045  6.66292427 -2.46371145 -2.34188054]At iterate 246, 3958.288495547858\n",
      "[ 5.90006705  4.75490538  3.96036593  1.65015317 -1.01318697  0.15852078\n"
     ]
    },
    {
     "name": "stdout",
     "output_type": "stream",
     "text": [
      "  6.44264944 -0.2185      6.6635071  -2.46406141 -2.34200686]At iterate 247, 3958.2903642486954\n",
      "[ 5.90100042  4.75527857  3.96099088  1.65120823 -1.01404877  0.15796181\n",
      "  6.44485005 -0.21867185  6.6637667  -2.46398434 -2.34221287]At iterate 248, 3958.2923986539195\n",
      "[ 5.89999517  4.75625977  3.96263294  1.65396187 -1.01633578  0.15647476\n",
      "  6.4426446  -0.21850235  6.66445193 -2.46435644 -2.3423867 ]At iterate 249, 3958.2942923294777\n",
      "[ 5.90099761  4.75665703  3.96330286  1.65508679 -1.0172565   0.15587937\n",
      "  6.44500799 -0.21868689  6.66472896 -2.46427315 -2.34260724]At iterate 250, 3958.2959822939297\n",
      "[ 5.89993743  4.75749169  3.96470953  1.65743158 -1.01921041  0.15461247\n",
      "  6.44265792 -0.21850584  6.66531347 -2.46462427 -2.34273389]At iterate 251, 3958.2978610489167\n",
      "[ 5.90087335  4.75786379  3.965341    1.65848669 -1.02007574  0.15405445\n",
      "  6.44486518 -0.21867821  6.66557354 -2.46454691 -2.34294043]At iterate 252, 3958.2999056604326\n",
      "[ 5.89986503  4.7588427   3.96700141  1.66124179 -1.02237356  0.15256891\n",
      "  6.44265324 -0.21850809  6.66626043 -2.4649202  -2.34311459]At iterate 253, 3958.301809244937\n",
      "[ 5.9008699   4.75923868  3.9676781   1.66236632 -1.02329776  0.15197476\n",
      "  6.44502305 -0.21869313  6.66653788 -2.46483663 -2.34333564]At iterate 254, 3958.303508399486\n",
      "[ 5.89980689  4.76007175  3.96910098  1.66471304 -1.02526165  0.15070877\n",
      "  6.4426669  -0.21851149  6.66712407 -2.4651889  -2.34346263]At iterate 255, 3958.30539669997\n",
      "[ 5.90074526  4.76044277  3.96973898  1.66576799 -1.02613048  0.1501518\n",
      "  6.44488057 -0.21868438  6.66738462 -2.46511127 -2.34366971]At iterate 256, 3958.307450949328\n",
      "[ 5.89973398  4.76141932  3.97141754  1.66852366 -1.02843878  0.14866824\n",
      "  6.44266234 -0.21851364  6.66807314 -2.46548573 -2.34384419]At iterate 257, 3958.309364117188\n",
      "[ 5.90074113  4.76181402  3.97210094  1.6696475  -1.02936636  0.14807549\n",
      "  6.44503822 -0.21869917  6.66835101 -2.4654019  -2.34406575]At iterate 258, 3958.3110718303274\n",
      "[ 5.89967541  4.76264559  3.97354013  1.67199581 -1.03134031  0.14681058\n",
      "  6.44267625 -0.21851697  6.66893893 -2.46575531 -2.34419313]At iterate 259, 3958.3129694328186\n",
      "[ 5.90061596  4.76301545  3.97418449  1.67305011 -1.03221239  0.14625492\n",
      "  6.44489572 -0.21869031  6.66919991 -2.46567744 -2.34440071]At iterate 260, 3958.315033906453\n",
      "[ 5.89960209  4.76399009  3.9758819   1.67580693 -1.03453205  0.14477304\n",
      "  6.44267207 -0.21851904  6.66989038 -2.46605311 -2.34457568]At iterate 261, 3958.3169558743084\n",
      "[ 5.90061136  4.76438355  3.976572    1.67692987 -1.03546301  0.14418179\n",
      "  6.44505363 -0.21870501  6.6701687  -2.46596905 -2.34479774]At iterate 262, 3958.318671901683\n",
      "[ 5.89954313  4.76521351  3.97802727  1.67927886 -1.03744662  0.14291845\n",
      "  6.44268622 -0.21852228  6.67075831 -2.46632356 -2.34492551]At iterate 263, 3958.3205780356157\n",
      "[ 5.90048588  4.76558231  3.97867809  1.68033251 -1.03832209  0.14236409\n",
      "  6.44491152 -0.21869608  6.67101978 -2.46624547 -2.34513361]At iterate 264, 3958.322650959326\n",
      "[ 5.89946932  4.76655456  3.98039341  1.68308836 -1.04065179  0.140885\n",
      "  6.44268213 -0.21852425  6.67171186 -2.46662227 -2.34530895]At iterate 265, 3958.3245813068834\n",
      "[ 5.90048061  4.76694675  3.98109014  1.68421007 -1.041586    0.14029542\n",
      "  6.44506914 -0.21871066  6.6719906  -2.466538   -2.34553149]At iterate 266, 3958.3263050317264\n",
      "[ 5.89941     4.76777517  3.98256153  1.68655932 -1.04357929  0.13903386\n",
      "  6.44269657 -0.21852742  6.67258195 -2.4668936  -2.3456597 ]At iterate 267, 3958.3282194684875\n",
      "[ 5.90035471  4.76814286  3.98321867  1.68761187 -1.04445793  0.13848104\n",
      "  6.44492715 -0.21870164  6.67284388 -2.46681532 -2.34586828]At iterate 268, 3958.3303010604886\n",
      "[ 5.89933574  4.76911312  3.9849525   1.69036717 -1.04679843  0.13700451\n",
      "  6.44269266 -0.2185293   6.67353787 -2.46719329 -2.34604414]At iterate 269, 3958.3322394930974\n",
      "[ 5.90034891  4.76950405  3.9856558   1.69148735 -1.04773583  0.13641675\n",
      "  6.44508478 -0.21871612  6.67381705 -2.46710884 -2.34626716]At iterate 270, 3958.3339704442674\n",
      "[ 5.89927607  4.77033096  3.98714327  1.6938363  -1.04973869  0.13515727\n",
      "  6.44270738 -0.2185324   6.67441015 -2.46746552 -2.34639583]At iterate 271, 3958.3358924379336\n",
      "[ 5.90022261  4.77069753  3.98780665  1.69488745 -1.05062042  0.13460615\n",
      "  6.44494289 -0.21870702  6.67467253 -2.46738707 -2.34660489]At iterate 272, 3958.337982404069\n",
      "[ 5.89920153  4.77166573  3.98955876  1.69764123 -1.05297135  0.13313267\n",
      "  6.44270395 -0.21853422  6.67536838 -2.46776615 -2.34678128]At iterate 273, 3958.339927910225\n",
      "[ 5.90021637  4.77205546  3.99026863  1.69875972 -1.05391195  0.13254682\n",
      "  6.44510068 -0.2187214   6.67564802 -2.46768156 -2.34700477]At iterate 274, 3958.341665519544\n",
      "[ 5.89914153  4.77288067  3.99177176  1.70110718 -1.05592377  0.13129003\n",
      "  6.44271892 -0.21853725  6.67624276 -2.46803925 -2.34713389]At iterate 275, 3958.3435944031125\n",
      "[ 5.90008977  4.77324619  3.99244144  1.70215684 -1.05680868  0.13074063\n",
      "  6.44495909 -0.21871224  6.67650564 -2.46796066 -2.34734343]At iterate 276, 3958.3456909730075\n",
      "[ 5.89906656  4.77421206  3.99421118  1.70490756 -1.05916917  0.12927103\n",
      "  6.44271556 -0.21853897  6.67720315 -2.4683408  -2.34752029]At iterate 277, 3958.347643376006\n",
      "[ 5.90008296  4.77460056  3.99492754  1.70602399 -1.06011283  0.12868727\n",
      "  6.44511663 -0.21872651  6.67748326 -2.46825609 -2.34774424]At iterate 278, 3958.34938702699\n",
      "[ 5.89900626  4.77542418  3.99644637  1.7083696  -1.06213369  0.12743335\n",
      "  6.4427308  -0.21854193  6.6780797  -2.4686148  -2.34787386]At iterate 279, 3958.3513223447653\n",
      "[ 5.89995598  4.77578858  3.99712219  1.7094173  -1.06302154  0.12688592\n",
      "  6.44497507 -0.21871726  6.67834304 -2.4685361  -2.34808385]At iterate 280, 3958.3534260696874\n",
      "[ 5.89893102  4.77675244  3.99890999  1.71216509 -1.06539216  0.1254201\n",
      "  6.44272785 -0.21854359  6.67904245 -2.46891731 -2.3482613 ]At iterate 281, 3958.3553844660855\n",
      "[ 5.89994878  4.77713975  3.99963281  1.71327925 -1.06633889  0.12483853\n",
      "  6.4451328  -0.21873145  6.67932303 -2.46883252 -2.34848571]At iterate 282, 3958.35713356351\n",
      "[ 5.89887044  4.77796164  4.00116697  1.71562193 -1.06836826  0.12358805\n",
      "  6.44274337 -0.2185465   6.67992109 -2.46919217 -2.34861582]At iterate 283, 3958.3590745830966\n",
      "[ 5.8998215   4.77832499  4.00184894  1.71666753 -1.06925909  0.12304265\n",
      "  6.44499141 -0.21872213  6.68018492 -2.4691134  -2.34882626]At iterate 284, 3958.361184031187\n",
      "[ 5.89879486  4.7792866   4.0036542   1.71941093 -1.07163904  0.12158136\n",
      "  6.44274057 -0.21854808  6.68088606 -2.46949563 -2.34900427]At iterate 285, 3958.3631479301157\n",
      "[ 5.89981383  4.77967272  4.0043834   1.72052248 -1.07258872  0.12100214\n",
      "  6.44514903 -0.21873622  6.68116712 -2.46941077 -2.34922912]At iterate 286, 3958.3649018900123\n",
      "[ 5.89873401  4.78049294  4.00593285  1.72286172 -1.07462657  0.11975535\n",
      "  6.4427563  -0.21855091  6.68176683 -2.46977137 -2.34935975]At iterate 287, 3958.366848109202\n",
      "[ 5.89968621  4.7808552   4.00662083  1.72390482 -1.0755202   0.11921219\n",
      "  6.44500766 -0.21872682  6.68203112 -2.46969256 -2.34957061]At iterate 288, 3958.3689632619044\n",
      "[ 5.89865818  4.78181477  4.00844375  1.72664361 -1.07790977  0.11775553\n",
      "  6.44275385 -0.21855243  6.68273414 -2.4700758  -2.34974928]At iterate 289, 3958.370931951477\n",
      "[ 5.89967818  4.78219972  4.00917927  1.72775229 -1.07886236  0.11717879\n",
      "  6.4451654  -0.21874084  6.68301569 -2.46999092 -2.34997456]At iterate 290, 3958.372690247793\n",
      "[ 5.89859711  4.78301819  4.01074371  1.73008719 -1.08090829  0.11593614\n",
      "  6.44276985 -0.21855521  6.683617   -2.47035242 -2.35010573]At iterate 291, 3958.3746408646416\n",
      "[ 5.89955034  4.78337941  4.01143771  1.73112762 -1.08180477  0.1153953\n",
      "  6.44502426 -0.21873137  6.6838818  -2.47027358 -2.35031702]At iterate 292, 3958.376760294933\n",
      "[ 5.89852101  4.78433669  4.01327759  1.73386023 -1.08420307  0.11394407\n",
      "  6.44276759 -0.21855666  6.6845865  -2.47065777 -2.35049629]At iterate 293, 3958.3787331386156\n",
      "[ 5.89954187  4.78472047  4.01401934  1.73496572 -1.08515845  0.11336997\n",
      "  6.44518182 -0.21874529  6.68486854 -2.4705729  -2.35072197]At iterate 294, 3958.380495242921\n",
      "[ 5.89845969  4.78553724  4.01559871  1.73729574 -1.08721243  0.11213173\n",
      "  6.44278376 -0.21855938  6.68547149 -2.47093528 -2.35085373]At iterate 295, 3958.382449737883\n",
      "[ 5.8994138   4.78589741  4.0162986   1.73833315 -1.08811161  0.11159337\n"
     ]
    },
    {
     "name": "stdout",
     "output_type": "stream",
     "text": [
      "  6.44504085 -0.21873577  6.68573677 -2.47085645 -2.35106543]At iterate 296, 3958.3845730847015\n",
      "[ 5.89838337  4.78685252  4.01815547  1.74105913 -1.09051872  0.11014778\n",
      "  6.44278176 -0.21856077  6.68644326 -2.47124158 -2.35124536]At iterate 297, 3958.3865494602055\n",
      "[ 5.89940497  4.78723514  4.01890337  1.74216113 -1.09147683  0.10957647\n",
      "  6.44519837 -0.21874961  6.68672578 -2.47115675 -2.35147146]At iterate 298, 3958.388314609458\n",
      "[ 5.8983219   4.78805014  4.02049731  1.74448532 -1.09353842  0.10834311\n",
      "  6.44279827 -0.21856345  6.6873303  -2.47151996 -2.35160379]At iterate 299, 3958.3902723524075\n",
      "[ 5.89927667  4.78840926  4.021203    1.74551941 -1.09444021  0.10780738\n",
      "  6.44505749 -0.21874001  6.68759608 -2.47144117 -2.35181589]At iterate 300, 3958.392398946412\n",
      "[ 5.89824535  4.78936224  4.02307672  1.74823806 -1.096856    0.10636778\n",
      "  6.44279644 -0.21856477  6.68830437 -2.47182723 -2.35199652]At iterate 301, 3958.394378367518\n",
      "[ 5.8992675   4.78974371  4.02383067  1.74933624 -1.09781675  0.1057994\n",
      "  6.44521495 -0.21875377  6.68858738 -2.47174246 -2.35222301]At iterate 302, 3958.3961458861777\n",
      "[ 5.89818371  4.79055699  4.02543907  1.75165402 -1.09988587  0.1045712\n",
      "  6.44281316 -0.21856739  6.68919351 -2.47210649 -2.35235598]At iterate 303, 3958.3981063308497\n",
      "[ 5.89913891  4.79091502  4.0261504   1.75268438 -1.10079008  0.10403831\n",
      "  6.44507398 -0.2187441   6.68945975 -2.47202778 -2.35256843]At iterate 304, 3958.400236151466\n",
      "[ 5.89810702  4.79186609  4.02804114  1.75539547 -1.10321483  0.10260477\n",
      "  6.44281168 -0.21856867  6.69016999 -2.47241476 -2.35274988]At iterate 305, 3958.4022177755314\n",
      "[ 5.89912955  4.79224644  4.02880109  1.75648961 -1.10417819  0.10203945\n",
      "  6.44523171 -0.21875781  6.69045352 -2.47233009 -2.35297675]At iterate 306, 3958.4039870168726\n",
      "[ 5.8980453   4.79305782  4.03042341  1.75879978 -1.10625419  0.10081702\n",
      "  6.44282876 -0.21857125  6.69106113 -2.47269486 -2.35311033]At iterate 307, 3958.405949182592\n",
      "[ 5.8990008   4.79341484  4.0311404   1.75982628 -1.1071609   0.100287\n",
      "  6.44509086 -0.21874808  6.69132787 -2.47261626 -2.35332315]At iterate 308, 3958.408080577002\n",
      "[ 5.89796845  4.79436363  4.03304715  1.76252789 -1.1095934   0.09886052\n",
      "  6.44282745 -0.21857247  6.69203978 -2.47300408 -2.35350532]At iterate 309, 3958.4100636483245\n",
      "[ 5.89899112  4.79474285  4.03381297  1.76361763 -1.11055925  0.0982984\n",
      "  6.44524844 -0.21876171  6.69232381 -2.47291954 -2.35373256]At iterate 310, 3958.411834052902\n",
      "[ 5.89790656  4.79555246  4.03544922  1.76591982 -1.11264221  0.0970819\n",
      "  6.44284463 -0.21857499  6.69293298 -2.47328506 -2.3538668 ]At iterate 311, 3958.4137974566374\n",
      "[ 5.89886217  4.79590843  4.03617168  1.76694204 -1.11355122  0.09655498\n",
      "  6.44510758 -0.21875191  6.69320019 -2.4732066  -2.35407996]At iterate 312, 3958.415930393032\n",
      "[ 5.89782964  4.79685517  4.03809466  1.76963403 -1.11599183  0.09513557\n",
      "  6.44284368 -0.21857617  6.69391396 -2.47359525 -2.35426296]At iterate 313, 3958.417914353744\n",
      "[ 5.8988523   4.79723329  4.03886627  1.77071909 -1.1169601   0.0945768\n",
      "  6.44526525 -0.21876548  6.6941985  -2.47351089 -2.35449055]At iterate 314, 3958.7242989540255\n",
      "[ 5.89283159  4.90307224  4.25531057  2.07215086 -1.39008976 -0.06322295\n",
      "  6.44604509 -0.21889958  6.77415238 -2.49876879 -2.38681879]At iterate 315, 3959.186380715496\n",
      "[ 5.88820769  5.20448975  4.64996285  2.20906597 -2.35298769 -0.15488367\n",
      "  6.44666867 -0.22135344  7.08418792 -2.64181222 -2.58999838]At iterate 316, 3959.4325192556735\n",
      "[ 5.88257937  5.5241277   5.45294821  2.2960375  -3.03420664 -0.26683932\n",
      "  6.44773965 -0.21992445  7.40479385 -2.73281877 -2.69784512]At iterate 317, 3959.5359341347475\n",
      "[ 5.88401201  5.8737097   5.74555784  2.24439129 -3.63970227 -0.33255219\n",
      "  6.44786981 -0.22170151  7.76204733 -2.90651314 -2.92990474]At iterate 318, 3959.5359631098036\n",
      "[ 5.88419172  5.87375012  5.74559214  2.24427467 -3.63975823 -0.33251955\n",
      "  6.44777163 -0.22155519  7.76208978 -2.90700941 -2.92954124]At iterate 319, 3959.536743282738\n",
      "[ 5.88419187  5.8755491   5.74714252  2.23962489 -3.64222379 -0.33138652\n",
      "  6.44782011 -0.22164763  7.76396932 -2.90781049 -2.92993884]At iterate 320, 3959.5376901062377\n",
      "[ 5.88424824  5.87843714  5.74955275  2.23336005 -3.64619713 -0.33005371\n",
      "  6.4478587  -0.22177282  7.7669765  -2.90901388 -2.93066472]At iterate 321, 3959.538823843084\n",
      "[ 5.88434385  5.8832514   5.75339794  2.22550488 -3.65285122 -0.32888377\n",
      "  6.44789313 -0.22189583  7.77196654 -2.9108249  -2.93207126]At iterate 322, 3959.5666706320394\n",
      "[ 5.88487021  6.05180987  5.87061082  2.20342148 -3.88828526 -0.3914046\n",
      "  6.44792849 -0.22244159  7.9444138  -2.96098234 -2.99394063]Warning: Desired error not necessarily achieved due to precision loss.\n",
      "         Current function value: -3959.566671\n",
      "         Iterations: 322\n",
      "         Function evaluations: 382\n",
      "         Gradient evaluations: 2146\n",
      "         Hessian evaluations: 0\n"
     ]
    }
   ],
   "source": [
    "Nfeval=1\n",
    "res = minimize(nll, p0, method='Newton-CG', jac=True, callback=printx, options={'disp': True})"
   ]
  },
  {
   "cell_type": "code",
   "execution_count": 295,
   "metadata": {},
   "outputs": [
    {
     "name": "stdout",
     "output_type": "stream",
     "text": [
      "At iterate 1, 382.1533510967495\n",
      "At iterate 2, 1417.8559603886442\n",
      "At iterate 3, 3342.7086098593636\n",
      "At iterate 4, 3856.3236068156734\n",
      "At iterate 5, 3895.662692565562\n",
      "At iterate 6, 3913.5752934549764\n",
      "At iterate 7, 3921.107656502854\n",
      "At iterate 8, 3921.880395782853\n",
      "At iterate 9, 3923.3299392899216\n",
      "At iterate 10, 3925.707531290581\n",
      "At iterate 11, 3927.852789996343\n",
      "At iterate 12, 3927.9902074533043\n",
      "At iterate 13, 3928.2291579291873\n",
      "At iterate 14, 3928.6011691844624\n",
      "At iterate 15, 3928.9054650820626\n",
      "At iterate 16, 3929.102004722321\n",
      "At iterate 17, 3929.276938070457\n",
      "At iterate 18, 3929.367395499419\n",
      "At iterate 19, 3929.3703735462186\n",
      "At iterate 20, 3929.3918575758535\n",
      "At iterate 21, 3929.4245457653374\n",
      "At iterate 22, 3929.465797099367\n",
      "Warning: CG iterations didn't converge.  The Hessian is not positive definite.\n",
      "         Current function value: -3929.465797\n",
      "         Iterations: 22\n",
      "         Function evaluations: 37\n",
      "         Gradient evaluations: 701\n",
      "         Hessian evaluations: 0\n"
     ]
    }
   ],
   "source": [
    "Nfeval=1\n",
    "res = minimize(nll, p0, method='Newton-CG', jac=True, callback=printx, options={'disp': True})"
   ]
  },
  {
   "cell_type": "code",
   "execution_count": 343,
   "metadata": {},
   "outputs": [
    {
     "data": {
      "text/plain": [
       "     fun: -3959.5666706320394\n",
       "     jac: array([-0.06705799, -0.03714148, -0.02470247,  0.03652415,  0.04918254,\n",
       "        0.00235685,  0.03558   , -0.085792  , -0.03812292,  0.26117587,\n",
       "       -0.18593687])\n",
       " message: 'Warning: Desired error not necessarily achieved due to precision loss.'\n",
       "    nfev: 382\n",
       "    nhev: 0\n",
       "     nit: 322\n",
       "    njev: 2146\n",
       "  status: 2\n",
       " success: False\n",
       "       x: array([ 5.88487021,  6.05180987,  5.87061082,  2.20342148, -3.88828526,\n",
       "       -0.3914046 ,  6.44792849, -0.22244159,  7.9444138 , -2.96098234,\n",
       "       -2.99394063])"
      ]
     },
     "execution_count": 343,
     "metadata": {},
     "output_type": "execute_result"
    }
   ],
   "source": [
    "res"
   ]
  },
  {
   "cell_type": "code",
   "execution_count": 344,
   "metadata": {},
   "outputs": [
    {
     "data": {
      "text/plain": [
       "array([ 5.29831737,  1.09861229,  2.75153531,  5.70378247, -0.45198512,\n",
       "        6.2126061 ,  6.2146081 , -0.52324814,  5.29330482, -1.89711998,\n",
       "       -1.2039728 ])"
      ]
     },
     "execution_count": 344,
     "metadata": {},
     "output_type": "execute_result"
    }
   ],
   "source": [
    "true_params_f"
   ]
  },
  {
   "cell_type": "code",
   "execution_count": 297,
   "metadata": {},
   "outputs": [
    {
     "data": {
      "text/plain": [
       "array([-0.19084477, -0.56673929, -0.34582121,  0.97962138, -0.0138391 ,\n",
       "        0.10512387,  1.4598857 , -1.34547288,  0.45794454, -1.05047223,\n",
       "        0.28290758])"
      ]
     },
     "execution_count": 297,
     "metadata": {},
     "output_type": "execute_result"
    }
   ],
   "source": [
    "p0"
   ]
  },
  {
   "cell_type": "code",
   "execution_count": 299,
   "metadata": {},
   "outputs": [
    {
     "data": {
      "text/plain": [
       "(195.25450062310043,\n",
       " array([-155.90680127,  -33.4945419 , 1175.75934963, -442.40285048,\n",
       "          37.3496572 , 7032.76624098, -393.89517243, -143.37709121,\n",
       "        2885.68067811,  188.03504714,  168.47426356]))"
      ]
     },
     "execution_count": 299,
     "metadata": {},
     "output_type": "execute_result"
    }
   ],
   "source": [
    "nll(p0)"
   ]
  },
  {
   "cell_type": "code",
   "execution_count": 305,
   "metadata": {},
   "outputs": [],
   "source": [
    "test_params = true_params_f.copy()\n",
    "test_params[0]=8"
   ]
  },
  {
   "cell_type": "code",
   "execution_count": 306,
   "metadata": {},
   "outputs": [
    {
     "data": {
      "text/plain": [
       "(-2192.6777290664677,\n",
       " array([ 2.41767138e+03, -9.69434500e+01,  1.25680079e+02,  1.92025531e+02,\n",
       "        -1.84331470e+01,  6.13785206e-01,  1.71261076e+02,  6.25043693e+01,\n",
       "        -5.43630866e-02, -8.12379636e+01,  2.92653763e+01]))"
      ]
     },
     "execution_count": 306,
     "metadata": {},
     "output_type": "execute_result"
    }
   ],
   "source": [
    "nll(test_params)"
   ]
  },
  {
   "cell_type": "code",
   "execution_count": 298,
   "metadata": {},
   "outputs": [
    {
     "data": {
      "text/plain": [
       "(-3926.2765947426215,\n",
       " array([-6.43000386,  3.43838773,  8.59572888, -1.56281194,  4.24950048,\n",
       "         0.75684362,  7.9928158 ,  0.24131594,  1.05720863,  9.87266071,\n",
       "         2.6715648 ]))"
      ]
     },
     "execution_count": 298,
     "metadata": {},
     "output_type": "execute_result"
    }
   ],
   "source": [
    "nll(true_params_f)"
   ]
  },
  {
   "cell_type": "code",
   "execution_count": 227,
   "metadata": {},
   "outputs": [
    {
     "data": {
      "text/plain": [
       "array([ 0.,  0., -1.,  0.,  0., -1.,  0.,  0., -1., -1., -1.])"
      ]
     },
     "execution_count": 227,
     "metadata": {},
     "output_type": "execute_result"
    }
   ],
   "source": [
    "p0"
   ]
  },
  {
   "cell_type": "code",
   "execution_count": 308,
   "metadata": {},
   "outputs": [
    {
     "data": {
      "text/plain": [
       "array([[-155.90728708, -155.90680127],\n",
       "       [ -33.49811095,  -33.4945419 ],\n",
       "       [   0.        , 1175.75934963],\n",
       "       [-442.40294983, -442.40285048],\n",
       "       [  37.3412945 ,   37.3496572 ],\n",
       "       [   0.        , 7032.76624098],\n",
       "       [-393.89590256, -393.89517243],\n",
       "       [-143.54554878, -143.37709121],\n",
       "       [   0.        , 2885.68067811],\n",
       "       [ 187.29792828,  188.03504714],\n",
       "       [ 169.21745782,  168.47426356]])"
      ]
     },
     "execution_count": 308,
     "metadata": {},
     "output_type": "execute_result"
    }
   ],
   "source": [
    "model = lambda x: nll(x)[0]\n",
    "grad  = lambda x: nll(x)[1]\n",
    "np.vstack((scipy.optimize.approx_fprime(p0, model, 1e-10), grad(p0))).T"
   ]
  },
  {
   "cell_type": "code",
   "execution_count": 315,
   "metadata": {},
   "outputs": [
    {
     "data": {
      "text/plain": [
       "0.425557483188341"
      ]
     },
     "execution_count": 315,
     "metadata": {},
     "output_type": "execute_result"
    }
   ],
   "source": [
    "fid_pars['functions'][0]['fD'](-0.3)"
   ]
  },
  {
   "cell_type": "code",
   "execution_count": 320,
   "metadata": {},
   "outputs": [
    {
     "name": "stdout",
     "output_type": "stream",
     "text": [
      "{0: {'alpha2': -1.3269825113701028, 'alpha1': -0.349772537632544, 'w': 0.8262608369484923, 'alpha3': array(-1.), 'Mto': array(4.8), 'Mms2': array(7.), 'Mms1': array(9.), 'fD': 0.4143961333462523, 'hz': 0.4343874678960608, 'Mms': array(8.)}, 1: {'alpha2': -1.3269825113701028, 'alpha1': -0.349772537632544, 'w': 2.663447610428108, 'alpha3': array(-1.), 'Mto': array(3.14), 'Mms2': array(7.), 'Mms1': array(9.), 'fD': 0.5262567914035446, 'hz': 2.09377250509069, 'Mms': array(8.)}, 2: {'alpha2': -1.3269825113701028, 'alpha1': -0.349772537632544, 'w': 4.305467371675508, 'alpha3': array(-1.), 'Mto': array(3.3), 'Mms2': array(7.), 'Mms1': array(9.), 'fD': 0.6125264518808964, 'hz': 3.8884293917911075, 'Mms': array(8.)}}\n"
     ]
    },
    {
     "data": {
      "text/plain": [
       "321.0295472116861"
      ]
     },
     "execution_count": 320,
     "metadata": {},
     "output_type": "execute_result"
    }
   ],
   "source": [
    "model(p0)"
   ]
  },
  {
   "cell_type": "code",
   "execution_count": 313,
   "metadata": {},
   "outputs": [
    {
     "data": {
      "text/plain": [
       "array([-0.19084477, -0.56673929, -0.34582121,  0.97962138, -0.0138391 ,\n",
       "        0.10512387,  1.4598857 , -1.34547288,  0.45794454, -1.05047223,\n",
       "        0.28290758])"
      ]
     },
     "execution_count": 313,
     "metadata": {},
     "output_type": "execute_result"
    }
   ],
   "source": [
    "p0"
   ]
  },
  {
   "cell_type": "code",
   "execution_count": 323,
   "metadata": {},
   "outputs": [
    {
     "data": {
      "text/plain": [
       "array([[-6.29370334, -6.29036821],\n",
       "       [ 2.17369234,  2.17617262],\n",
       "       [-2.38287612, -2.37843458],\n",
       "       [ 0.51841198,  0.52300828],\n",
       "       [ 2.56477506,  2.57046684],\n",
       "       [-0.16370905, -0.15342221],\n",
       "       [ 5.75710146,  5.76735993],\n",
       "       [ 0.41836756,  0.69758825],\n",
       "       [-0.20008883, -0.20279447],\n",
       "       [ 0.08185452,  0.72938671],\n",
       "       [ 0.76397555,  0.52209811]])"
      ]
     },
     "execution_count": 323,
     "metadata": {},
     "output_type": "execute_result"
    }
   ],
   "source": [
    "ptest = true_params_f\n",
    "#ptest = p0\n",
    "np.vstack((scipy.optimize.approx_fprime(ptest, model, 1e-10), grad(ptest))).T"
   ]
  },
  {
   "cell_type": "code",
   "execution_count": 307,
   "metadata": {},
   "outputs": [
    {
     "name": "stdout",
     "output_type": "stream",
     "text": [
      "Warning: Desired error not necessarily achieved due to precision loss.\n",
      "         Current function value: -3926.276595\n",
      "         Iterations: 0\n",
      "         Function evaluations: 17\n",
      "         Gradient evaluations: 16\n",
      "         Hessian evaluations: 0\n"
     ]
    }
   ],
   "source": [
    "Nfeval=1\n",
    "res_hot = minimize(nll, true_params_f, method='Newton-CG', jac=True, callback=printx, options={'disp': True})"
   ]
  },
  {
   "cell_type": "code",
   "execution_count": 222,
   "metadata": {},
   "outputs": [
    {
     "data": {
      "text/plain": [
       "(976.3072865801602,\n",
       " array([-2.70629917e+02, -4.59477087e+01,  1.03400554e-13, -3.41143153e+02,\n",
       "        -3.19474612e+00,  2.82754267e-13, -3.85226929e+02,  5.24186719e+01,\n",
       "         2.61137875e-13,  9.41802020e+01, -3.12589444e+00]))"
      ]
     },
     "execution_count": 222,
     "metadata": {},
     "output_type": "execute_result"
    }
   ],
   "source": [
    "nll(p0)"
   ]
  },
  {
   "cell_type": "code",
   "execution_count": 223,
   "metadata": {},
   "outputs": [
    {
     "data": {
      "text/plain": [
       "(976.3072865801602,\n",
       " array([-2.70629917e+02, -4.59477087e+01,  1.03400554e-13, -3.41143153e+02,\n",
       "        -3.19474612e+00,  2.82754267e-13, -3.85226929e+02,  5.24186719e+01,\n",
       "         2.61137875e-13,  9.41802020e+01, -3.12589444e+00]))"
      ]
     },
     "execution_count": 223,
     "metadata": {},
     "output_type": "execute_result"
    }
   ],
   "source": [
    "nll(p0+0.01)"
   ]
  },
  {
   "cell_type": "code",
   "execution_count": null,
   "metadata": {},
   "outputs": [],
   "source": []
  },
  {
   "cell_type": "code",
   "execution_count": 207,
   "metadata": {},
   "outputs": [
    {
     "ename": "SyntaxError",
     "evalue": "can't assign to function call (<ipython-input-207-f839da3fc25c>, line 2)",
     "output_type": "error",
     "traceback": [
      "\u001b[0;36m  File \u001b[0;32m\"<ipython-input-207-f839da3fc25c>\"\u001b[0;36m, line \u001b[0;32m2\u001b[0m\n\u001b[0;31m    with fout as open('Newton_cg_test.txt','w'):\u001b[0m\n\u001b[0m        ^\u001b[0m\n\u001b[0;31mSyntaxError\u001b[0m\u001b[0;31m:\u001b[0m can't assign to function call\n"
     ]
    }
   ],
   "source": [
    "Nfeval = 1\n",
    "with fout as open('Newton_cg_test.txt','w'):\n",
    "    res = minimize(poisson_like, p0, method='NewtonCG', jac=True, callback=printx, options={'disp': True})"
   ]
  },
  {
   "cell_type": "code",
   "execution_count": null,
   "metadata": {},
   "outputs": [],
   "source": []
  },
  {
   "cell_type": "code",
   "execution_count": null,
   "metadata": {},
   "outputs": [],
   "source": []
  },
  {
   "cell_type": "code",
   "execution_count": null,
   "metadata": {},
   "outputs": [],
   "source": []
  },
  {
   "cell_type": "code",
   "execution_count": null,
   "metadata": {},
   "outputs": [],
   "source": []
  },
  {
   "cell_type": "code",
   "execution_count": 149,
   "metadata": {},
   "outputs": [],
   "source": [
    "isource=0\n",
    "model = lambda x: poisson_kwargs_global['logmodel'](sample_2d, x, fid_pars=fid_pars, grad=False)[isource]\n",
    "grad  = lambda x: poisson_kwargs_global['logmodel'](sample_2d, x, fid_pars=fid_pars, grad=True)[1][:,isource]"
   ]
  },
  {
   "cell_type": "code",
   "execution_count": 150,
   "metadata": {},
   "outputs": [
    {
     "name": "stdout",
     "output_type": "stream",
     "text": [
      "[ 0.  0. -1.  0.  0. -1.  0.  0. -1. -1. -1.] [ 1.          0.3        -0.36787944  1.          0.45       -0.36787944\n",
      "  1.          1.075      -0.36787944 -0.36787944 -0.36787944]\n"
     ]
    },
    {
     "data": {
      "text/plain": [
       "array([[ 1.42517109e-01,  1.42518274e-01],\n",
       "       [ 2.54443133e-01,  2.54438904e-01],\n",
       "       [ 0.00000000e+00,  3.43633871e-50],\n",
       "       [ 5.52504709e-01,  5.52505878e-01],\n",
       "       [-6.95665747e-02, -6.95668001e-02],\n",
       "       [ 0.00000000e+00,  2.23578165e-36],\n",
       "       [ 3.04973824e-01,  3.04975849e-01],\n",
       "       [ 1.28146382e-01,  1.28119817e-01],\n",
       "       [ 0.00000000e+00,  1.51371304e-19],\n",
       "       [ 2.71687117e-01, -1.69670768e+03],\n",
       "       [-4.10316225e-02, -6.92702658e+01]])"
      ]
     },
     "execution_count": 150,
     "metadata": {},
     "output_type": "execute_result"
    }
   ],
   "source": [
    "np.vstack((scipy.optimize.approx_fprime(p0, model, 1e-10), grad(p0))).T"
   ]
  },
  {
   "cell_type": "code",
   "execution_count": 160,
   "metadata": {},
   "outputs": [],
   "source": [
    "isource=0\n",
    "model = lambda x: poisson_kwargs_global['logmodel'](sample_2d[:,isource:isource+1], x, fid_pars=fid_pars, grad=False)[0]\n",
    "grad  = lambda x: poisson_kwargs_global['logmodel'](sample_2d[:,isource:isource+1], x, fid_pars=fid_pars, grad=True)[1][:,0]\n",
    "model = lambda x: poisson_kwargs_global['logmodel'](sample_2d, x, fid_pars=fid_pars, grad=False)#[isource]\n",
    "grad  = lambda x: poisson_kwargs_global['logmodel'](sample_2d, x, fid_pars=fid_pars, grad=True)[1]#[:,isource]"
   ]
  },
  {
   "cell_type": "code",
   "execution_count": 159,
   "metadata": {},
   "outputs": [
    {
     "name": "stdout",
     "output_type": "stream",
     "text": [
      "[ 0.  0. -1.  0.  0. -1.  0.  0. -1. -1. -1.] [ 1.          0.3        -0.36787944  1.          0.45       -0.36787944\n",
      "  1.          1.075      -0.36787944 -0.36787944 -0.36787944]\n"
     ]
    },
    {
     "data": {
      "text/plain": [
       "array([ 1.42518274e-01,  2.54438904e-01,  3.43633871e-50,  5.52505878e-01,\n",
       "       -6.95668001e-02,  2.23578165e-36,  3.04975849e-01,  1.28119817e-01,\n",
       "        1.51371304e-19,  2.71272528e-01, -4.09447053e-02])"
      ]
     },
     "execution_count": 159,
     "metadata": {},
     "output_type": "execute_result"
    }
   ],
   "source": [
    "grad(p0)"
   ]
  },
  {
   "cell_type": "code",
   "execution_count": 164,
   "metadata": {},
   "outputs": [
    {
     "name": "stdout",
     "output_type": "stream",
     "text": [
      "[ 0.  0. -1.  0.  0. -1.  0.  0. -1. -1. -1.] [ 1.          0.3        -0.36787944  1.          0.45       -0.36787944\n",
      "  1.          1.075      -0.36787944 -0.36787944 -0.36787944]\n"
     ]
    },
    {
     "data": {
      "text/plain": [
       "array([ 1.42518274e-01,  2.54438904e-01,  3.43633871e-50,  5.52505878e-01,\n",
       "       -6.95668001e-02,  2.23578165e-36,  3.04975849e-01,  1.28119817e-01,\n",
       "        1.51371304e-19, -1.69670768e+03, -6.92702658e+01])"
      ]
     },
     "execution_count": 164,
     "metadata": {},
     "output_type": "execute_result"
    }
   ],
   "source": [
    "grad(p0)[:,0]"
   ]
  },
  {
   "cell_type": "code",
   "execution_count": 154,
   "metadata": {},
   "outputs": [
    {
     "name": "stdout",
     "output_type": "stream",
     "text": [
      "[ 0.  0. -1.  0.  0. -1.  0.  0. -1. -1. -1.] [ 1.          0.3        -0.36787944  1.          0.45       -0.36787944\n",
      "  1.          1.075      -0.36787944 -0.36787944 -0.36787944]\n"
     ]
    },
    {
     "data": {
      "text/plain": [
       "array([[ 1.42517109e-01,  1.42518274e-01],\n",
       "       [ 2.54443133e-01,  2.54438904e-01],\n",
       "       [ 0.00000000e+00,  3.43633871e-50],\n",
       "       [ 5.52504709e-01,  5.52505878e-01],\n",
       "       [-6.95665747e-02, -6.95668001e-02],\n",
       "       [ 0.00000000e+00,  2.23578165e-36],\n",
       "       [ 3.04973824e-01,  3.04975849e-01],\n",
       "       [ 1.28146382e-01,  1.28119817e-01],\n",
       "       [ 0.00000000e+00,  1.51371304e-19],\n",
       "       [ 2.71687117e-01, -1.69670768e+03],\n",
       "       [-4.10316225e-02, -6.92702658e+01]])"
      ]
     },
     "execution_count": 154,
     "metadata": {},
     "output_type": "execute_result"
    }
   ],
   "source": [
    "np.vstack((scipy.optimize.approx_fprime(p0, model, 1e-10), grad(p0))).T"
   ]
  },
  {
   "cell_type": "code",
   "execution_count": 181,
   "metadata": {},
   "outputs": [],
   "source": [
    "isource=0\n",
    "model = lambda x: dh_msto.logmodel_perr_grad(sample_2d[:,isource:isource+1], x, fid_pars=fid_pars, grad=False)[0]\n",
    "grad  = lambda x: dh_msto.logmodel_perr_grad(sample_2d[:,isource:isource+1], x, fid_pars=fid_pars, grad=True)[1][:,0]"
   ]
  },
  {
   "cell_type": "code",
   "execution_count": 183,
   "metadata": {},
   "outputs": [
    {
     "name": "stdout",
     "output_type": "stream",
     "text": [
      "-6.554203076503464e-49 -1.2047312338610843\n",
      "-1.0999855140655041e-35 -0.7742772605480664\n"
     ]
    },
    {
     "data": {
      "text/plain": [
       "array([[ 1.42517109e-01,  1.42518274e-01],\n",
       "       [ 2.54443133e-01,  2.54438904e-01],\n",
       "       [ 0.00000000e+00,  3.43633871e-50],\n",
       "       [ 5.52504709e-01,  5.52505878e-01],\n",
       "       [-6.95665747e-02, -6.95668001e-02],\n",
       "       [ 0.00000000e+00,  2.23578165e-36],\n",
       "       [ 3.04973824e-01,  3.04975849e-01],\n",
       "       [ 1.28146382e-01,  1.28119817e-01],\n",
       "       [ 0.00000000e+00,  1.51371304e-19],\n",
       "       [ 2.71687117e-01,  2.71272528e-01],\n",
       "       [-4.10316225e-02, -4.09447053e-02]])"
      ]
     },
     "execution_count": 183,
     "metadata": {},
     "output_type": "execute_result"
    }
   ],
   "source": [
    "np.vstack((scipy.optimize.approx_fprime(p0, model, 1e-10), grad(p0))).T"
   ]
  },
  {
   "cell_type": "code",
   "execution_count": 184,
   "metadata": {},
   "outputs": [],
   "source": [
    "isource=0\n",
    "model = lambda x: dh_msto.logmodel_perr_grad(sample_2d, x, fid_pars=fid_pars, grad=False)[isource]\n",
    "grad  = lambda x: dh_msto.logmodel_perr_grad(sample_2d, x, fid_pars=fid_pars, grad=True)[1][:,isource]"
   ]
  },
  {
   "cell_type": "code",
   "execution_count": 169,
   "metadata": {},
   "outputs": [
    {
     "name": "stdout",
     "output_type": "stream",
     "text": [
      "(1000, 3)\n"
     ]
    },
    {
     "data": {
      "text/plain": [
       "array([[ 1.42517109e-01,  1.42518274e-01],\n",
       "       [ 2.54443133e-01,  2.54438904e-01],\n",
       "       [ 0.00000000e+00,  3.43633871e-50],\n",
       "       [ 5.52504709e-01,  5.52505878e-01],\n",
       "       [-6.95665747e-02, -6.95668001e-02],\n",
       "       [ 0.00000000e+00,  2.23578165e-36],\n",
       "       [ 3.04973824e-01,  3.04975849e-01],\n",
       "       [ 1.28146382e-01,  1.28119817e-01],\n",
       "       [ 0.00000000e+00,  1.51371304e-19],\n",
       "       [ 2.71687117e-01, -1.69670768e+03],\n",
       "       [-4.10316225e-02, -6.92702658e+01]])"
      ]
     },
     "execution_count": 169,
     "metadata": {},
     "output_type": "execute_result"
    }
   ],
   "source": [
    "np.vstack((scipy.optimize.approx_fprime(p0, model, 1e-10), grad(p0))).T"
   ]
  },
  {
   "cell_type": "code",
   "execution_count": 189,
   "metadata": {},
   "outputs": [
    {
     "data": {
      "text/plain": [
       "array([[ 1.42517109e-01,  1.42518274e-01],\n",
       "       [ 2.54443133e-01,  2.54438904e-01],\n",
       "       [ 0.00000000e+00,  3.43633871e-50],\n",
       "       [ 5.52504709e-01,  5.52505878e-01],\n",
       "       [-6.95665747e-02, -6.95668001e-02],\n",
       "       [ 0.00000000e+00,  2.23578165e-36],\n",
       "       [ 3.04973824e-01,  3.04975849e-01],\n",
       "       [ 1.28146382e-01,  1.28119817e-01],\n",
       "       [ 0.00000000e+00,  1.51371304e-19],\n",
       "       [ 2.71687117e-01,  2.71272528e-01],\n",
       "       [-4.10316225e-02, -4.09447053e-02]])"
      ]
     },
     "execution_count": 189,
     "metadata": {},
     "output_type": "execute_result"
    }
   ],
   "source": [
    "np.vstack((scipy.optimize.approx_fprime(p0, model, 1e-10), grad(p0))).T"
   ]
  },
  {
   "cell_type": "code",
   "execution_count": null,
   "metadata": {},
   "outputs": [],
   "source": []
  },
  {
   "cell_type": "code",
   "execution_count": 50,
   "metadata": {},
   "outputs": [
    {
     "data": {
      "text/plain": [
       "array([ 0.84804686,  1.19282023, -2.4230274 , -1.63610134, -2.41229485,\n",
       "        1.91579073, -0.67597475, -0.8093295 ])"
      ]
     },
     "execution_count": 50,
     "metadata": {},
     "output_type": "execute_result"
    }
   ],
   "source": [
    "p0"
   ]
  },
  {
   "cell_type": "code",
   "execution_count": 65,
   "metadata": {},
   "outputs": [
    {
     "data": {
      "text/plain": [
       "{0: ['w', 'hz'], 1: ['w', 'hz'], 2: ['w', 'hz'], 'shd': ['alpha1', 'alpha2']}"
      ]
     },
     "execution_count": 65,
     "metadata": {},
     "output_type": "execute_result"
    }
   ],
   "source": [
    "fid_pars['free_pars']"
   ]
  },
  {
   "cell_type": "code",
   "execution_count": 104,
   "metadata": {},
   "outputs": [
    {
     "data": {
      "text/plain": [
       "array([ 0.,  1.,  2.,  3.,  4.,  5.,  6.,  7.,  8.,  9., 10.])"
      ]
     },
     "execution_count": 104,
     "metadata": {},
     "output_type": "execute_result"
    }
   ],
   "source": [
    "test_arr = np.linspace(0,10,11)\n",
    "fid_pars['jacobians']['shd']['alpha1'](test_arr)"
   ]
  },
  {
   "cell_type": "code",
   "execution_count": 61,
   "metadata": {},
   "outputs": [
    {
     "data": {
      "text/plain": [
       "0.0"
      ]
     },
     "execution_count": 61,
     "metadata": {},
     "output_type": "execute_result"
    }
   ],
   "source": [
    "fid_pars['functions']['shd']['alpha1'](0.)"
   ]
  },
  {
   "cell_type": "code",
   "execution_count": 62,
   "metadata": {},
   "outputs": [
    {
     "data": {
      "text/plain": [
       "-1.0"
      ]
     },
     "execution_count": 62,
     "metadata": {},
     "output_type": "execute_result"
    }
   ],
   "source": [
    "fid_pars['functions_inv']['shd']['alpha1'](-1.)"
   ]
  },
  {
   "cell_type": "code",
   "execution_count": null,
   "metadata": {},
   "outputs": [],
   "source": []
  },
  {
   "cell_type": "code",
   "execution_count": null,
   "metadata": {},
   "outputs": [],
   "source": []
  },
  {
   "cell_type": "code",
   "execution_count": 42,
   "metadata": {},
   "outputs": [
    {
     "data": {
      "text/plain": [
       "('nexp', 0, 0, -3, 3)"
      ]
     },
     "execution_count": 42,
     "metadata": {},
     "output_type": "execute_result"
    }
   ],
   "source": [
    "param_trans['shd']['alpha1']"
   ]
  },
  {
   "cell_type": "code",
   "execution_count": 31,
   "metadata": {},
   "outputs": [
    {
     "data": {
      "text/plain": [
       "['alpha1', 'alpha2']"
      ]
     },
     "execution_count": 31,
     "metadata": {},
     "output_type": "execute_result"
    }
   ],
   "source": [
    "fid_pars['free_pars']['shd']"
   ]
  },
  {
   "cell_type": "code",
   "execution_count": 35,
   "metadata": {},
   "outputs": [
    {
     "data": {
      "text/plain": [
       "{'alpha1': <function transformations.<lambda>.<locals>.<lambda>(x)>,\n",
       " 'alpha2': <function transformations.<lambda>.<locals>.<lambda>(x)>}"
      ]
     },
     "execution_count": 35,
     "metadata": {},
     "output_type": "execute_result"
    }
   ],
   "source": [
    "fid_pars['functions']['shd']"
   ]
  },
  {
   "cell_type": "code",
   "execution_count": 34,
   "metadata": {},
   "outputs": [
    {
     "data": {
      "text/plain": [
       "{'alpha1': <function transformations.<lambda>.<locals>.<lambda>(x)>,\n",
       " 'alpha2': <function transformations.<lambda>.<locals>.<lambda>(x)>}"
      ]
     },
     "execution_count": 34,
     "metadata": {},
     "output_type": "execute_result"
    }
   ],
   "source": [
    "fid_pars['jacobians']['shd']"
   ]
  },
  {
   "cell_type": "code",
   "execution_count": null,
   "metadata": {},
   "outputs": [],
   "source": []
  },
  {
   "cell_type": "code",
   "execution_count": null,
   "metadata": {},
   "outputs": [],
   "source": [
    "if True:\n",
    "    print('Full fit, no error:')\n",
    "    sample_2d = np.vstack((1/sample['s'], np.log(1/sample['s']),\n",
    "                             sample['sinb'], np.log(np.sqrt(1-sample['sinb']**2)),\n",
    "                             sample['m']))\n",
    "    fid_pars['models']=[dh_msto.log_expmodel_grad, dh_msto.log_expmodel_grad, dh_msto.log_halomodel_grad]\n",
    "    poisson_kwargs_global = {'sample':sample_2d,\n",
    "                             'logmodel': dh_msto.logmodel_grad, 'model_integrate':dh_msto.integral_model,\n",
    "                             'param_bounds':bounds, 'gmm':None, 'bins':([0,np.inf],[-np.inf,np.inf]),\n",
    "                             'fid_pars':fid_pars, 'model_prior':None}\n",
    "    print('poisson_like(p0): %.2e' % poisson_like(p0))\n",
    "\n",
    "    sampler = samplers.run_mcmc_global(p0, poisson_like, bounds, nstep=nsteps, ncores=ncores, notebook=False)\n",
    "    output['chain']['full_noerr'] = sampler.chain\n",
    "    output['lnprob']['full_noerr'] = sampler.lnprobability\n",
    "\n",
    "#save_hdf5(output, savefile)s\n",
    "\n",
    "if True:\n",
    "    print('Full fil, parallax error:')\n",
    "    sample_2d = np.vstack((sample['parallax_obs'], sample['parallax_error'],\n",
    "                           np.abs(sample['sinb']), np.log(np.sqrt(1-sample['sinb']**2)),\n",
    "                           sample['m'], np.log(sample['parallax_error'])))\n",
    "    fid_pars['models']=[dh_msto.log_expmodel_perr, dh_msto.log_expmodel_perr, dh_msto.log_halomodel_perr]\n",
    "    poisson_kwargs_global = {'sample':sample_2d, 'logmodel': dh_msto.logmodel_perr, 'model_integrate':dh_msto.integral_model,\n",
    "                             'param_bounds':bounds, 'gmm':None, 'bins':([0,np.inf],[-np.inf,np.inf]),\n",
    "                             'fid_pars':fid_pars, 'model_prior':None}\n",
    "    print('poisson_like(p0): %.2e' % poisson_like(p0))\n",
    "\n",
    "    sampler = samplers.run_mcmc_global(p0, poisson_like, bounds, nstep=nsteps, ncores=ncores, notebook=False)\n",
    "    output['chain']['full_perr'] = sampler.chain\n",
    "    output['lnprob']['full_perr'] = sampler.lnprobability\n",
    "\n",
    "save_hdf5(output, savefile)"
   ]
  }
 ],
 "metadata": {
  "kernelspec": {
   "display_name": "py3",
   "language": "python",
   "name": "py3"
  },
  "language_info": {
   "codemirror_mode": {
    "name": "ipython",
    "version": 3
   },
   "file_extension": ".py",
   "mimetype": "text/x-python",
   "name": "python",
   "nbconvert_exporter": "python",
   "pygments_lexer": "ipython3",
   "version": "3.5.2"
  }
 },
 "nbformat": 4,
 "nbformat_minor": 2
}
