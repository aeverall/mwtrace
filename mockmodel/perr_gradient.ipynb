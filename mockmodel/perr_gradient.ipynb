{
 "cells": [
  {
   "cell_type": "code",
   "execution_count": 1,
   "metadata": {},
   "outputs": [],
   "source": [
    "%load_ext autoreload\n",
    "%autoreload 2\n",
    "\n",
    "import sys, os, pickle, time, warnings\n",
    "import numpy as np, pandas as pd, scipy, scipy.stats as stats, tqdm, h5py\n",
    "from copy import deepcopy as copy\n",
    "\n",
    "# Plotting modules\n",
    "import matplotlib, corner\n",
    "from pylab import cm\n",
    "import matplotlib.pyplot as plt\n",
    "from matplotlib.colors import LogNorm"
   ]
  },
  {
   "cell_type": "code",
   "execution_count": 2,
   "metadata": {},
   "outputs": [],
   "source": [
    "# Plotting modules\n",
    "font = {'family' : 'serif', 'weight' : 'normal',\n",
    "        'size'   : 16}\n",
    "legend = {'fontsize': 16}\n",
    "matplotlib.rc('font', **font)\n",
    "matplotlib.rc('legend', **legend)\n",
    "plt.rc('text', usetex=True)\n",
    "plt.rc('axes', labelsize=16)\n",
    "plt.rc('xtick',labelsize=16)\n",
    "plt.rc('ytick',labelsize=16)\n",
    "plt.rc('legend',fontsize=16)\n",
    "\n",
    "cm_default = plt.rcParams['axes.prop_cycle'].by_key()['color']\n",
    "\n",
    "corner_kwargs = {'max_n_ticks':3, 'title_kwargs':{\"fontsize\": 16}, 'label_kwargs':{'fontsize':16}}"
   ]
  },
  {
   "cell_type": "code",
   "execution_count": 3,
   "metadata": {},
   "outputs": [],
   "source": [
    "sys.path.extend(['../utilities/', '../models/'])\n",
    "import samplers, disk_cone_plcut as dcp, plotting, transformations\n",
    "from transformations import func_inv_jac, func_labels, label_dict\n",
    "import functions"
   ]
  },
  {
   "cell_type": "code",
   "execution_count": 4,
   "metadata": {},
   "outputs": [],
   "source": [
    "import disk_halo_mstogap as dh_msto"
   ]
  },
  {
   "cell_type": "code",
   "execution_count": null,
   "metadata": {},
   "outputs": [],
   "source": [
    "pi_mu, pi_err, abs_sin_lat, m_mu, log_pi_err, hz=1., alpha1=-1., alpha2=-1., alpha3=-1.,\n",
    "                                Mto=4., Mms=8., Mms1=9., Mms2=7., fD=0.5, Mx=10., R0=8.27, degree=21):"
   ]
  },
  {
   "cell_type": "markdown",
   "metadata": {},
   "source": [
    "# Test Disk Likelihood gradient"
   ]
  },
  {
   "cell_type": "code",
   "execution_count": 251,
   "metadata": {},
   "outputs": [],
   "source": [
    "size = 1"
   ]
  },
  {
   "cell_type": "code",
   "execution_count": 252,
   "metadata": {},
   "outputs": [],
   "source": [
    "kwargs = {'hz':1., 'alpha1':-1., 'alpha2':-1., 'alpha3':-1.,\n",
    "          'Mto':4., 'Mms':8., 'Mms1':9., 'Mms2':7., \n",
    "          'fD':0.5, 'Mx':10., 'R0':8.27, 'degree':21}"
   ]
  },
  {
   "cell_type": "code",
   "execution_count": 407,
   "metadata": {},
   "outputs": [
    {
     "data": {
      "text/plain": [
       "{'M': array([8.12723482]),\n",
       " 'cmpt': array([1]),\n",
       " 'l': array([5.86356284]),\n",
       " 'm': array([21.09319941]),\n",
       " 'm_err': array([0.47444547]),\n",
       " 'm_obs': array([20.84397101]),\n",
       " 'parallax_error': array([0.39568133]),\n",
       " 'parallax_obs': array([0.28534232]),\n",
       " 's': array([3.91915933]),\n",
       " 'sinb': array([0.88310954]),\n",
       " 'source_id': array([32722])}"
      ]
     },
     "execution_count": 407,
     "metadata": {},
     "output_type": "execute_result"
    }
   ],
   "source": [
    "sample = {}; true_pars={}; latent_pars={}; cmpt=0;\n",
    "filename = '/data/asfe2/Projects/mwtrace_data/mockmodel/sample.h'\n",
    "with h5py.File(filename, 'r') as hf:\n",
    "    subset = (hf['sample']['M'][...]>5)\n",
    "    subsample  = np.sort(np.random.choice(np.arange(np.sum(subset)), size=size, replace=False))\n",
    "    for key in hf['sample'].keys():\n",
    "        sample[key]=hf['sample'][key][...][subset][subsample]\n",
    "    # Get true parameters\n",
    "    for key in hf['true_pars'].keys():\n",
    "        if not key in np.arange(3).astype(str):\n",
    "            true_pars[key]=hf['true_pars'][key][...]\n",
    "        else:\n",
    "            true_pars[int(key)]={}\n",
    "            for par in hf['true_pars'][key].keys():\n",
    "                true_pars[int(key)][par]=hf['true_pars'][key][par][...]\n",
    "for j in range(3): true_pars[j]['w']*=size\n",
    "    \n",
    "args = (sample['parallax_obs'], sample['parallax_error'], sample['sinb'], \\\n",
    "    sample['m_obs'], np.log(sample['parallax_error']))\n",
    "sample"
   ]
  },
  {
   "cell_type": "code",
   "execution_count": 348,
   "metadata": {
    "scrolled": true
   },
   "outputs": [
    {
     "data": {
      "text/plain": [
       "(array([-4.1757247]), (array([-4.17366804]), array([[ 1.1690662 ],\n",
       "         [-0.31573264],\n",
       "         [ 0.28635836],\n",
       "         [        nan],\n",
       "         [ 1.46510109],\n",
       "         [ 0.05013797]])))"
      ]
     },
     "execution_count": 348,
     "metadata": {},
     "output_type": "execute_result"
    }
   ],
   "source": [
    "dh_msto.log_expmodel_perr(*args, **kwargs), dh_msto.log_expmodel_perr_grad(*args, **kwargs, grad=True)"
   ]
  },
  {
   "cell_type": "code",
   "execution_count": 349,
   "metadata": {},
   "outputs": [],
   "source": [
    "kwargs = {'Mms':8., 'Mms1':9., 'Mms2':7., \n",
    "          'Mx':10., 'R0':8.27, 'degree':21}\n",
    "model = lambda x: dh_msto.log_expmodel_perr_grad(*args, hz=x[0], alpha3=x[1], fD=x[2], alpha1=x[4], alpha2=x[5],\n",
    "                                                Mto=x[3],  **kwargs, grad=True)[0]\n",
    "grad = lambda x: dh_msto.log_expmodel_perr_grad(*args, hz=x[0], alpha3=x[1], fD=x[2], alpha1=x[4], alpha2=x[5],\n",
    "                                                Mto=x[3],  **kwargs, grad=True)[1][:,0]"
   ]
  },
  {
   "cell_type": "code",
   "execution_count": 353,
   "metadata": {},
   "outputs": [
    {
     "data": {
      "text/plain": [
       "array([[ 0.30793146,  0.30770291],\n",
       "       [-0.51718629, -0.51722961],\n",
       "       [ 0.7872103 ,  0.78721123],\n",
       "       [ 0.74306783,         nan],\n",
       "       [ 0.58413718,  0.58426291],\n",
       "       [ 0.07648993,  0.07648868]])"
      ]
     },
     "execution_count": 353,
     "metadata": {},
     "output_type": "execute_result"
    }
   ],
   "source": [
    "x0 = np.array([1,-0.5,0.5,4,-1,-1.1])\n",
    "np.vstack(( scipy.optimize.approx_fprime(x0, model, 1e-10), grad(x0) )).T"
   ]
  },
  {
   "cell_type": "markdown",
   "metadata": {},
   "source": [
    "# Halo"
   ]
  },
  {
   "cell_type": "code",
   "execution_count": 354,
   "metadata": {},
   "outputs": [],
   "source": [
    "warnings.filterwarnings('ignore', r'divide by zero encountered')"
   ]
  },
  {
   "cell_type": "code",
   "execution_count": 408,
   "metadata": {},
   "outputs": [],
   "source": [
    "kwargs = {'Mms':8., 'Mms1':9., 'Mms2':7., \n",
    "          'Mx':10., 'R0':8.27, 'degree':11}\n",
    "model = lambda x: dh_msto.log_halomodel_perr_grad(*args, hz=x[0], alpha3=x[1], fD=x[2], alpha1=x[4], alpha2=x[5],\n",
    "                                                Mto=x[3],  **kwargs, grad=True)[0]\n",
    "grad = lambda x: dh_msto.log_halomodel_perr_grad(*args, hz=x[0], alpha3=x[1], fD=x[2], alpha1=x[4], alpha2=x[5],\n",
    "                                                Mto=x[3],  **kwargs, grad=True)[1][:,0]"
   ]
  },
  {
   "cell_type": "code",
   "execution_count": 409,
   "metadata": {},
   "outputs": [
    {
     "data": {
      "text/plain": [
       "array([[-1.70722991, -1.7065387 ],\n",
       "       [ 0.31675107,  0.31731099],\n",
       "       [-1.97395877, -1.97396354],\n",
       "       [-0.50544458,         nan],\n",
       "       [ 0.0074607 ,  0.00745997],\n",
       "       [ 0.00257572,  0.00256529]])"
      ]
     },
     "execution_count": 409,
     "metadata": {},
     "output_type": "execute_result"
    }
   ],
   "source": [
    "x0 = np.array([2.,-1.5,0.5,4,-1,-1.1])\n",
    "np.vstack(( scipy.optimize.approx_fprime(x0, model, 1e-10), grad(x0) )).T"
   ]
  },
  {
   "cell_type": "code",
   "execution_count": 386,
   "metadata": {},
   "outputs": [],
   "source": [
    "test_args = (1,3,2.,0.5,0.1,0.,0.,1.)\n",
    "model = lambda h: dh_msto.halomodel_perr_integrand(0.1, *(1,3,h,0.5,0.1))\n",
    "grad = lambda h: dh_msto.halomodel_perr_integrand_dh(0.1, *(1,3,h,0.5,0.1))"
   ]
  },
  {
   "cell_type": "code",
   "execution_count": 387,
   "metadata": {},
   "outputs": [
    {
     "data": {
      "text/plain": [
       "array([[-6.14583813e-07, -6.14583826e-07]])"
      ]
     },
     "execution_count": 387,
     "metadata": {},
     "output_type": "execute_result"
    }
   ],
   "source": [
    "h = 0.1\n",
    "np.vstack(( scipy.optimize.approx_fprime(np.array([h]), model, 1e-10), grad(h) )).T"
   ]
  },
  {
   "cell_type": "code",
   "execution_count": 383,
   "metadata": {},
   "outputs": [],
   "source": [
    "test_args = (1,3,2.,0.5,0.1,0.,0.,1.)\n",
    "model = lambda n: dh_msto.halomodel_perr_integrand(0.1, *(1,n,2.,0.5,0.1))\n",
    "grad = lambda n: dh_msto.halomodel_perr_integrand_dn(0.1, *(1,n,2.,0.5,0.1))"
   ]
  },
  {
   "cell_type": "code",
   "execution_count": 388,
   "metadata": {},
   "outputs": [
    {
     "data": {
      "text/plain": [
       "array([[-6.14583813e-07, -6.14583826e-07]])"
      ]
     },
     "execution_count": 388,
     "metadata": {},
     "output_type": "execute_result"
    }
   ],
   "source": [
    "n=0.1\n",
    "np.vstack(( scipy.optimize.approx_fprime(np.array([n]), model, 1e-10), grad(n) )).T"
   ]
  },
  {
   "cell_type": "code",
   "execution_count": 202,
   "metadata": {},
   "outputs": [],
   "source": [
    "test_args = (0.11459087188687923, -1.9315154043531053, 62.460138858539736,\n",
    "             -0.6133993246056172,  1.002678948333817, 0.2, 0.5709469567273955)\n",
    "beta, n, h, mu, err, a, b = test_args\n",
    "grad = lambda x: dh_msto.halomodel_perr_logit_grad(x, test_args) \\\n",
    "               * dh_msto.halomodel_perr_integrand(x, *test_args[:-2])/(x*(beta**2+x**2))\n",
    "model = lambda x: (x-test_args[-2])*(test_args[-1]-x)*dh_msto.halomodel_perr_integrand(x, *test_args[:-2])"
   ]
  },
  {
   "cell_type": "code",
   "execution_count": 176,
   "metadata": {},
   "outputs": [
    {
     "data": {
      "text/plain": [
       "array([0.01025454, 0.00886006, 0.00260297])"
      ]
     },
     "execution_count": 176,
     "metadata": {},
     "output_type": "execute_result"
    }
   ],
   "source": [
    "model(np.array([0.4, 0.5, 0.3]))"
   ]
  },
  {
   "cell_type": "code",
   "execution_count": 203,
   "metadata": {},
   "outputs": [
    {
     "data": {
      "text/plain": [
       "(0.052879228773505815, 0.05287882306911542)"
      ]
     },
     "execution_count": 203,
     "metadata": {},
     "output_type": "execute_result"
    }
   ],
   "source": [
    "p=0.4\n",
    "scipy.optimize.approx_fprime(np.array([p]), model, 1e-10)[0], grad(p)"
   ]
  },
  {
   "cell_type": "code",
   "execution_count": 220,
   "metadata": {},
   "outputs": [],
   "source": [
    "grad = lambda x: dh_msto.halomodel_perr_logit_grad_dn(x, test_args) \\\n",
    "               * dh_msto.halomodel_perr_integrand_dn(x, *test_args[:-2])/(x*(beta**2+x**2))\n",
    "model = lambda x: (x-test_args[-2])*(test_args[-1]-x)*dh_msto.halomodel_perr_integrand_dn(x, *test_args[:-2])"
   ]
  },
  {
   "cell_type": "code",
   "execution_count": 216,
   "metadata": {},
   "outputs": [
    {
     "data": {
      "text/plain": [
       "(-0.02281636685141919, -0.022816013578456487)"
      ]
     },
     "execution_count": 216,
     "metadata": {},
     "output_type": "execute_result"
    }
   ],
   "source": [
    "p=0.4\n",
    "scipy.optimize.approx_fprime(np.array([p]), model, 1e-10)[0], grad(p)"
   ]
  },
  {
   "cell_type": "code",
   "execution_count": 233,
   "metadata": {},
   "outputs": [],
   "source": [
    "grad = lambda x: dh_msto.halomodel_perr_logit_grad_dh(x, test_args) \\\n",
    "               * dh_msto.halomodel_perr_integrand_dh(x, *test_args[:-2])/(x*(beta**2+x**2))\n",
    "model = lambda x: (x-test_args[-2])*(test_args[-1]-x)*dh_msto.halomodel_perr_integrand_dh(x, *test_args[:-2])"
   ]
  },
  {
   "cell_type": "code",
   "execution_count": 237,
   "metadata": {},
   "outputs": [
    {
     "data": {
      "text/plain": [
       "(-0.00014103079598246082, -0.00014103021325713786)"
      ]
     },
     "execution_count": 237,
     "metadata": {},
     "output_type": "execute_result"
    }
   ],
   "source": [
    "p=0.4\n",
    "scipy.optimize.approx_fprime(np.array([p]), model, 1e-9)[0], grad(p)"
   ]
  },
  {
   "cell_type": "code",
   "execution_count": null,
   "metadata": {},
   "outputs": [],
   "source": []
  },
  {
   "cell_type": "markdown",
   "metadata": {},
   "source": [
    "# Full multi-component model with logmodel_perr_grad\n",
    "Data generated in generate_population.py"
   ]
  },
  {
   "cell_type": "code",
   "execution_count": 5,
   "metadata": {},
   "outputs": [],
   "source": [
    "warnings.filterwarnings('ignore', r'invalid value')\n",
    "warnings.filterwarnings('ignore', r'divide by zero encountered')"
   ]
  },
  {
   "cell_type": "code",
   "execution_count": 166,
   "metadata": {},
   "outputs": [],
   "source": [
    "size = 10000"
   ]
  },
  {
   "cell_type": "code",
   "execution_count": 167,
   "metadata": {},
   "outputs": [],
   "source": [
    "sample = {}; true_pars={}; latent_pars={};\n",
    "filename = '/data/asfe2/Projects/mwtrace_data/mockmodel/sample.h'\n",
    "with h5py.File(filename, 'r') as hf:\n",
    "    subset = (hf['sample']['m'][...]>0)&(hf['sample']['m'][...]<30)\n",
    "    subsample  = np.sort(np.random.choice(np.arange(np.sum(subset)), size=size, replace=False))\n",
    "    for key in hf['sample'].keys():\n",
    "        sample[key]=hf['sample'][key][...][subset][subsample]\n",
    "    # Get true parameters\n",
    "    for key in hf['true_pars'].keys():\n",
    "        if not key in np.arange(3).astype(str): \n",
    "            true_pars[key]=hf['true_pars'][key][...]\n",
    "        else:\n",
    "            true_pars[key]={}\n",
    "            for par in hf['true_pars'][key].keys():\n",
    "                true_pars[key][par]=hf['true_pars'][key][par][...]"
   ]
  },
  {
   "cell_type": "code",
   "execution_count": 169,
   "metadata": {},
   "outputs": [
    {
     "data": {
      "text/plain": [
       "(array([10.41065703, -1.7413033 ]), array([29.98485077, 10.69995811]))"
      ]
     },
     "execution_count": 169,
     "metadata": {},
     "output_type": "execute_result"
    }
   ],
   "source": [
    "np.min(np.vstack((sample['m'], sample['M'])).T, axis=0), np.max(np.vstack((sample['m'], sample['M'])).T, axis=0)"
   ]
  },
  {
   "cell_type": "code",
   "execution_count": 170,
   "metadata": {},
   "outputs": [],
   "source": [
    "sys.path.extend(['../utilities/', '../models/'])\n",
    "import samplers, disk_cone_plcut as dcp, plotting, transformations"
   ]
  },
  {
   "cell_type": "code",
   "execution_count": 171,
   "metadata": {},
   "outputs": [],
   "source": [
    "labels = np.array( [r'$\\log(\\mathcal{N})$',  r'$\\log(1/h_z)$', r'$\\alpha$'])"
   ]
  },
  {
   "cell_type": "code",
   "execution_count": 172,
   "metadata": {},
   "outputs": [
    {
     "data": {
      "text/plain": [
       "{'0': {'Mto': array(4.8),\n",
       "  'alpha3': array(-1.),\n",
       "  'fD': array(0.94),\n",
       "  'hz': array(0.9),\n",
       "  'w': array(0.2)},\n",
       " '1': {'Mto': array(3.14),\n",
       "  'alpha3': array(-0.5),\n",
       "  'fD': array(0.998),\n",
       "  'hz': array(1.9),\n",
       "  'w': array(0.3)},\n",
       " '2': {'Mto': array(3.3),\n",
       "  'alpha3': array(-0.6),\n",
       "  'fD': array(0.995),\n",
       "  'hz': array(4.6),\n",
       "  'w': array(0.5)},\n",
       " 'Mms': array(8.),\n",
       " 'Mms1': array(9.),\n",
       " 'Mms2': array(7.),\n",
       " 'Mx': array(10.7),\n",
       " 'N': array(100000),\n",
       " 'R0': array(8.27),\n",
       " 'alpha1': array(-0.15),\n",
       " 'alpha2': array(-0.3),\n",
       " 'theta_deg': array(60)}"
      ]
     },
     "execution_count": 172,
     "metadata": {},
     "output_type": "execute_result"
    }
   ],
   "source": [
    "true_pars"
   ]
  },
  {
   "cell_type": "code",
   "execution_count": 173,
   "metadata": {},
   "outputs": [
    {
     "name": "stdout",
     "output_type": "stream",
     "text": [
      " Free:  ['w', 'hz', 'alpha3']  Free shared:  []  Fixed:  {'Mms': array(8.), 'alpha1': -1.0, 'alpha2': -1.0, 'Mto': array(4.8), 'fD': 0.001, 'Mms2': array(7.), 'Mms1': array(9.)}\n"
     ]
    }
   ],
   "source": [
    "fid_pars = {'Mmax':true_pars['Mx'],  'lat_min':np.deg2rad(true_pars['theta_deg']),\n",
    "            'R0':true_pars['R0'],\n",
    "            'free_pars':{}, 'fixed_pars':{}, 'functions':{}, 'functions_inv':{}, 'jacobians':{}, 'w':True,\n",
    "            'models':[dh_msto.log_expmodel_grad], 'components':['disk'], 'ncomponents':1}\n",
    "\n",
    "fid_pars['free_pars'][0] = ['w', 'hz', 'alpha3']\n",
    "fid_pars['free_pars']['shd'] = []\n",
    "\n",
    "fid_pars['fixed_pars'][0] = {'Mms':true_pars['Mms'], 'fD':0.001, 'alpha1':-1., 'alpha2':-1.,\n",
    "                             'Mms1':true_pars['Mms1'], 'Mms2':true_pars['Mms2'], 'Mto':true_pars['0']['Mto']}\n",
    "\n",
    "print(' Free: ', fid_pars['free_pars'][0], ' Free shared: ', fid_pars['free_pars']['shd'], ' Fixed: ', fid_pars['fixed_pars'][0])\n",
    "\n",
    "fid_pars['functions'][0] = {'hz':lambda x:np.exp(-x), 'alpha3':lambda x:x, 'w':lambda x: np.exp(x)}\n",
    "fid_pars['functions_inv'][0] = {'hz':lambda x:np.log(1/x), 'alpha3':lambda x: x, 'w':lambda x: np.log(x)}\n",
    "fid_pars['jacobians'][0] = {'alpha3':lambda x:x, 'w':lambda x:x,'hz':lambda x:x}\n",
    "\n",
    "fid_pars['functions'][0] = {'hz':lambda x:x, 'alpha3':lambda x:x, 'w':lambda x:x}\n",
    "fid_pars['functions_inv'][0] = {'hz':lambda x:x, 'alpha3':lambda x:x, 'w':lambda x:x}\n",
    "fid_pars['jacobians'][0] = {'alpha3':lambda x:1, 'w':lambda x:1,'hz':lambda x:1}"
   ]
  },
  {
   "cell_type": "code",
   "execution_count": 174,
   "metadata": {},
   "outputs": [],
   "source": [
    "sample_2d = np.vstack((sample['parallax_obs'], sample['parallax_error'], \n",
    "                       np.abs(sample['sinb']), np.log(np.sqrt(1-sample['sinb']**2)), \n",
    "                       sample['m'], np.log(sample['parallax_error'])))\n",
    "\n",
    "true_params = np.array([np.log(size), np.log(1/true_pars['0']['hz']), \n",
    "                        true_pars['0']['alpha3']])"
   ]
  },
  {
   "cell_type": "markdown",
   "metadata": {},
   "source": [
    "## Disk"
   ]
  },
  {
   "cell_type": "code",
   "execution_count": 175,
   "metadata": {},
   "outputs": [],
   "source": [
    "fid_pars['models']=[dh_msto.log_expmodel_perr_grad]\n",
    "\n",
    "bounds = np.array([[-10, -10,         -5.],\n",
    "                   [ 10,  10,          0.]])\n",
    "p0 = np.array([10,1.,-1.])"
   ]
  },
  {
   "cell_type": "code",
   "execution_count": 176,
   "metadata": {},
   "outputs": [
    {
     "data": {
      "text/plain": [
       "array([], shape=(0, 1), dtype=int64)"
      ]
     },
     "execution_count": 176,
     "metadata": {},
     "output_type": "execute_result"
    }
   ],
   "source": [
    "np.argwhere(np.isnan(dh_msto.logmodel_perr_grad(sample_2d, p0, gmm=None, fid_pars=fid_pars, grad=False)))"
   ]
  },
  {
   "cell_type": "code",
   "execution_count": 63,
   "metadata": {
    "collapsed": true
   },
   "outputs": [
    {
     "name": "stdout",
     "output_type": "stream",
     "text": [
      "[array([ -7.45154321,  -8.82377175,  -3.7747559 ,  -9.02134549,\n",
      "       -19.36860884,  -0.37975832,   1.96981603,   3.27091049,\n",
      "       -15.12808968,  -5.95555861, -13.32974271,  -1.51753746,\n",
      "        -1.78385877,   1.66326625,  -6.46117314, -16.29585527,\n",
      "        -0.62830412,   0.34062622,  -4.67048652, -15.13378877,\n",
      "        -4.79646006, -15.00651411,  -5.61661402,  -0.95270519,\n",
      "       -21.66171742,   2.35755573,   2.35237379,   3.91154021,\n",
      "         2.0354968 ,   0.43582452,   2.18540216,  -4.88775394,\n",
      "         3.40811248,   5.00727462,  -4.49574102,   3.54021793,\n",
      "         2.3621609 ,   4.07519568,   5.47418678,   2.8296864 ,\n",
      "         3.89126964,  -6.17364011,   1.10023598,   2.36675875,\n",
      "         3.85037342,   4.53324454,   4.37735804,  -4.04034609,\n",
      "       -12.04202663,   5.38087909,  -1.31209065,  -1.37061303,\n",
      "        -5.03828379,   0.15796514,   2.60166294,   1.604955  ,\n",
      "         5.1897219 ,   3.6594058 , -10.74497222,   2.87864403,\n",
      "         4.22678271, -11.01333143,  -3.23534792,   4.32454831,\n",
      "        -4.3693264 ,  -6.50556738,   1.29909592,   0.54977221,\n",
      "         0.28619916,  -0.12161604,  -1.44909438,   3.39917009,\n",
      "       -23.17980695, -11.05601955,   0.14214447,   3.38431244,\n",
      "         3.76167681,   3.72330578,  -0.32379866,   4.9792044 ,\n",
      "         1.36984408,   3.42784776,   0.19999358, -15.55204746,\n",
      "        -3.47377401,  -3.25098178,  -2.41582592,   0.17185503,\n",
      "         5.79259563,  -9.76047664,   3.70451105,  -7.29093669,\n",
      "         4.77541992,   4.40341298,  -8.79239824, -14.42491816,\n",
      "        -1.97173154,  -0.80028258, -24.13140219,  -1.64983881]), array([-15.17199255, -16.5442211 , -11.49520525, -16.74179484,\n",
      "       -27.08905819,  -8.10020767,  -5.75063332,  -4.44953886,\n",
      "       -22.84853903, -13.67600796, -21.05019206,  -9.23798681,\n",
      "        -9.50430812,  -6.0571831 , -14.18162249, -24.01630462,\n",
      "        -8.34875347,  -7.37982313, -12.39093587, -22.85423812,\n",
      "       -12.51690941, -22.72696346, -13.33706337,  -8.67315454,\n",
      "       -29.38216677,  -5.36289362,  -5.36807556,  -3.80890914,\n",
      "        -5.68495255,  -7.28462483,  -5.53504719, -12.60820329,\n",
      "        -4.31233687,  -2.71317473, -12.21619037,  -4.18023142,\n",
      "        -5.35828845,  -3.64525367,  -2.24626257,  -4.89076295,\n",
      "        -3.82917971, -13.89408946,  -6.62021337,  -5.3536906 ,\n",
      "        -3.87007593,  -3.18720481,  -3.3430913 , -11.76079544,\n",
      "       -19.76247598,  -2.33957026,  -9.03254   ,  -9.09106238,\n",
      "       -12.75873314,  -7.56248421,  -5.11878641,  -6.11549435,\n",
      "        -2.53072745,  -4.06104354, -18.46542157,  -4.84180532,\n",
      "        -3.49366664, -18.73378078, -10.95579727,  -3.39590104,\n",
      "       -12.08977575, -14.22601673,  -6.42135343,  -7.17067714,\n",
      "        -7.43425019,  -7.84206539,  -9.16954373,  -4.32127926,\n",
      "       -30.9002563 , -18.7764689 ,  -7.57830488,  -4.33613691,\n",
      "        -3.95877253,  -3.99714357,  -8.04424801,  -2.74124495,\n",
      "        -6.35060527,  -4.29260159,  -7.52045577, -23.27249681,\n",
      "       -11.19422336, -10.97143113, -10.13627527,  -7.54859432,\n",
      "        -1.92785372, -17.48092599,  -4.0159383 , -15.01138604,\n",
      "        -2.94502943,  -3.31703637, -16.51284759, -22.14536751,\n",
      "        -9.69218089,  -8.52073193, -31.85185154,  -9.37028816]), array([-1.88015747e+01, -2.11798780e+01, -1.24290826e+01, -2.15223066e+01,\n",
      "       -3.94558579e+01, -6.54497965e+00, -2.47277132e+00, -2.17755333e-01,\n",
      "       -3.21063235e+01, -1.62087813e+01, -2.89894851e+01, -8.51694266e+00,\n",
      "       -8.97852236e+00, -3.00407376e+00, -1.70850965e+01, -3.41302581e+01,\n",
      "       -6.97575141e+00, -5.29643183e+00, -1.39815348e+01, -3.21162010e+01,\n",
      "       -1.41998681e+01, -3.18956125e+01, -1.56213332e+01, -7.53799314e+00,\n",
      "       -4.34302015e+01, -1.80075307e+00, -1.80973425e+00,  8.92563933e-01,\n",
      "       -2.35893547e+00, -5.13143713e+00, -2.09912422e+00, -1.43580958e+01,\n",
      "        2.00388272e-02,  2.79165634e+00, -1.36786714e+01,  2.48999842e-01,\n",
      "       -1.79277153e+00,  1.17620645e+00,  3.60089379e+00, -9.82471055e-01,\n",
      "        8.57431613e-01, -1.65867533e+01, -3.97990010e+00, -1.78480268e+00,\n",
      "        7.86551572e-01,  1.97008232e+00,  1.69990475e+00, -1.28893952e+01,\n",
      "       -2.67576561e+01,  3.43917584e+00, -8.16086871e+00, -8.26229785e+00,\n",
      "       -1.46189894e+01, -5.61301427e+00, -1.37767413e+00, -3.10513697e+00,\n",
      "        3.10786822e+00,  4.55572517e-01, -2.45096422e+01, -8.97619223e-01,\n",
      "        1.43893231e+00, -2.49747540e+01, -1.14941977e+01,  1.60837657e+00,\n",
      "       -1.34595735e+01, -1.71620392e+01, -3.63524230e+00, -4.93394658e+00,\n",
      "       -5.39076310e+00, -6.09757557e+00, -8.39831926e+00,  4.54015955e-03,\n",
      "       -4.60613065e+01, -2.50487397e+01, -5.64043416e+00, -2.12106417e-02,\n",
      "        6.32825414e-01,  5.66321939e-01, -6.44799213e+00,  2.74300591e+00,\n",
      "       -3.51262382e+00,  5.42434042e-02, -5.54017191e+00, -3.28411138e+01,\n",
      "       -1.19074303e+01, -1.15212938e+01, -1.00738279e+01, -5.58894075e+00,\n",
      "        4.15275000e+00, -2.28033455e+01,  5.33747506e-01, -1.85232165e+01,\n",
      "        2.38981306e+00,  1.74506235e+00, -2.11255024e+01, -3.08876087e+01,\n",
      "       -9.30413754e+00, -7.27381906e+00, -4.77105814e+01, -8.74624320e+00]), array([-13.70565549, -15.07788403, -10.02886818, -15.27545777,\n",
      "       -25.62272112,  -6.6338706 ,  -4.28429625,  -2.98320179,\n",
      "       -21.38220196, -12.20967089, -19.58385499,  -7.77164974,\n",
      "        -8.03797105,  -4.59084603, -12.71528542, -22.54996755,\n",
      "        -6.8824164 ,  -5.91348606, -10.9245988 , -21.38790105,\n",
      "       -11.05057234, -21.26062639, -11.8707263 ,  -7.20681747,\n",
      "       -27.9158297 ,  -3.89655655,  -3.90173849,  -2.34257207,\n",
      "        -4.21861548,  -5.81828776,  -4.06871012, -11.14186622,\n",
      "        -2.8459998 ,  -1.24683766, -10.7498533 ,  -2.71389435,\n",
      "        -3.89195138,  -2.1789166 ,  -0.77992551,  -3.42442588,\n",
      "        -2.36284265, -12.42775239,  -5.1538763 ,  -3.88735353,\n",
      "        -2.40373886,  -1.72086774,  -1.87675424, -10.29445837,\n",
      "       -18.29613891,  -0.87323319,  -7.56620293,  -7.62472531,\n",
      "       -11.29239607,  -6.09614714,  -3.65244934,  -4.64915728,\n",
      "        -1.06439038,  -2.59470648, -16.9990845 ,  -3.37546825,\n",
      "        -2.02732957, -17.26744371,  -9.4894602 ,  -1.92956397,\n",
      "       -10.62343868, -12.75967966,  -4.95501636,  -5.70434007,\n",
      "        -5.96791312,  -6.37572832,  -7.70320666,  -2.85494219,\n",
      "       -29.43391923, -17.31013183,  -6.11196781,  -2.86979984,\n",
      "        -2.49243547,  -2.5308065 ,  -6.57791094,  -1.27490788,\n",
      "        -4.8842682 ,  -2.82626452,  -6.05411871, -21.80615974,\n",
      "        -9.72788629,  -9.50509406,  -8.6699382 ,  -6.08225725,\n",
      "        -0.46151665, -16.01458892,  -2.54960123, -13.54504897,\n",
      "        -1.47869236,  -1.8506993 , -15.04651052, -20.67903044,\n",
      "        -8.22584382,  -7.05439486, -30.38551447,  -7.90395109])] [[ 1.41993044e-001  5.48973098e-001  4.26606806e-001  1.73560384e-001\n",
      "   1.11873710e-001  8.40380585e-002  7.40860359e-002  1.55084244e-002\n",
      "   4.38641178e-003  2.17658254e-001  7.53923641e-001  3.56370148e-002\n",
      "   6.15003486e-001  1.29063947e-001  3.75393497e-001  1.76880618e-002\n",
      "   4.31054885e-001  2.62365399e-002  8.11853312e-001  4.63198638e-003\n",
      "   6.43044109e-002  1.58122263e-001  2.00098157e-001  4.54596590e-001\n",
      "   1.54854073e-001  4.46003877e-002  3.14212167e-002  2.26227296e-004\n",
      "   6.77409374e-002  1.46377575e-001  4.08755172e-002  1.15841940e-001\n",
      "   9.06216735e-003  5.43655191e-005  3.30099151e-001  7.18052389e-003\n",
      "   8.57312166e-006  5.74968021e-004  3.74351608e-007  3.29490094e-002\n",
      "   1.29653923e-003  5.90598656e-001  1.65357255e-001  4.32373496e-002\n",
      "   1.10719631e-003  6.22301852e-004  6.29708392e-004  1.63880042e-001\n",
      "   1.46141159e-001  2.13687411e-005  2.17411873e-001  3.06969076e-001\n",
      "   1.43722687e-001  2.85962765e-001  3.38572214e-002  8.83012176e-002\n",
      "   2.65688626e-007  3.45035190e-003  2.87749172e-001  1.85033129e-002\n",
      "   3.01354625e-004  3.31344012e-002  4.19835913e-002  4.39493141e-004\n",
      "   3.37491038e-002  5.49430971e-001  1.47210310e-001  6.89174160e-003\n",
      "   2.34088746e-001  9.47175105e-002  7.13271588e-002  2.16170864e-003\n",
      "   6.05194057e-001  7.05278599e-002  5.34061266e-003  1.17707504e-002\n",
      "   2.38142603e-004  5.50562000e-003  5.89881265e-004  5.27408370e-005\n",
      "   1.52210155e-001  4.81863224e-003  9.24420167e-002  1.70264338e-001\n",
      "   5.20762791e-001  3.97010744e-001  8.90914935e-002  1.41010834e-001\n",
      "   1.65452796e-006  3.54179197e-001  3.01688712e-003  4.93985487e-001\n",
      "   1.29088294e-004  5.37389641e-004  2.21722339e-001  7.37186073e-004\n",
      "   1.64657793e-001  9.04480929e-004  1.79509500e-001  4.86950304e-001]\n",
      " [ 0.00000000e+000 -1.03468876e-079 -1.55009907e-001  0.00000000e+000\n",
      "   0.00000000e+000 -3.71364068e-002 -7.40698112e-002 -1.55071416e-002\n",
      "   0.00000000e+000 -1.56884469e-048  0.00000000e+000 -1.51674200e-003\n",
      "  -3.39907607e-001 -1.27783467e-001 -3.38984591e-014  0.00000000e+000\n",
      "  -3.21128625e-001 -5.81504748e-003 -8.19904561e-002  0.00000000e+000\n",
      "   0.00000000e+000  0.00000000e+000 -3.02926366e-012 -3.70614251e-001\n",
      "   0.00000000e+000 -4.45553283e-002 -3.13052206e-002 -2.26249803e-004\n",
      "  -6.71868489e-002 -1.24352678e-001 -4.07310898e-002 -1.07901693e-009\n",
      "  -9.06244169e-003 -5.43682982e-005 -4.23097495e-004 -7.18113026e-003\n",
      "  -1.89532982e-053 -5.75012322e-004 -3.74367593e-007 -3.29245563e-002\n",
      "  -1.29661758e-003 -5.88451002e-004 -1.59297390e-001 -4.31688709e-002\n",
      "  -1.10733437e-003 -6.22342483e-004 -6.29773913e-004 -3.63423672e-024\n",
      "   0.00000000e+000 -2.13697375e-005 -8.90478613e-002 -1.97885638e-001\n",
      "  -4.16151500e-038 -2.62878576e-001 -3.38171641e-002 -8.75519478e-002\n",
      "  -2.65696250e-007 -3.45054948e-003  0.00000000e+000 -1.84999368e-002\n",
      "  -3.01370809e-004  0.00000000e+000 -5.74544600e-022 -4.39521078e-004\n",
      "  -1.04847613e-037 -1.36381867e-010 -1.45562750e-001 -2.07631470e-003\n",
      "  -2.04490142e-001 -6.36612982e-002 -7.33783862e-003 -2.16182070e-003\n",
      "   0.00000000e+000  0.00000000e+000 -5.34249050e-006 -1.17705021e-002\n",
      "  -2.38164465e-004 -5.50652559e-003 -1.62245210e-005 -5.27435125e-005\n",
      "  -1.47905949e-001 -4.81954278e-003 -6.34998782e-002  0.00000000e+000\n",
      "  -2.51198243e-002 -1.48962263e-002 -1.31715509e-003 -1.19385069e-001\n",
      "  -1.65459094e-006  0.00000000e+000 -3.01717549e-003 -2.52920035e-053\n",
      "  -1.29095928e-004 -5.37424697e-004  0.00000000e+000  0.00000000e+000\n",
      "  -2.47924272e-002 -1.61922673e-009  0.00000000e+000 -2.76333793e-001]\n",
      " [ 0.00000000e+000  1.07115453e-077  6.19377569e-001  0.00000000e+000\n",
      "   0.00000000e+000  1.21586627e-002  3.78332613e-003  2.74718946e-004\n",
      "   0.00000000e+000  1.98927070e-047  0.00000000e+000  9.18873648e-004\n",
      "   3.76779376e-001  1.04748050e-002  6.31524412e-013  0.00000000e+000\n",
      "   1.58579904e-001  8.55906964e-004  6.26461006e-001  0.00000000e+000\n",
      "   0.00000000e+000  0.00000000e+000  3.08477354e-011  2.22646031e-001\n",
      "   0.00000000e+000  2.39180256e-003  1.89262360e-003  1.88816620e-006\n",
      "   4.24119231e-003  2.92207369e-002  2.15811759e-003  6.52342814e-009\n",
      "   1.25320647e-004  7.05929973e-008  1.97216185e-003  8.17462394e-005\n",
      "   5.37010260e-055  3.53372654e-006  2.15504705e-010  9.40865198e-004\n",
      "   7.74790180e-006  9.67621116e-003  2.07748109e-002  1.81227558e-003\n",
      "   1.12618124e-005  2.01676290e-006  2.54710725e-006  1.13480717e-023\n",
      "   0.00000000e+000  1.66272246e-008  6.50332142e-002  1.53891771e-001\n",
      "   2.69086561e-037  7.91447106e-002  1.16709714e-003  6.85631962e-003\n",
      "   4.88274033e-011  3.36002212e-005  0.00000000e+000  4.44101134e-004\n",
      "   8.27872471e-007  0.00000000e+000  1.00042981e-021  1.47910824e-006\n",
      "   4.16590364e-037  2.67123011e-009  1.68882093e-002  2.98304147e-004\n",
      "   5.39150921e-002  2.12280626e-002  4.47682365e-003  2.46142193e-005\n",
      "   0.00000000e+000  0.00000000e+000  8.20389569e-007  1.81247840e-004\n",
      "   2.35352900e-006  6.32493841e-005  3.92154298e-006  6.57593058e-008\n",
      "   1.59171482e-002  6.22232667e-006  1.51730571e-002  0.00000000e+000\n",
      "   6.76691648e-002  3.34284898e-002  1.49286414e-003  3.27195091e-002\n",
      "   5.06490368e-010  7.90505033e-323  3.35582286e-005  8.53012126e-052\n",
      "   2.51782727e-007  2.00605637e-006  0.00000000e+000  0.00000000e+000\n",
      "   2.40533144e-002  4.90401100e-010  0.00000000e+000  2.83011178e-001]\n",
      " [ 0.00000000e+000  0.00000000e+000  6.92257120e-005  0.00000000e+000\n",
      "   0.00000000e+000  3.06787181e-005  4.44001623e-002  9.92713172e-003\n",
      "   0.00000000e+000  1.06188621e-303  0.00000000e+000  1.00889560e-009\n",
      "   4.44176324e-002  5.28710100e-002  1.76586680e-110  0.00000000e+000\n",
      "   4.37903000e-002  1.43175414e-018  2.31862234e-004  0.00000000e+000\n",
      "   0.00000000e+000  0.00000000e+000  2.08504029e-058  8.70396506e-002\n",
      "   0.00000000e+000  1.77661686e-002  8.82716242e-003  1.68258602e-004\n",
      "   2.72738645e-002  1.45687450e-002  1.89305257e-002  1.08702636e-042\n",
      "   6.32115985e-003  4.98744004e-005  7.24664317e-033  5.24986419e-003\n",
      "   0.00000000e+000  4.54690997e-004  3.55386782e-007  1.85153964e-002\n",
      "   1.06786884e-003  4.67495910e-021  5.24782849e-002  2.29806553e-002\n",
      "   7.70758649e-004  5.28662035e-004  5.24168846e-004  8.43129380e-249\n",
      "   0.00000000e+000  1.99912514e-005  1.64353776e-003  7.74911922e-004\n",
      "   0.00000000e+000  4.11175516e-002  1.85095745e-002  4.13760053e-002\n",
      "   2.62305619e-007  2.58665665e-003  0.00000000e+000  1.16830498e-002\n",
      "   2.71238819e-004  0.00000000e+000  1.50553533e-136  3.81008802e-004\n",
      "   1.86747027e-222  5.23232124e-056  5.23209858e-002  1.26048267e-008\n",
      "   2.95207546e-002  3.56235721e-003  1.06475466e-007  1.63992017e-003\n",
      "   0.00000000e+000  0.00000000e+000  6.58899546e-040  7.81350211e-003\n",
      "   1.72770339e-004  3.78524182e-003  2.72551404e-013  4.86522703e-005\n",
      "   4.95780282e-002  4.70284449e-003  1.70344639e-004  0.00000000e+000\n",
      "   3.49342361e-007  9.58640893e-008  4.93920977e-011  2.14312286e-002\n",
      "   1.59894104e-006  0.00000000e+000  2.11394094e-003  0.00000000e+000\n",
      "   1.15427772e-004  4.52382604e-004  0.00000000e+000  0.00000000e+000\n",
      "   9.19059213e-006  9.74321133e-042  0.00000000e+000  1.70200897e-002]]\n"
     ]
    },
    {
     "ename": "IndexError",
     "evalue": "index 0 is out of bounds for axis 0 with size 0",
     "output_type": "error",
     "traceback": [
      "\u001b[0;31m---------------------------------------------------------------------------\u001b[0m",
      "\u001b[0;31mIndexError\u001b[0m                                Traceback (most recent call last)",
      "\u001b[0;32m<ipython-input-63-a41af3b68c50>\u001b[0m in \u001b[0;36m<module>\u001b[0;34m\u001b[0m\n\u001b[0;32m----> 1\u001b[0;31m \u001b[0mbad_obj\u001b[0m \u001b[0;34m=\u001b[0m \u001b[0mnp\u001b[0m\u001b[0;34m.\u001b[0m\u001b[0margwhere\u001b[0m\u001b[0;34m(\u001b[0m\u001b[0mnp\u001b[0m\u001b[0;34m.\u001b[0m\u001b[0misnan\u001b[0m\u001b[0;34m(\u001b[0m\u001b[0mdh_msto\u001b[0m\u001b[0;34m.\u001b[0m\u001b[0mlogmodel_perr_grad\u001b[0m\u001b[0;34m(\u001b[0m\u001b[0msample_2d\u001b[0m\u001b[0;34m,\u001b[0m \u001b[0mp0\u001b[0m\u001b[0;34m,\u001b[0m \u001b[0mgmm\u001b[0m\u001b[0;34m=\u001b[0m\u001b[0;32mNone\u001b[0m\u001b[0;34m,\u001b[0m \u001b[0mfid_pars\u001b[0m\u001b[0;34m=\u001b[0m\u001b[0mfid_pars\u001b[0m\u001b[0;34m,\u001b[0m \u001b[0mgrad\u001b[0m\u001b[0;34m=\u001b[0m\u001b[0;32mFalse\u001b[0m\u001b[0;34m)\u001b[0m\u001b[0;34m)\u001b[0m\u001b[0;34m)\u001b[0m\u001b[0;34m[\u001b[0m\u001b[0;36m0\u001b[0m\u001b[0;34m]\u001b[0m\u001b[0;34m\u001b[0m\u001b[0m\n\u001b[0m\u001b[1;32m      2\u001b[0m \u001b[0mbad_obj\u001b[0m\u001b[0;34m\u001b[0m\u001b[0m\n",
      "\u001b[0;31mIndexError\u001b[0m: index 0 is out of bounds for axis 0 with size 0"
     ]
    }
   ],
   "source": [
    "bad_obj = np.argwhere(np.isnan(dh_msto.logmodel_perr_grad(sample_2d, p0, gmm=None, fid_pars=fid_pars, grad=False)))[0]\n",
    "bad_obj, dh_msto.logmodel_perr_grad(sample_2d[:,bad_obj], p0, gmm=None, fid_pars=fid_pars, grad=False)"
   ]
  },
  {
   "cell_type": "code",
   "execution_count": 177,
   "metadata": {},
   "outputs": [
    {
     "data": {
      "text/plain": [
       "array([], dtype=int64)"
      ]
     },
     "execution_count": 177,
     "metadata": {},
     "output_type": "execute_result"
    }
   ],
   "source": [
    "inf_obj = np.argwhere(np.isinf(dh_msto.logmodel_perr_grad(sample_2d, p0, gmm=None, fid_pars=fid_pars, grad=False)))[:,0]\n",
    "inf_obj"
   ]
  },
  {
   "cell_type": "code",
   "execution_count": 164,
   "metadata": {
    "collapsed": true
   },
   "outputs": [
    {
     "data": {
      "text/plain": [
       "array([[ 1.48385339e-02,  1.08477993e+00, -1.78855093e-01,\n",
       "         3.85837891e-01,  5.55349026e-01,  6.28747845e-03,\n",
       "         1.09142843e-02,  2.64572829e-01, -5.72440023e-03,\n",
       "        -3.55236989e-02, -3.84341298e-03, -3.52580763e-02,\n",
       "        -2.62654380e-01,  1.06557304e+00,  4.39538285e-01,\n",
       "        -2.72937873e-01,  4.11317500e-02,  1.59562354e-02,\n",
       "        -5.09257325e-02, -2.24200048e-02, -2.75072465e-02,\n",
       "        -3.54509110e-02],\n",
       "       [ 4.46698210e-01,  1.25195337e+00,  2.12044982e-01,\n",
       "         4.88477538e-01,  3.19728029e-01,  6.84057424e-03,\n",
       "         2.00298168e-02,  2.56527777e-01,  4.43001437e-01,\n",
       "         2.05884544e-01,  7.00714997e-02,  7.72309162e-01,\n",
       "         1.16564467e+00,  7.45795394e-01,  5.53174343e-01,\n",
       "         3.32488786e-01,  1.61462623e-01,  2.06643341e-02,\n",
       "         7.27430561e-01,  4.77226645e-02,  2.20010323e-01,\n",
       "         3.17763260e-01],\n",
       "       [ 8.82919093e-01,  9.07588307e-01,  9.28398109e-01,\n",
       "         9.40026252e-01,  9.02133253e-01,  9.06328892e-01,\n",
       "         9.90147482e-01,  9.72698228e-01,  8.77904787e-01,\n",
       "         8.66320470e-01,  9.11234506e-01,  8.92371935e-01,\n",
       "         9.35608203e-01,  8.89146655e-01,  9.60175717e-01,\n",
       "         9.89696213e-01,  8.81860986e-01,  9.10793644e-01,\n",
       "         9.12622828e-01,  9.33875026e-01,  9.72988565e-01,\n",
       "         9.32574481e-01],\n",
       "       [-7.56033393e-01, -8.67830991e-01, -9.89972068e-01,\n",
       "        -1.07557342e+00, -8.40586214e-01, -8.61393066e-01,\n",
       "        -1.96590974e+00, -1.46070070e+00, -7.36398711e-01,\n",
       "        -6.94170540e-01, -8.87003958e-01, -7.95621402e-01,\n",
       "        -1.04117372e+00, -7.81710972e-01, -1.27512215e+00,\n",
       "        -1.94363092e+00, -7.51816047e-01, -8.84642154e-01,\n",
       "        -8.94522858e-01, -1.02834150e+00, -1.46597278e+00,\n",
       "        -1.01893933e+00],\n",
       "       [ 3.91637478e+01,  3.67724039e+01,  4.01925856e+01,\n",
       "         3.76547803e+01,  3.91317122e+01,  3.70851383e+01,\n",
       "         3.63852560e+01,  3.58996571e+01,  3.67893905e+01,\n",
       "         3.62982436e+01,  3.98542168e+01,  4.34073845e+01,\n",
       "         4.09735128e+01,  3.79021874e+01,  3.94340407e+01,\n",
       "         3.55663072e+01,  4.40506779e+01,  3.72093551e+01,\n",
       "         3.92311074e+01,  3.54272563e+01,  3.58456616e+01,\n",
       "         3.94215987e+01],\n",
       "       [-8.05872059e-01,  2.24705026e-01, -1.55095685e+00,\n",
       "        -7.16461790e-01, -1.14028455e+00, -4.98488360e+00,\n",
       "        -3.91053328e+00, -1.36051833e+00, -8.14182266e-01,\n",
       "        -1.58043973e+00, -2.65823913e+00, -2.58370340e-01,\n",
       "         1.53274301e-01, -2.93303988e-01, -5.92082060e-01,\n",
       "        -1.10114915e+00, -1.82348160e+00, -3.87934606e+00,\n",
       "        -3.18236733e-01, -3.04234885e+00, -1.51408081e+00,\n",
       "        -1.14644864e+00]])"
      ]
     },
     "execution_count": 164,
     "metadata": {},
     "output_type": "execute_result"
    }
   ],
   "source": [
    "sample_2d[:,inf_obj]"
   ]
  },
  {
   "cell_type": "code",
   "execution_count": null,
   "metadata": {},
   "outputs": [],
   "source": []
  },
  {
   "cell_type": "code",
   "execution_count": null,
   "metadata": {},
   "outputs": [],
   "source": [
    "dh_msto.logmodel_perr_grad(sample_2d, p0, gmm=None, fid_pars=fid_pars, grad=False))"
   ]
  },
  {
   "cell_type": "code",
   "execution_count": 537,
   "metadata": {},
   "outputs": [
    {
     "name": "stdout",
     "output_type": "stream",
     "text": [
      "CPU times: user 16 ms, sys: 0 ns, total: 16 ms\n",
      "Wall time: 19 ms\n"
     ]
    },
    {
     "data": {
      "text/plain": [
       "array([  7.21422587,   4.75754083, -16.59355432,   9.84805218,\n",
       "         6.25925424])"
      ]
     },
     "execution_count": 537,
     "metadata": {},
     "output_type": "execute_result"
    }
   ],
   "source": [
    "%time dh_msto.logmodel_perr_grad(sample_2d, p0, gmm=None, fid_pars=fid_pars, grad=False)"
   ]
  },
  {
   "cell_type": "code",
   "execution_count": 538,
   "metadata": {},
   "outputs": [
    {
     "name": "stdout",
     "output_type": "stream",
     "text": [
      "CPU times: user 32 ms, sys: 0 ns, total: 32 ms\n",
      "Wall time: 30.2 ms\n"
     ]
    },
    {
     "data": {
      "text/plain": [
       "(array([  7.21422587,   4.75754083, -16.59355432,   9.84805218,\n",
       "          6.25925424]),\n",
       " array([[ 2.00048528e+00,  2.31457090e+00,  2.03228025e+00,\n",
       "          2.45382819e+00,  3.10600756e+00],\n",
       "        [ 5.72179784e+00,  4.64648160e+00,  1.07688270e+00,\n",
       "          2.17027318e-02,  1.06453887e+01],\n",
       "        [-4.28364825e+00, -1.21972029e+01, -5.38827071e+01,\n",
       "          9.85175411e-01,  2.18449906e+00]]))"
      ]
     },
     "execution_count": 538,
     "metadata": {},
     "output_type": "execute_result"
    }
   ],
   "source": [
    "%time dh_msto.logmodel_perr_grad(sample_2d, p0, gmm=None, fid_pars=fid_pars, grad=True)"
   ]
  },
  {
   "cell_type": "code",
   "execution_count": 153,
   "metadata": {},
   "outputs": [],
   "source": [
    "source_i=10\n",
    "model = lambda x: dh_msto.logmodel_perr_grad(sample_2d, x, gmm=None, fid_pars=fid_pars, grad=False)[source_i]\n",
    "grad  = lambda x: dh_msto.logmodel_perr_grad(sample_2d, x, gmm=None, fid_pars=fid_pars, grad=True)[1][:,source_i]"
   ]
  },
  {
   "cell_type": "code",
   "execution_count": 154,
   "metadata": {},
   "outputs": [
    {
     "name": "stderr",
     "output_type": "stream",
     "text": [
      "../models/disk_halo_mstogap.py:431: RuntimeWarning: overflow encountered in true_divide\n",
      "  - 5/ln10 * dalphag_dalpha1 * dp_model_dn[2])))/exp_log_p\n"
     ]
    },
    {
     "data": {
      "text/plain": [
       "array([[ 0.10000001,  0.1       ],\n",
       "       [-0.8267218 , -0.82674646],\n",
       "       [-0.01064038, -0.01064181]])"
      ]
     },
     "execution_count": 154,
     "metadata": {},
     "output_type": "execute_result"
    }
   ],
   "source": [
    "np.vstack((scipy.optimize.approx_fprime(p0, model, 1e-9), grad(p0))).T"
   ]
  },
  {
   "cell_type": "code",
   "execution_count": 178,
   "metadata": {},
   "outputs": [],
   "source": [
    "model = lambda x: np.sum(dh_msto.logmodel_perr_grad(sample_2d, x, gmm=None, fid_pars=fid_pars, grad=False))\n",
    "grad  = lambda x: np.sum(dh_msto.logmodel_perr_grad(sample_2d, x, gmm=None, fid_pars=fid_pars, grad=True)[1], axis=1)"
   ]
  },
  {
   "cell_type": "code",
   "execution_count": 180,
   "metadata": {},
   "outputs": [
    {
     "data": {
      "text/plain": [
       "array([[  999.99306258,  1000.        ],\n",
       "       [45497.23234959, 45496.6214292 ],\n",
       "       [-1089.41458166, -1090.16036926]])"
      ]
     },
     "execution_count": 180,
     "metadata": {},
     "output_type": "execute_result"
    }
   ],
   "source": [
    "np.vstack((scipy.optimize.approx_fprime(p0, model, 1e-9), grad(p0))).T"
   ]
  },
  {
   "cell_type": "markdown",
   "metadata": {},
   "source": [
    "## Halo"
   ]
  },
  {
   "cell_type": "code",
   "execution_count": 181,
   "metadata": {},
   "outputs": [],
   "source": [
    "fid_pars['models']=[dh_msto.log_halomodel_perr_grad]\n",
    "\n",
    "bounds = np.array([[-10, -10,         -5.],\n",
    "                   [ 10,  10,          0.]])\n",
    "p0 = np.array([10,3.5,-1.])"
   ]
  },
  {
   "cell_type": "code",
   "execution_count": 184,
   "metadata": {},
   "outputs": [
    {
     "name": "stdout",
     "output_type": "stream",
     "text": [
      "CPU times: user 192 ms, sys: 0 ns, total: 192 ms\n",
      "Wall time: 190 ms\n"
     ]
    },
    {
     "data": {
      "text/plain": [
       "array([ 1.57287378,  1.17778232,  0.30977323, ...,  0.00390195,\n",
       "       -2.8450074 , -1.59777781])"
      ]
     },
     "execution_count": 184,
     "metadata": {},
     "output_type": "execute_result"
    }
   ],
   "source": [
    "%time dh_msto.logmodel_perr_grad(sample_2d, p0, gmm=None, fid_pars=fid_pars, grad=False)"
   ]
  },
  {
   "cell_type": "code",
   "execution_count": 183,
   "metadata": {},
   "outputs": [
    {
     "name": "stdout",
     "output_type": "stream",
     "text": [
      "CPU times: user 908 ms, sys: 4 ms, total: 912 ms\n",
      "Wall time: 912 ms\n"
     ]
    },
    {
     "data": {
      "text/plain": [
       "(array([ 1.57287378,  1.17778232,  0.30977323, ...,  0.00390195,\n",
       "        -2.8450074 , -1.59777781]),\n",
       " array([[ 0.1       ,  0.1       ,  0.1       , ...,  0.1       ,\n",
       "          0.1       ,  0.1       ],\n",
       "        [ 0.5587805 ,  0.40175467,  1.62551269, ..., -0.61062181,\n",
       "         -0.71136006,  0.8454847 ],\n",
       "        [-0.1681301 , -0.14347309,  0.11014306, ..., -0.17834014,\n",
       "         -0.21274665, -0.17380455]]))"
      ]
     },
     "execution_count": 183,
     "metadata": {},
     "output_type": "execute_result"
    }
   ],
   "source": [
    "%time dh_msto.logmodel_perr_grad(sample_2d, p0, gmm=None, fid_pars=fid_pars, grad=True)"
   ]
  },
  {
   "cell_type": "code",
   "execution_count": 185,
   "metadata": {},
   "outputs": [],
   "source": [
    "source_i=10\n",
    "model = lambda x: dh_msto.logmodel_perr_grad(sample_2d[:,:20], x, gmm=None, fid_pars=fid_pars, grad=False)[source_i]\n",
    "grad  = lambda x: dh_msto.logmodel_perr_grad(sample_2d[:,:20], x, gmm=None, fid_pars=fid_pars, grad=True)[1][:,source_i]"
   ]
  },
  {
   "cell_type": "code",
   "execution_count": 186,
   "metadata": {},
   "outputs": [
    {
     "data": {
      "text/plain": [
       "array([[ 0.10000001,  0.1       ],\n",
       "       [ 1.26049571,  1.26030186],\n",
       "       [-0.13215029, -0.1262598 ]])"
      ]
     },
     "execution_count": 186,
     "metadata": {},
     "output_type": "execute_result"
    }
   ],
   "source": [
    "np.vstack((scipy.optimize.approx_fprime(p0, model, 1e-9), grad(p0))).T"
   ]
  },
  {
   "cell_type": "code",
   "execution_count": 187,
   "metadata": {},
   "outputs": [],
   "source": [
    "model = lambda x: np.sum(dh_msto.logmodel_perr_grad(sample_2d, x, gmm=None, fid_pars=fid_pars, grad=False))\n",
    "grad  = lambda x: np.sum(dh_msto.logmodel_perr_grad(sample_2d, x, gmm=None, fid_pars=fid_pars, grad=True)[1], axis=1)"
   ]
  },
  {
   "cell_type": "code",
   "execution_count": 190,
   "metadata": {},
   "outputs": [
    {
     "data": {
      "text/plain": [
       "array([[ 1000.00761449,  1000.        ],\n",
       "       [ 3294.71731675,  3282.22156212],\n",
       "       [-1006.91977423,  -931.20621031]])"
      ]
     },
     "execution_count": 190,
     "metadata": {},
     "output_type": "execute_result"
    }
   ],
   "source": [
    "np.vstack((scipy.optimize.approx_fprime(p0, model, 1e-10), grad(p0))).T"
   ]
  },
  {
   "cell_type": "markdown",
   "metadata": {},
   "source": [
    "Gradient is correct but there are some nan bugs in here!"
   ]
  },
  {
   "cell_type": "code",
   "execution_count": null,
   "metadata": {},
   "outputs": [],
   "source": []
  }
 ],
 "metadata": {
  "kernelspec": {
   "display_name": "py3",
   "language": "python",
   "name": "py3"
  },
  "language_info": {
   "codemirror_mode": {
    "name": "ipython",
    "version": 3
   },
   "file_extension": ".py",
   "mimetype": "text/x-python",
   "name": "python",
   "nbconvert_exporter": "python",
   "pygments_lexer": "ipython3",
   "version": "3.5.2"
  }
 },
 "nbformat": 4,
 "nbformat_minor": 2
}
