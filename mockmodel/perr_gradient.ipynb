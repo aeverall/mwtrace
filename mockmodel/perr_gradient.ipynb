{
 "cells": [
  {
   "cell_type": "code",
   "execution_count": 1,
   "metadata": {},
   "outputs": [],
   "source": [
    "%load_ext autoreload\n",
    "%autoreload 2\n",
    "\n",
    "import sys, os, pickle, time, warnings\n",
    "import numpy as np, pandas as pd, scipy, scipy.stats as stats, tqdm, h5py\n",
    "from copy import deepcopy as copy\n",
    "\n",
    "# Plotting modules\n",
    "import matplotlib, corner\n",
    "from pylab import cm\n",
    "import matplotlib.pyplot as plt\n",
    "from matplotlib.colors import LogNorm"
   ]
  },
  {
   "cell_type": "code",
   "execution_count": 2,
   "metadata": {},
   "outputs": [],
   "source": [
    "# Plotting modules\n",
    "font = {'family' : 'serif', 'weight' : 'normal',\n",
    "        'size'   : 16}\n",
    "legend = {'fontsize': 16}\n",
    "matplotlib.rc('font', **font)\n",
    "matplotlib.rc('legend', **legend)\n",
    "plt.rc('text', usetex=True)\n",
    "plt.rc('axes', labelsize=16)\n",
    "plt.rc('xtick',labelsize=16)\n",
    "plt.rc('ytick',labelsize=16)\n",
    "plt.rc('legend',fontsize=16)\n",
    "\n",
    "cm_default = plt.rcParams['axes.prop_cycle'].by_key()['color']\n",
    "\n",
    "corner_kwargs = {'max_n_ticks':3, 'title_kwargs':{\"fontsize\": 16}, 'label_kwargs':{'fontsize':16}}"
   ]
  },
  {
   "cell_type": "code",
   "execution_count": 3,
   "metadata": {},
   "outputs": [],
   "source": [
    "sys.path.extend(['../utilities/', '../models/'])\n",
    "import samplers, disk_cone_plcut as dcp, plotting, transformations\n",
    "from transformations import func_inv_jac, func_labels, label_dict\n",
    "import functions"
   ]
  },
  {
   "cell_type": "code",
   "execution_count": 4,
   "metadata": {},
   "outputs": [],
   "source": [
    "import disk_halo_mstogap as dh_msto"
   ]
  },
  {
   "cell_type": "code",
   "execution_count": null,
   "metadata": {},
   "outputs": [],
   "source": [
    "pi_mu, pi_err, abs_sin_lat, m_mu, log_pi_err, hz=1., alpha1=-1., alpha2=-1., alpha3=-1.,\n",
    "                                Mto=4., Mms=8., Mms1=9., Mms2=7., fD=0.5, Mx=10., R0=8.27, degree=21):"
   ]
  },
  {
   "cell_type": "markdown",
   "metadata": {},
   "source": [
    "# Test Disk Likelihood gradient"
   ]
  },
  {
   "cell_type": "code",
   "execution_count": 55,
   "metadata": {},
   "outputs": [],
   "source": [
    "size = 1"
   ]
  },
  {
   "cell_type": "code",
   "execution_count": 65,
   "metadata": {},
   "outputs": [],
   "source": [
    "kwargs = {'hz':1., 'alpha1':-1., 'alpha2':-1., 'alpha3':-1.,\n",
    "          'Mto':4., 'Mms':8., 'Mms1':9., 'Mms2':7., \n",
    "          'fD':0.5, 'Mx':10., 'R0':8.27, 'degree':21}"
   ]
  },
  {
   "cell_type": "code",
   "execution_count": 80,
   "metadata": {},
   "outputs": [
    {
     "data": {
      "text/plain": [
       "{'M': array([8.88118812]),\n",
       " 'cmpt': array([2]),\n",
       " 'l': array([1.03700749]),\n",
       " 'm': array([23.32981651]),\n",
       " 'm_err': array([0.20543416]),\n",
       " 'm_obs': array([23.69441515]),\n",
       " 'parallax_error': array([0.30245281]),\n",
       " 'parallax_obs': array([0.0331892]),\n",
       " 's': array([7.75756953]),\n",
       " 'sinb': array([0.92705025]),\n",
       " 'source_id': array([53961])}"
      ]
     },
     "execution_count": 80,
     "metadata": {},
     "output_type": "execute_result"
    }
   ],
   "source": [
    "sample = {}; true_pars={}; latent_pars={}; cmpt=0;\n",
    "filename = '/data/asfe2/Projects/mwtrace_data/mockmodel/sample.h'\n",
    "with h5py.File(filename, 'r') as hf:\n",
    "    subset = (hf['sample']['M'][...]>5)\n",
    "    subsample  = np.sort(np.random.choice(np.arange(np.sum(subset)), size=size, replace=False))\n",
    "    for key in hf['sample'].keys():\n",
    "        sample[key]=hf['sample'][key][...][subset][subsample]\n",
    "    # Get true parameters\n",
    "    for key in hf['true_pars'].keys():\n",
    "        if not key in np.arange(3).astype(str):\n",
    "            true_pars[key]=hf['true_pars'][key][...]\n",
    "        else:\n",
    "            true_pars[int(key)]={}\n",
    "            for par in hf['true_pars'][key].keys():\n",
    "                true_pars[int(key)][par]=hf['true_pars'][key][par][...]\n",
    "for j in range(3): true_pars[j]['w']*=size\n",
    "    \n",
    "args = (sample['parallax_obs'], sample['parallax_error'], sample['sinb'], \\\n",
    "    sample['m_obs'], np.log(sample['parallax_error']))\n",
    "sample"
   ]
  },
  {
   "cell_type": "code",
   "execution_count": 67,
   "metadata": {
    "scrolled": true
   },
   "outputs": [
    {
     "data": {
      "text/plain": [
       "(array([-4.51199479]), (array([-4.51197578]), array([[-1.55221875e+00],\n",
       "         [ 2.63338940e+00],\n",
       "         [-2.00000000e+00],\n",
       "         [            nan],\n",
       "         [ 6.45475307e-16],\n",
       "         [-2.16582940e-08]])))"
      ]
     },
     "execution_count": 67,
     "metadata": {},
     "output_type": "execute_result"
    }
   ],
   "source": [
    "dh_msto.log_expmodel_perr(*args, **kwargs), dh_msto.log_expmodel_perr_grad(*args, **kwargs, grad=True)"
   ]
  },
  {
   "cell_type": "code",
   "execution_count": 81,
   "metadata": {},
   "outputs": [],
   "source": [
    "kwargs = {'Mms':8., 'Mms1':9., 'Mms2':7., \n",
    "          'Mx':10., 'R0':8.27, 'degree':21}\n",
    "model = lambda x: dh_msto.log_expmodel_perr_grad(*args, hz=x[0], alpha3=x[1], fD=x[2], alpha1=x[4], alpha2=x[5],\n",
    "                                                Mto=x[3],  **kwargs, grad=True)[0]\n",
    "grad = lambda x: dh_msto.log_expmodel_perr_grad(*args, hz=x[0], alpha3=x[1], fD=x[2], alpha1=x[4], alpha2=x[5],\n",
    "                                                Mto=x[3],  **kwargs, grad=True)[1][:,0]"
   ]
  },
  {
   "cell_type": "code",
   "execution_count": 120,
   "metadata": {},
   "outputs": [
    {
     "data": {
      "text/plain": [
       "array([[ 3.05194092e+00,  3.05193506e+00],\n",
       "       [ 0.00000000e+00, -4.06759432e-31],\n",
       "       [ 2.00000017e+00,  2.00000000e+00],\n",
       "       [ 4.97379915e-04,             nan],\n",
       "       [-3.56816798e-01, -3.56844716e-01],\n",
       "       [-1.56852309e-02, -1.56866449e-02]])"
      ]
     },
     "execution_count": 120,
     "metadata": {},
     "output_type": "execute_result"
    }
   ],
   "source": [
    "x0 = np.array([1,-0.5,0.5,4,-1,-1.1])\n",
    "np.vstack(( scipy.optimize.approx_fprime(x0, model, 1e-10), grad(x0) )).T"
   ]
  },
  {
   "cell_type": "code",
   "execution_count": 121,
   "metadata": {},
   "outputs": [
    {
     "name": "stdout",
     "output_type": "stream",
     "text": [
      "14.3 ms ± 220 µs per loop (mean ± std. dev. of 7 runs, 100 loops each)\n"
     ]
    }
   ],
   "source": [
    "%timeit grad(x0)"
   ]
  },
  {
   "cell_type": "code",
   "execution_count": null,
   "metadata": {},
   "outputs": [],
   "source": []
  },
  {
   "cell_type": "code",
   "execution_count": null,
   "metadata": {},
   "outputs": [],
   "source": []
  },
  {
   "cell_type": "code",
   "execution_count": 36,
   "metadata": {},
   "outputs": [
    {
     "data": {
      "text/plain": [
       "array([[ 0.59729999, -1.75979219],\n",
       "       [ 0.        , -0.08927907],\n",
       "       [ 0.        ,  1.79244446],\n",
       "       [ 0.        ,         nan],\n",
       "       [-2.48645549, -2.4520428 ],\n",
       "       [ 0.        , -2.59676287]])"
      ]
     },
     "execution_count": 36,
     "metadata": {},
     "output_type": "execute_result"
    }
   ],
   "source": [
    "x0 = np.array([1,-0.5,0.5,4,-1,-1])\n",
    "np.vstack(( scipy.optimize.approx_fprime(x0, model, 1e-12), grad(x0) )).T"
   ]
  },
  {
   "cell_type": "code",
   "execution_count": 21,
   "metadata": {},
   "outputs": [
    {
     "data": {
      "text/plain": [
       "array([[-2.40207012e+00, -1.76098115e+00],\n",
       "       [ 0.00000000e+00, -8.91171950e-02],\n",
       "       [ 0.00000000e+00,  1.79300079e+00],\n",
       "       [ 0.00000000e+00,             nan],\n",
       "       [-2.48654675e+00, -2.45002985e+00],\n",
       "       [ 4.44089210e-10, -2.58722967e+00]])"
      ]
     },
     "execution_count": 21,
     "metadata": {},
     "output_type": "execute_result"
    }
   ],
   "source": [
    "x0 = np.array([1,-0.5,0.5,4,-1,-1])\n",
    "np.vstack(( scipy.optimize.approx_fprime(x0, model, 1e-6), grad(x0) )).T"
   ]
  },
  {
   "cell_type": "code",
   "execution_count": 236,
   "metadata": {},
   "outputs": [
    {
     "data": {
      "text/plain": [
       "array([[  2.28322041,   2.27883744],\n",
       "       [ -1.45405762,  -1.45775994],\n",
       "       [ -1.90662084,  -1.90660267],\n",
       "       [  0.97108056,          nan],\n",
       "       [  0.04801714,  -0.01253216],\n",
       "       [  0.02143161, -11.97345119]])"
      ]
     },
     "execution_count": 236,
     "metadata": {},
     "output_type": "execute_result"
    }
   ],
   "source": [
    "x0 = np.array([1,-0.5,0.5,4,-1,-1])\n",
    "np.vstack(( scipy.optimize.approx_fprime(x0, model, 1e-5), grad(x0) )).T"
   ]
  },
  {
   "cell_type": "code",
   "execution_count": 180,
   "metadata": {},
   "outputs": [
    {
     "data": {
      "text/plain": [
       "0.0056116752797461065"
      ]
     },
     "execution_count": 180,
     "metadata": {},
     "output_type": "execute_result"
    }
   ],
   "source": [
    "np.exp(model(x0))"
   ]
  },
  {
   "cell_type": "code",
   "execution_count": 170,
   "metadata": {},
   "outputs": [],
   "source": [
    "def log_expmodel_perr_grad(pi_mu, pi_err, abs_sin_lat, m_mu, log_pi_err, hz=1., alpha1=-1., alpha2=-1., alpha3=-1.,\n",
    "                                Mto=4., Mms=8., Mms1=9., Mms2=7., fD=0.5, Mx=10., R0=8.27, degree=21, \n",
    "                               n=3, grad=False):\n",
    "\n",
    "    beta = abs_sin_lat/hz\n",
    "\n",
    "    # Absolute magnitude not known\n",
    "    Mag_bounds = [-np.inf, Mto, Mms2, Mms1, Mx]\n",
    "\n",
    "    ii=2\n",
    "    a = np.exp((Mag_bounds[ii  ]+10-m_mu)*np.log(10)/5)\n",
    "    b = np.exp((Mag_bounds[ii+1]+10-m_mu)*np.log(10)/5)\n",
    "    \n",
    "    p_model = np.zeros((4, len(pi_mu)))\n",
    "    # Gauss - Hermite Quadrature\n",
    "    args = (beta, n*np.ones(len(pi_mu)), pi_mu, pi_err, a, b)\n",
    "    p_mode = functions.get_fooroots_ridder_hm(dh_msto.expmodel_perr_logit_grad, a=a+1e-15, b=b, args=args)\n",
    "    curve = dh_msto.expmodel_perr_d2logIJ_dp2(p_mode, *args[:-2], transform='logit_ab', a=a, b=b) / \\\n",
    "                                functions.jac(p_mode, transform='logit_ab', a=a, b=b)**2\n",
    "    z_mode = functions.trans(p_mode, transform='logit_ab', a=a, b=b)\n",
    "    sigma = 1/np.sqrt(-curve)\n",
    "    p_integral = functions.integrate_gh_gap(dh_msto.expmodel_perr_integrand, z_mode, sigma, args[:-2], transform='logit_ab', a=a, b=b, degree=10)\n",
    "    p_model[ii] = p_integral\n",
    "\n",
    "    grad_lambda = np.zeros((pi_mu.shape[0], 6)) + np.nan\n",
    "    # n\n",
    "    dp_model_dn = np.zeros((4, len(pi_mu)))\n",
    "    \n",
    "    p_integral = np.zeros(len(pi_mu))\n",
    "    # Gauss - Hermite Quadrature\n",
    "    args = (beta, n*np.ones(len(pi_mu)), pi_mu, pi_err, a, b)\n",
    "    p_mode = functions.get_fooroots_ridder_hm(dh_msto.expmodel_perr_logit_grad_dn, a=a+1e-15, b=b, args=args)\n",
    "    curve = dh_msto.expmodel_perr_d2logIJ_dp2_dn(p_mode, *args[:-2], transform='logit_ab', a=a, b=b) / \\\n",
    "                                functions.jac(p_mode, transform='logit_ab', a=a, b=b)**2\n",
    "    z_mode = functions.trans(p_mode, transform='logit_ab', a=a, b=b)\n",
    "    sigma = 1/np.sqrt(-curve)\n",
    "    p_integral = functions.integrate_gh_gap(dh_msto.expmodel_perr_integrand_dn, z_mode, sigma, args[:-2], transform='logit_ab', a=a, b=b, degree=10)\n",
    "    dp_model_dn[ii] = p_integral\n",
    "    \n",
    "    print(dh_msto.expmodel_perr_logit_grad_dn(0.96800718+0.01, args))\n",
    "    print(a, b, p_mode)\n",
    "    print(curve)\n",
    "\n",
    "    return p_model[ii], dp_model_dn[ii]"
   ]
  },
  {
   "cell_type": "code",
   "execution_count": 171,
   "metadata": {},
   "outputs": [],
   "source": [
    "kwargs = {'hz':1., 'alpha1':-1., 'alpha2':-1., 'alpha3':-1.,\n",
    "          'Mto':4., 'Mms':8., 'Mms1':9., 'Mms2':7., \n",
    "          'fD':0.5, 'Mx':10., 'R0':8.27, 'degree':21}\n",
    "model = lambda x: log_expmodel_perr_grad(*args, n=x, **kwargs, grad=False)[0][0]\n",
    "grad = lambda x: log_expmodel_perr_grad(*args, n=x, **kwargs, grad=True)[1][0]"
   ]
  },
  {
   "cell_type": "code",
   "execution_count": 173,
   "metadata": {},
   "outputs": [
    {
     "name": "stdout",
     "output_type": "stream",
     "text": [
      "[ -2.78796639  18.13924131 253.9270348 ]\n",
      "[0.81950516 0.19239234 0.03317259] [2.05850389 0.48326772 0.08332579] [0.96800718 0.37562137 0.07815277]\n",
      "[-22.10512494  -0.83222317  -0.91466445]\n",
      "[ -2.78796471  18.13923751 253.92702653]\n",
      "[0.81950516 0.19239234 0.03317259] [2.05850389 0.48326772 0.08332579] [0.96800719 0.37562153 0.07815278]\n",
      "[-22.10513583  -0.83222316  -0.91466447]\n",
      "[ -2.78796639  18.13924131 253.9270348 ]\n",
      "[0.81950516 0.19239234 0.03317259] [2.05850389 0.48326772 0.08332579] [0.96800718 0.37562137 0.07815277]\n",
      "[-22.10512494  -0.83222317  -0.91466445]\n"
     ]
    },
    {
     "data": {
      "text/plain": [
       "(array([0.00509683]), 0.0048680988406353595)"
      ]
     },
     "execution_count": 173,
     "metadata": {},
     "output_type": "execute_result"
    }
   ],
   "source": [
    "x0 = 1.\n",
    "scipy.optimize.approx_fprime(np.array([1.]), model, 1e-5), grad(x0)"
   ]
  },
  {
   "cell_type": "code",
   "execution_count": 154,
   "metadata": {},
   "outputs": [
    {
     "data": {
      "text/plain": [
       "(array([1.06975907, 0.01723011, 0.11352768]),\n",
       " array([0.06528505, 0.34330224, 0.05635067]),\n",
       " array([0.98141136, 0.97770244, 0.92938784]),\n",
       " array([17.43224154, 20.57906107, 24.39610278]),\n",
       " array([-2.72899214, -1.06914405, -2.87616112]))"
      ]
     },
     "execution_count": 154,
     "metadata": {},
     "output_type": "execute_result"
    }
   ],
   "source": [
    "args"
   ]
  }
 ],
 "metadata": {
  "kernelspec": {
   "display_name": "py3",
   "language": "python",
   "name": "py3"
  },
  "language_info": {
   "codemirror_mode": {
    "name": "ipython",
    "version": 3
   },
   "file_extension": ".py",
   "mimetype": "text/x-python",
   "name": "python",
   "nbconvert_exporter": "python",
   "pygments_lexer": "ipython3",
   "version": "3.5.2"
  }
 },
 "nbformat": 4,
 "nbformat_minor": 2
}
