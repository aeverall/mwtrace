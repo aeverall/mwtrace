{
 "cells": [
  {
   "cell_type": "code",
   "execution_count": 1,
   "metadata": {},
   "outputs": [],
   "source": [
    "%load_ext autoreload\n",
    "%autoreload 2\n",
    "\n",
    "import sys, os, pickle, time, warnings\n",
    "import numpy as np, pandas as pd, scipy, scipy.stats as stats, tqdm, h5py\n",
    "from copy import deepcopy as copy\n",
    "\n",
    "# Plotting modules\n",
    "import matplotlib, corner\n",
    "from pylab import cm\n",
    "import matplotlib.pyplot as plt\n",
    "from matplotlib.colors import LogNorm"
   ]
  },
  {
   "cell_type": "code",
   "execution_count": 2,
   "metadata": {},
   "outputs": [],
   "source": [
    "# Plotting modules\n",
    "font = {'family' : 'serif', 'weight' : 'normal',\n",
    "        'size'   : 16}\n",
    "legend = {'fontsize': 16}\n",
    "matplotlib.rc('font', **font)\n",
    "matplotlib.rc('legend', **legend)\n",
    "plt.rc('text', usetex=True)\n",
    "plt.rc('axes', labelsize=16)\n",
    "plt.rc('xtick',labelsize=16)\n",
    "plt.rc('ytick',labelsize=16)\n",
    "plt.rc('legend',fontsize=16)\n",
    "\n",
    "cm_default = plt.rcParams['axes.prop_cycle'].by_key()['color']\n",
    "\n",
    "corner_kwargs = {'max_n_ticks':3, 'title_kwargs':{\"fontsize\": 16}, 'label_kwargs':{'fontsize':16}}"
   ]
  },
  {
   "cell_type": "code",
   "execution_count": 3,
   "metadata": {},
   "outputs": [],
   "source": [
    "sys.path.extend(['../utilities/', '../models/'])\n",
    "import samplers, disk_cone_plcut as dcp, plotting, transformations\n",
    "from transformations import func_inv_jac, func_labels, label_dict\n",
    "import functions"
   ]
  },
  {
   "cell_type": "code",
   "execution_count": 4,
   "metadata": {},
   "outputs": [],
   "source": [
    "import disk_halo_mstogap as dh_msto"
   ]
  },
  {
   "cell_type": "code",
   "execution_count": null,
   "metadata": {},
   "outputs": [],
   "source": [
    "pi_mu, pi_err, abs_sin_lat, m_mu, log_pi_err, hz=1., alpha1=-1., alpha2=-1., alpha3=-1.,\n",
    "                                Mto=4., Mms=8., Mms1=9., Mms2=7., fD=0.5, Mx=10., R0=8.27, degree=21):"
   ]
  },
  {
   "cell_type": "markdown",
   "metadata": {},
   "source": [
    "# Test Disk Likelihood gradient"
   ]
  },
  {
   "cell_type": "code",
   "execution_count": 251,
   "metadata": {},
   "outputs": [],
   "source": [
    "size = 1"
   ]
  },
  {
   "cell_type": "code",
   "execution_count": 252,
   "metadata": {},
   "outputs": [],
   "source": [
    "kwargs = {'hz':1., 'alpha1':-1., 'alpha2':-1., 'alpha3':-1.,\n",
    "          'Mto':4., 'Mms':8., 'Mms1':9., 'Mms2':7., \n",
    "          'fD':0.5, 'Mx':10., 'R0':8.27, 'degree':21}"
   ]
  },
  {
   "cell_type": "code",
   "execution_count": 407,
   "metadata": {},
   "outputs": [
    {
     "data": {
      "text/plain": [
       "{'M': array([8.12723482]),\n",
       " 'cmpt': array([1]),\n",
       " 'l': array([5.86356284]),\n",
       " 'm': array([21.09319941]),\n",
       " 'm_err': array([0.47444547]),\n",
       " 'm_obs': array([20.84397101]),\n",
       " 'parallax_error': array([0.39568133]),\n",
       " 'parallax_obs': array([0.28534232]),\n",
       " 's': array([3.91915933]),\n",
       " 'sinb': array([0.88310954]),\n",
       " 'source_id': array([32722])}"
      ]
     },
     "execution_count": 407,
     "metadata": {},
     "output_type": "execute_result"
    }
   ],
   "source": [
    "sample = {}; true_pars={}; latent_pars={}; cmpt=0;\n",
    "filename = '/data/asfe2/Projects/mwtrace_data/mockmodel/sample.h'\n",
    "with h5py.File(filename, 'r') as hf:\n",
    "    subset = (hf['sample']['M'][...]>5)\n",
    "    subsample  = np.sort(np.random.choice(np.arange(np.sum(subset)), size=size, replace=False))\n",
    "    for key in hf['sample'].keys():\n",
    "        sample[key]=hf['sample'][key][...][subset][subsample]\n",
    "    # Get true parameters\n",
    "    for key in hf['true_pars'].keys():\n",
    "        if not key in np.arange(3).astype(str):\n",
    "            true_pars[key]=hf['true_pars'][key][...]\n",
    "        else:\n",
    "            true_pars[int(key)]={}\n",
    "            for par in hf['true_pars'][key].keys():\n",
    "                true_pars[int(key)][par]=hf['true_pars'][key][par][...]\n",
    "for j in range(3): true_pars[j]['w']*=size\n",
    "    \n",
    "args = (sample['parallax_obs'], sample['parallax_error'], sample['sinb'], \\\n",
    "    sample['m_obs'], np.log(sample['parallax_error']))\n",
    "sample"
   ]
  },
  {
   "cell_type": "code",
   "execution_count": 348,
   "metadata": {
    "scrolled": true
   },
   "outputs": [
    {
     "data": {
      "text/plain": [
       "(array([-4.1757247]), (array([-4.17366804]), array([[ 1.1690662 ],\n",
       "         [-0.31573264],\n",
       "         [ 0.28635836],\n",
       "         [        nan],\n",
       "         [ 1.46510109],\n",
       "         [ 0.05013797]])))"
      ]
     },
     "execution_count": 348,
     "metadata": {},
     "output_type": "execute_result"
    }
   ],
   "source": [
    "dh_msto.log_expmodel_perr(*args, **kwargs), dh_msto.log_expmodel_perr_grad(*args, **kwargs, grad=True)"
   ]
  },
  {
   "cell_type": "code",
   "execution_count": 349,
   "metadata": {},
   "outputs": [],
   "source": [
    "kwargs = {'Mms':8., 'Mms1':9., 'Mms2':7., \n",
    "          'Mx':10., 'R0':8.27, 'degree':21}\n",
    "model = lambda x: dh_msto.log_expmodel_perr_grad(*args, hz=x[0], alpha3=x[1], fD=x[2], alpha1=x[4], alpha2=x[5],\n",
    "                                                Mto=x[3],  **kwargs, grad=True)[0]\n",
    "grad = lambda x: dh_msto.log_expmodel_perr_grad(*args, hz=x[0], alpha3=x[1], fD=x[2], alpha1=x[4], alpha2=x[5],\n",
    "                                                Mto=x[3],  **kwargs, grad=True)[1][:,0]"
   ]
  },
  {
   "cell_type": "code",
   "execution_count": 353,
   "metadata": {},
   "outputs": [
    {
     "data": {
      "text/plain": [
       "array([[ 0.30793146,  0.30770291],\n",
       "       [-0.51718629, -0.51722961],\n",
       "       [ 0.7872103 ,  0.78721123],\n",
       "       [ 0.74306783,         nan],\n",
       "       [ 0.58413718,  0.58426291],\n",
       "       [ 0.07648993,  0.07648868]])"
      ]
     },
     "execution_count": 353,
     "metadata": {},
     "output_type": "execute_result"
    }
   ],
   "source": [
    "x0 = np.array([1,-0.5,0.5,4,-1,-1.1])\n",
    "np.vstack(( scipy.optimize.approx_fprime(x0, model, 1e-10), grad(x0) )).T"
   ]
  },
  {
   "cell_type": "markdown",
   "metadata": {},
   "source": [
    "# Halo"
   ]
  },
  {
   "cell_type": "code",
   "execution_count": 354,
   "metadata": {},
   "outputs": [],
   "source": [
    "warnings.filterwarnings('ignore', r'divide by zero encountered')"
   ]
  },
  {
   "cell_type": "code",
   "execution_count": 408,
   "metadata": {},
   "outputs": [],
   "source": [
    "kwargs = {'Mms':8., 'Mms1':9., 'Mms2':7., \n",
    "          'Mx':10., 'R0':8.27, 'degree':11}\n",
    "model = lambda x: dh_msto.log_halomodel_perr_grad(*args, hz=x[0], alpha3=x[1], fD=x[2], alpha1=x[4], alpha2=x[5],\n",
    "                                                Mto=x[3],  **kwargs, grad=True)[0]\n",
    "grad = lambda x: dh_msto.log_halomodel_perr_grad(*args, hz=x[0], alpha3=x[1], fD=x[2], alpha1=x[4], alpha2=x[5],\n",
    "                                                Mto=x[3],  **kwargs, grad=True)[1][:,0]"
   ]
  },
  {
   "cell_type": "code",
   "execution_count": 409,
   "metadata": {},
   "outputs": [
    {
     "data": {
      "text/plain": [
       "array([[-1.70722991, -1.7065387 ],\n",
       "       [ 0.31675107,  0.31731099],\n",
       "       [-1.97395877, -1.97396354],\n",
       "       [-0.50544458,         nan],\n",
       "       [ 0.0074607 ,  0.00745997],\n",
       "       [ 0.00257572,  0.00256529]])"
      ]
     },
     "execution_count": 409,
     "metadata": {},
     "output_type": "execute_result"
    }
   ],
   "source": [
    "x0 = np.array([2.,-1.5,0.5,4,-1,-1.1])\n",
    "np.vstack(( scipy.optimize.approx_fprime(x0, model, 1e-10), grad(x0) )).T"
   ]
  },
  {
   "cell_type": "code",
   "execution_count": 386,
   "metadata": {},
   "outputs": [],
   "source": [
    "test_args = (1,3,2.,0.5,0.1,0.,0.,1.)\n",
    "model = lambda h: dh_msto.halomodel_perr_integrand(0.1, *(1,3,h,0.5,0.1))\n",
    "grad = lambda h: dh_msto.halomodel_perr_integrand_dh(0.1, *(1,3,h,0.5,0.1))"
   ]
  },
  {
   "cell_type": "code",
   "execution_count": 387,
   "metadata": {},
   "outputs": [
    {
     "data": {
      "text/plain": [
       "array([[-6.14583813e-07, -6.14583826e-07]])"
      ]
     },
     "execution_count": 387,
     "metadata": {},
     "output_type": "execute_result"
    }
   ],
   "source": [
    "h = 0.1\n",
    "np.vstack(( scipy.optimize.approx_fprime(np.array([h]), model, 1e-10), grad(h) )).T"
   ]
  },
  {
   "cell_type": "code",
   "execution_count": 383,
   "metadata": {},
   "outputs": [],
   "source": [
    "test_args = (1,3,2.,0.5,0.1,0.,0.,1.)\n",
    "model = lambda n: dh_msto.halomodel_perr_integrand(0.1, *(1,n,2.,0.5,0.1))\n",
    "grad = lambda n: dh_msto.halomodel_perr_integrand_dn(0.1, *(1,n,2.,0.5,0.1))"
   ]
  },
  {
   "cell_type": "code",
   "execution_count": 388,
   "metadata": {},
   "outputs": [
    {
     "data": {
      "text/plain": [
       "array([[-6.14583813e-07, -6.14583826e-07]])"
      ]
     },
     "execution_count": 388,
     "metadata": {},
     "output_type": "execute_result"
    }
   ],
   "source": [
    "n=0.1\n",
    "np.vstack(( scipy.optimize.approx_fprime(np.array([n]), model, 1e-10), grad(n) )).T"
   ]
  },
  {
   "cell_type": "code",
   "execution_count": 202,
   "metadata": {},
   "outputs": [],
   "source": [
    "test_args = (0.11459087188687923, -1.9315154043531053, 62.460138858539736,\n",
    "             -0.6133993246056172,  1.002678948333817, 0.2, 0.5709469567273955)\n",
    "beta, n, h, mu, err, a, b = test_args\n",
    "grad = lambda x: dh_msto.halomodel_perr_logit_grad(x, test_args) \\\n",
    "               * dh_msto.halomodel_perr_integrand(x, *test_args[:-2])/(x*(beta**2+x**2))\n",
    "model = lambda x: (x-test_args[-2])*(test_args[-1]-x)*dh_msto.halomodel_perr_integrand(x, *test_args[:-2])"
   ]
  },
  {
   "cell_type": "code",
   "execution_count": 176,
   "metadata": {},
   "outputs": [
    {
     "data": {
      "text/plain": [
       "array([0.01025454, 0.00886006, 0.00260297])"
      ]
     },
     "execution_count": 176,
     "metadata": {},
     "output_type": "execute_result"
    }
   ],
   "source": [
    "model(np.array([0.4, 0.5, 0.3]))"
   ]
  },
  {
   "cell_type": "code",
   "execution_count": 203,
   "metadata": {},
   "outputs": [
    {
     "data": {
      "text/plain": [
       "(0.052879228773505815, 0.05287882306911542)"
      ]
     },
     "execution_count": 203,
     "metadata": {},
     "output_type": "execute_result"
    }
   ],
   "source": [
    "p=0.4\n",
    "scipy.optimize.approx_fprime(np.array([p]), model, 1e-10)[0], grad(p)"
   ]
  },
  {
   "cell_type": "code",
   "execution_count": 220,
   "metadata": {},
   "outputs": [],
   "source": [
    "grad = lambda x: dh_msto.halomodel_perr_logit_grad_dn(x, test_args) \\\n",
    "               * dh_msto.halomodel_perr_integrand_dn(x, *test_args[:-2])/(x*(beta**2+x**2))\n",
    "model = lambda x: (x-test_args[-2])*(test_args[-1]-x)*dh_msto.halomodel_perr_integrand_dn(x, *test_args[:-2])"
   ]
  },
  {
   "cell_type": "code",
   "execution_count": 216,
   "metadata": {},
   "outputs": [
    {
     "data": {
      "text/plain": [
       "(-0.02281636685141919, -0.022816013578456487)"
      ]
     },
     "execution_count": 216,
     "metadata": {},
     "output_type": "execute_result"
    }
   ],
   "source": [
    "p=0.4\n",
    "scipy.optimize.approx_fprime(np.array([p]), model, 1e-10)[0], grad(p)"
   ]
  },
  {
   "cell_type": "code",
   "execution_count": 233,
   "metadata": {},
   "outputs": [],
   "source": [
    "grad = lambda x: dh_msto.halomodel_perr_logit_grad_dh(x, test_args) \\\n",
    "               * dh_msto.halomodel_perr_integrand_dh(x, *test_args[:-2])/(x*(beta**2+x**2))\n",
    "model = lambda x: (x-test_args[-2])*(test_args[-1]-x)*dh_msto.halomodel_perr_integrand_dh(x, *test_args[:-2])"
   ]
  },
  {
   "cell_type": "code",
   "execution_count": 237,
   "metadata": {},
   "outputs": [
    {
     "data": {
      "text/plain": [
       "(-0.00014103079598246082, -0.00014103021325713786)"
      ]
     },
     "execution_count": 237,
     "metadata": {},
     "output_type": "execute_result"
    }
   ],
   "source": [
    "p=0.4\n",
    "scipy.optimize.approx_fprime(np.array([p]), model, 1e-9)[0], grad(p)"
   ]
  },
  {
   "cell_type": "code",
   "execution_count": null,
   "metadata": {},
   "outputs": [],
   "source": []
  },
  {
   "cell_type": "code",
   "execution_count": null,
   "metadata": {},
   "outputs": [],
   "source": []
  },
  {
   "cell_type": "code",
   "execution_count": null,
   "metadata": {},
   "outputs": [],
   "source": []
  },
  {
   "cell_type": "code",
   "execution_count": null,
   "metadata": {},
   "outputs": [],
   "source": []
  },
  {
   "cell_type": "code",
   "execution_count": null,
   "metadata": {},
   "outputs": [],
   "source": []
  }
 ],
 "metadata": {
  "kernelspec": {
   "display_name": "py3",
   "language": "python",
   "name": "py3"
  },
  "language_info": {
   "codemirror_mode": {
    "name": "ipython",
    "version": 3
   },
   "file_extension": ".py",
   "mimetype": "text/x-python",
   "name": "python",
   "nbconvert_exporter": "python",
   "pygments_lexer": "ipython3",
   "version": "3.5.2"
  }
 },
 "nbformat": 4,
 "nbformat_minor": 2
}
