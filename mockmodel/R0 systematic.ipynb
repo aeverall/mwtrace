{
 "cells": [
  {
   "cell_type": "code",
   "execution_count": 1,
   "metadata": {},
   "outputs": [],
   "source": [
    "%load_ext autoreload\n",
    "%autoreload 2"
   ]
  },
  {
   "cell_type": "code",
   "execution_count": 2,
   "metadata": {},
   "outputs": [],
   "source": [
    "%config Completer.use_jedi = False"
   ]
  },
  {
   "cell_type": "code",
   "execution_count": 3,
   "metadata": {},
   "outputs": [],
   "source": [
    "import sys, os, pickle, time, warnings, h5py\n",
    "\n",
    "import numpy as np, pandas as pd, scipy, scipy.stats as stats, tqdm, h5py, healpy as hp\n",
    "from copy import deepcopy as copy\n",
    "\n",
    "sys.path.extend(['../utilities/', '../models/'])\n",
    "import samplers, disk_cone_plcut as dcp, plotting, transformations\n",
    "import disk_halo_mstogap as dh_msto\n",
    "from transformations import func_inv_jac, func_labels, label_dict\n",
    "import sf_utils\n",
    "\n",
    "from multiprocessing import Pool"
   ]
  },
  {
   "cell_type": "code",
   "execution_count": 4,
   "metadata": {},
   "outputs": [],
   "source": [
    "# Plotting modules\n",
    "import matplotlib\n",
    "from pylab import cm\n",
    "import matplotlib.pyplot as plt\n",
    "from matplotlib.colors import LogNorm\n",
    "plt.rc('text', usetex=True)\n",
    "plt.rc('font', family='serif')\n",
    "plt.rc('axes', labelsize=16)\n",
    "plt.rc('xtick',labelsize=16)\n",
    "plt.rc('ytick',labelsize=16)\n",
    "plt.rc('legend',fontsize=16)\n",
    "plt.rc('font',size=16)\n",
    "from pylab import Rectangle\n",
    "\n",
    "def save_figs(filename):\n",
    "    plt.savefig(filename+'.png', bbox_inches='tight', dpi=200, facecolor='w', transparent=False)\n",
    "    plt.savefig(filename+'.pdf', bbox_inches='tight', dpi=200, facecolor='w', transparent=False)\n",
    "    plt.savefig(filename+'_c.pdf', bbox_inches='tight', dpi=50, facecolor='w', transparent=False)"
   ]
  },
  {
   "cell_type": "code",
   "execution_count": 5,
   "metadata": {},
   "outputs": [],
   "source": [
    "from selectionfunctions.config import config\n",
    "config['data_dir'] = '/data/asfe2/Projects/testselectionfunctions/'"
   ]
  },
  {
   "cell_type": "code",
   "execution_count": null,
   "metadata": {},
   "outputs": [],
   "source": []
  },
  {
   "cell_type": "code",
   "execution_count": 11,
   "metadata": {},
   "outputs": [],
   "source": [
    "import emcee"
   ]
  },
  {
   "cell_type": "markdown",
   "metadata": {},
   "source": [
    "# Disk profile"
   ]
  },
  {
   "cell_type": "code",
   "execution_count": null,
   "metadata": {},
   "outputs": [],
   "source": [
    "zmax = 1./np.tan(np.deg2rad(80))\n",
    "zmax"
   ]
  },
  {
   "cell_type": "code",
   "execution_count": 56,
   "metadata": {},
   "outputs": [],
   "source": [
    "R0 = 8.27\n",
    "L = 2.6\n",
    "z=3\n",
    "\n",
    "def logmodel(coords, zmax=zmax, z=z, L=L, R0=R0):\n",
    "    \n",
    "    x,y=coords\n",
    "    R = np.sqrt(y**2 + (R0-x)**2)\n",
    "    \n",
    "    if np.sqrt(x**2 + y**2)>zmax*z:\n",
    "        return -1e20\n",
    "    \n",
    "    return -R/L"
   ]
  },
  {
   "cell_type": "code",
   "execution_count": 79,
   "metadata": {},
   "outputs": [
    {
     "name": "stderr",
     "output_type": "stream",
     "text": [
      "/home/andy/py36/lib/python3.6/site-packages/ipykernel_launcher.py:15: TqdmDeprecationWarning: This function will be removed in tqdm==5.0.0\n",
      "Please use `tqdm.notebook.tqdm` instead of `tqdm.tqdm_notebook`\n",
      "  from ipykernel import kernelapp as app\n"
     ]
    },
    {
     "data": {
      "application/vnd.jupyter.widget-view+json": {
       "model_id": "cdfa4c1401144de8a4d48e8743fb41d9",
       "version_major": 2,
       "version_minor": 0
      },
      "text/plain": [
       "  0%|          | 0/500000 [00:00<?, ?it/s]"
      ]
     },
     "metadata": {},
     "output_type": "display_data"
    },
    {
     "data": {
      "application/vnd.jupyter.widget-view+json": {
       "model_id": "97dfd2133e0e40489247c9420ba7f2fa",
       "version_major": 2,
       "version_minor": 0
      },
      "text/plain": [
       "  0%|          | 0/500000 [00:00<?, ?it/s]"
      ]
     },
     "metadata": {},
     "output_type": "display_data"
    },
    {
     "data": {
      "application/vnd.jupyter.widget-view+json": {
       "model_id": "96d8d81154f8432199a263cf3928ccb9",
       "version_major": 2,
       "version_minor": 0
      },
      "text/plain": [
       "  0%|          | 0/500000 [00:00<?, ?it/s]"
      ]
     },
     "metadata": {},
     "output_type": "display_data"
    },
    {
     "data": {
      "application/vnd.jupyter.widget-view+json": {
       "model_id": "74959326d19146c788af76d48af67f50",
       "version_major": 2,
       "version_minor": 0
      },
      "text/plain": [
       "  0%|          | 0/500000 [00:00<?, ?it/s]"
      ]
     },
     "metadata": {},
     "output_type": "display_data"
    }
   ],
   "source": [
    "nwalkers=10; nstep=500000; ndim=2\n",
    "\n",
    "runs = [{'z':0.3,'L':2.6,'R0':8.27},\n",
    "        {'z':2.,'L':2.6,'R0':8.27},\n",
    "        {'z':0.9,'L':3.6,'R0':8.27},\n",
    "        {'z':2.,'L':3.6,'R0':8.27}]\n",
    "\n",
    "R_runs = []\n",
    "\n",
    "for ii, run in enumerate(runs):\n",
    "    \n",
    "    p0 = np.random.rand(nwalkers,ndim)*0.01\n",
    "\n",
    "    sampler = emcee.EnsembleSampler(nwalkers, ndim, logmodel, kwargs=run)\n",
    "    for pos,lnp,rstate in tqdm.tqdm_notebook(sampler.sample(p0, iterations=nstep), total=nstep):\n",
    "        pass\n",
    "\n",
    "    x, y = sampler.chain[:,2000:].reshape(-1,ndim).T\n",
    "    R_runs.append(np.sqrt(y**2 + (R0-x)**2))"
   ]
  },
  {
   "cell_type": "code",
   "execution_count": 80,
   "metadata": {},
   "outputs": [
    {
     "data": {
      "text/plain": [
       "([-0.00021101280303703618,\n",
       "  -0.00948326972685365,\n",
       "  -0.0017046038161936394,\n",
       "  -0.007778925913374479],\n",
       " [1.1855528107737558e-05,\n",
       "  7.890620929533012e-05,\n",
       "  3.5513926735222216e-05,\n",
       "  7.905115154238063e-05])"
      ]
     },
     "execution_count": 80,
     "metadata": {},
     "output_type": "execute_result"
    }
   ],
   "source": [
    "[np.mean(R)-8.27 for R in R_runs], [np.std(R)/np.sqrt(len(R)) for R in R_runs]"
   ]
  },
  {
   "cell_type": "code",
   "execution_count": 76,
   "metadata": {},
   "outputs": [
    {
     "data": {
      "text/plain": [
       "([-0.0006375425334397278,\n",
       "  -0.01237697941525262,\n",
       "  -0.0005535208412599246,\n",
       "  -0.006490564749034533],\n",
       " [3.752342107439791e-05,\n",
       "  0.00024933882911690875,\n",
       "  0.00011278215923440481,\n",
       "  0.00025030844214341425])"
      ]
     },
     "execution_count": 76,
     "metadata": {},
     "output_type": "execute_result"
    }
   ],
   "source": []
  },
  {
   "cell_type": "code",
   "execution_count": 65,
   "metadata": {},
   "outputs": [
    {
     "data": {
      "text/plain": [
       "(8.269883372090694, 5.579000141883723e-05)"
      ]
     },
     "execution_count": 65,
     "metadata": {},
     "output_type": "execute_result"
    }
   ],
   "source": [
    "np.mean(R), np.std(R)/np.sqrt(len(R))"
   ]
  },
  {
   "cell_type": "code",
   "execution_count": 77,
   "metadata": {},
   "outputs": [
    {
     "data": {
      "image/png": "[encoded data removed]",
      "text/plain": [
       "<Figure size 432x288 with 1 Axes>"
      ]
     },
     "metadata": {
      "needs_background": "light"
     },
     "output_type": "display_data"
    }
   ],
   "source": [
    "plt.hist(R_runs[0], bins=100);"
   ]
  },
  {
   "cell_type": "markdown",
   "metadata": {},
   "source": [
    "# Halo"
   ]
  },
  {
   "cell_type": "code",
   "execution_count": 83,
   "metadata": {},
   "outputs": [
    {
     "name": "stdout",
     "output_type": "stream",
     "text": [
      "$l=0, z=1$ 0.175024403020684\n",
      "$l=180, z=1$ -0.17507821216742414\n",
      "$l=0, z=10$ 1.0460993390578324\n",
      "$l=180, z=10$ -1.1890514723266676\n"
     ]
    }
   ],
   "source": [
    "zmax = 1./np.tan(np.deg2rad(80))\n",
    "R0 = 8.27\n",
    "\n",
    "z=1\n",
    "print(f\"$l=0, z=1$ {np.sqrt(z**2 + R0**2) - np.sqrt(z**2 + 0.**2 + (R0-z*zmax)**2)}\")\n",
    "print(f\"$l=180, z=1$ {np.sqrt(z**2 + R0**2) - np.sqrt(z**2 + 0.**2 + (R0+z*zmax)**2)}\")\n",
    "\n",
    "z=10\n",
    "print(f\"$l=0, z=10$ {np.sqrt(z**2 + R0**2) - np.sqrt(z**2 + 0.**2 + (R0-z*zmax)**2)}\")\n",
    "print(f\"$l=180, z=10$ {np.sqrt(z**2 + R0**2) - np.sqrt(z**2 + 0.**2 + (R0+z*zmax)**2)}\")"
   ]
  },
  {
   "cell_type": "code",
   "execution_count": 131,
   "metadata": {},
   "outputs": [],
   "source": [
    "def logmodel(coords, zmax=zmax, R0=R0, n=-3.724):\n",
    "    \n",
    "    x,y,z=coords\n",
    "    #print(np.sqrt(x**2+y**2))\n",
    "    r2 = z**2 + y**2 + (R0-x)**2\n",
    "    \n",
    "    if (np.sqrt(x**2 + y**2)>zmax*z)|(z<0):\n",
    "        return -1e20\n",
    "    \n",
    "    return n/2 * np.log(r2)"
   ]
  },
  {
   "cell_type": "code",
   "execution_count": 147,
   "metadata": {},
   "outputs": [
    {
     "name": "stderr",
     "output_type": "stream",
     "text": [
      "/home/andy/py36/lib/python3.6/site-packages/ipykernel_launcher.py:14: TqdmDeprecationWarning: This function will be removed in tqdm==5.0.0\n",
      "Please use `tqdm.notebook.tqdm` instead of `tqdm.tqdm_notebook`\n",
      "  \n"
     ]
    },
    {
     "data": {
      "application/vnd.jupyter.widget-view+json": {
       "model_id": "15a5dcaa5dcd407d93653c81ba9d468f",
       "version_major": 2,
       "version_minor": 0
      },
      "text/plain": [
       "  0%|          | 0/50000 [00:00<?, ?it/s]"
      ]
     },
     "metadata": {},
     "output_type": "display_data"
    }
   ],
   "source": [
    "nwalkers=10; nstep=50000; ndim=3\n",
    "\n",
    "runs = [{'n':-3.724}]\n",
    "\n",
    "xyz_runs = []\n",
    "\n",
    "for ii, run in enumerate(runs):\n",
    "    \n",
    "    p0 = np.random.rand(nwalkers,ndim)\n",
    "    p0[:,2] +=5 \n",
    "    p0[:,:2] *= zmax\n",
    "\n",
    "    sampler = emcee.EnsembleSampler(nwalkers, ndim, logmodel, kwargs=run)\n",
    "    for pos,lnp,rstate in tqdm.tqdm_notebook(sampler.sample(p0, iterations=nstep), total=nstep):\n",
    "        pass\n",
    "    \n",
    "    xyz_runs.append(sampler.chain[:,int(nstep/2):].reshape(-1,ndim).T)"
   ]
  },
  {
   "cell_type": "code",
   "execution_count": 148,
   "metadata": {},
   "outputs": [],
   "source": [
    "x,y,z = xyz_runs[0]\n",
    "r = np.sqrt(z**2 + y**2 + (R0-x)**2)\n",
    "r_wrong = np.sqrt(z**2 + R0**2)"
   ]
  },
  {
   "cell_type": "code",
   "execution_count": 149,
   "metadata": {},
   "outputs": [
    {
     "data": {
      "image/png": "[encoded data removed]",
      "text/plain": [
       "<Figure size 432x288 with 1 Axes>"
      ]
     },
     "metadata": {
      "needs_background": "light"
     },
     "output_type": "display_data"
    }
   ],
   "source": [
    "plt.hist(x, bins=100);"
   ]
  },
  {
   "cell_type": "code",
   "execution_count": 150,
   "metadata": {},
   "outputs": [
    {
     "data": {
      "image/png": "[encoded data removed]",
      "text/plain": [
       "<Figure size 432x288 with 1 Axes>"
      ]
     },
     "metadata": {
      "needs_background": "light"
     },
     "output_type": "display_data"
    }
   ],
   "source": [
    "plt.hist(np.log10(r), bins=100);"
   ]
  },
  {
   "cell_type": "code",
   "execution_count": 151,
   "metadata": {},
   "outputs": [
    {
     "data": {
      "image/png": "[encoded data removed]",
      "text/plain": [
       "<Figure size 432x288 with 1 Axes>"
      ]
     },
     "metadata": {
      "needs_background": "light"
     },
     "output_type": "display_data"
    }
   ],
   "source": [
    "plt.hist(np.log10(z), bins=100);"
   ]
  },
  {
   "cell_type": "code",
   "execution_count": 154,
   "metadata": {},
   "outputs": [
    {
     "data": {
      "text/plain": [
       "-0.002893147831282386"
      ]
     },
     "execution_count": 154,
     "metadata": {},
     "output_type": "execute_result"
    }
   ],
   "source": [
    "np.mean((r_wrong-r)/r)"
   ]
  },
  {
   "cell_type": "code",
   "execution_count": 155,
   "metadata": {},
   "outputs": [
    {
     "data": {
      "text/plain": [
       "0.020936549082273048"
      ]
     },
     "execution_count": 155,
     "metadata": {},
     "output_type": "execute_result"
    }
   ],
   "source": [
    "np.mean(np.abs((r_wrong-r)/r))"
   ]
  },
  {
   "cell_type": "code",
   "execution_count": 145,
   "metadata": {},
   "outputs": [
    {
     "data": {
      "text/plain": [
       "0.003013599753864296"
      ]
     },
     "execution_count": 145,
     "metadata": {},
     "output_type": "execute_result"
    }
   ],
   "source": [
    "np.mean((r-r_wrong)/r)"
   ]
  },
  {
   "cell_type": "code",
   "execution_count": 146,
   "metadata": {},
   "outputs": [
    {
     "data": {
      "text/plain": [
       "0.02066025869418443"
      ]
     },
     "execution_count": 146,
     "metadata": {},
     "output_type": "execute_result"
    }
   ],
   "source": [
    "np.mean(np.abs((r-r_wrong)/r))"
   ]
  },
  {
   "cell_type": "code",
   "execution_count": null,
   "metadata": {},
   "outputs": [],
   "source": []
  },
  {
   "cell_type": "markdown",
   "metadata": {},
   "source": [
    "# Sample 6 data"
   ]
  },
  {
   "cell_type": "markdown",
   "metadata": {},
   "source": [
    "# Load data"
   ]
  },
  {
   "cell_type": "code",
   "execution_count": 7,
   "metadata": {},
   "outputs": [],
   "source": [
    "from TracerFit import mwfit, int_idx"
   ]
  },
  {
   "cell_type": "code",
   "execution_count": 63,
   "metadata": {},
   "outputs": [
    {
     "name": "stdout",
     "output_type": "stream",
     "text": [
      "low 0\n",
      "high 0\n",
      "5000000/5000000\n",
      "low 0\n",
      "high 0\n",
      "5000000/5000000\n",
      "low 0\n",
      "high 0\n",
      "5000000/5000000\n"
     ]
    }
   ],
   "source": [
    "size = 5000000; smax=np.inf; sid=None\n",
    "samples={}\n",
    "sample_names=['5','6','_dr3asf']\n",
    "for i in sample_names:\n",
    "    filename = f'/data/asfe2/Projects/mwtrace_data/mockmodel/sample{i}.h'\n",
    "    # Load Sample\n",
    "    sample = {}; true_pars={}; latent_pars={};\n",
    "    magcuts = [-100,200]\n",
    "    with h5py.File(filename, 'r') as hf:\n",
    "        subset = (hf['sample']['m'][...]>magcuts[0])&(hf['sample']['m'][...]<magcuts[1])&(hf['sample']['s'][...]<smax)\n",
    "        if sid is None:\n",
    "            print('low', np.sum(hf['sample']['m'][...]<magcuts[0]))\n",
    "            print('high', np.sum(hf['sample']['m'][...]>magcuts[1]))\n",
    "            print('%d/%d' % (np.sum(subset), len(subset)))\n",
    "            subsample  = np.sort(np.random.choice(np.arange(np.sum(subset)), size=size, replace=False))\n",
    "        else:\n",
    "            subsample = np.intersect1d(hf['sample']['source_id'][...][subset], sid, return_indices=True)[1]\n",
    "\n",
    "        for key in hf['sample'].keys():\n",
    "            sample[key]=hf['sample'][key][...][subset][subsample]\n",
    "        # Get true parameters\n",
    "        for key in hf['true_pars'].keys():\n",
    "            if not key in np.arange(3).astype(str):\n",
    "                true_pars[int_idx(key)]=hf['true_pars'][key][...]\n",
    "            else:\n",
    "                true_pars[int_idx(key)]={}\n",
    "                for par in hf['true_pars'][key].keys():\n",
    "                    true_pars[int_idx(key)][par]=hf['true_pars'][key][par][...]\n",
    "    for j in range(3): true_pars[j]['w']*=size\n",
    "    samples[i]=sample"
   ]
  },
  {
   "cell_type": "code",
   "execution_count": 64,
   "metadata": {},
   "outputs": [
    {
     "data": {
      "image/png": "[encoded data removed]",
      "text/plain": [
       "<Figure size 1728x360 with 3 Axes>"
      ]
     },
     "metadata": {
      "needs_background": "light"
     },
     "output_type": "display_data"
    }
   ],
   "source": [
    "fig, axes = plt.subplots(1,3,figsize=(24,5))\n",
    "\n",
    "for j in range(3):\n",
    "    minmax = (min([np.min(samples[name]['s'][samples[name]['cmpt']==j]) for name in sample_names]),\n",
    "              max([np.max(samples[name]['s'][samples[name]['cmpt']==j]) for name in sample_names]))\n",
    "    for name in sample_names:\n",
    "        plt.sca(axes[j])\n",
    "        plt.hist(np.log10(samples[name]['s'][samples[name]['cmpt']==j]), \n",
    "                 bins=20, range=np.log10(minmax), histtype='step', linewidth=2, label=name.replace('_',''));\n",
    "        plt.yscale('log')\n",
    "    if j==1: plt.legend()"
   ]
  },
  {
   "cell_type": "code",
   "execution_count": 65,
   "metadata": {},
   "outputs": [],
   "source": [
    "for i in sample_names:\n",
    "    cosb = np.sqrt(1-samples[i]['sinb']**2)\n",
    "    cosl = np.cos(samples[i]['l'])\n",
    "    samples[i]['r'] = np.sqrt(samples[i]['s']**2 + true_pars['R0']**2 - 2*true_pars['R0']*samples[i]['s']*cosl*cosb)\n",
    "    d = samples[i]['s']*cosb\n",
    "    samples[i]['R'] = np.sqrt( true_pars['R0']**2 + d**2 - 2*true_pars['R0']*d*cosl )"
   ]
  },
  {
   "cell_type": "code",
   "execution_count": 66,
   "metadata": {},
   "outputs": [
    {
     "data": {
      "image/png": "[encoded data removed]",
      "text/plain": [
       "<Figure size 1728x360 with 3 Axes>"
      ]
     },
     "metadata": {
      "needs_background": "light"
     },
     "output_type": "display_data"
    }
   ],
   "source": [
    "fig, axes = plt.subplots(1,3,figsize=(24,5))\n",
    "\n",
    "for j in range(3):\n",
    "    minmax = (min([np.min(samples[name]['r'][samples[name]['cmpt']==j]) for name in sample_names]),\n",
    "              max([np.max(samples[name]['r'][samples[name]['cmpt']==j]) for name in sample_names]))\n",
    "    for i in sample_names:\n",
    "        plt.sca(axes[j])\n",
    "        plt.hist(np.log10(samples[i]['r'][samples[i]['cmpt']==j]), \n",
    "                 bins=20, range=np.log10(minmax), histtype='step', linewidth=2, label=i.replace('_',''));\n",
    "        plt.yscale('log')\n",
    "    if j==1: plt.legend()"
   ]
  },
  {
   "cell_type": "code",
   "execution_count": 67,
   "metadata": {},
   "outputs": [
    {
     "data": {
      "image/png": "[encoded data removed]",
      "text/plain": [
       "<Figure size 1728x360 with 3 Axes>"
      ]
     },
     "metadata": {
      "needs_background": "light"
     },
     "output_type": "display_data"
    }
   ],
   "source": [
    "fig, axes = plt.subplots(1,3,figsize=(24,5))\n",
    "\n",
    "for j in range(3):\n",
    "    minmax = (min([np.min(samples[name]['R'][samples[name]['cmpt']==j]) for name in sample_names]),\n",
    "              max([np.max(samples[name]['R'][samples[name]['cmpt']==j]) for name in sample_names]))\n",
    "    for i in sample_names:\n",
    "        plt.sca(axes[j])\n",
    "        plt.hist(samples[i]['R'][samples[i]['cmpt']==j], \n",
    "                 bins=20, range=minmax, histtype='step', linewidth=2, label=i.replace('_',''));\n",
    "        plt.yscale('log')\n",
    "    if j==1: plt.legend()"
   ]
  },
  {
   "cell_type": "code",
   "execution_count": 68,
   "metadata": {},
   "outputs": [
    {
     "data": {
      "image/png": "[encoded data removed]",
      "text/plain": [
       "<Figure size 1728x360 with 3 Axes>"
      ]
     },
     "metadata": {
      "needs_background": "light"
     },
     "output_type": "display_data"
    }
   ],
   "source": [
    "fig, axes = plt.subplots(1,3,figsize=(24,5))\n",
    "\n",
    "for j in range(3):\n",
    "    plt.sca(axes[j])\n",
    "    for i in sample_names:\n",
    "        samples[i]['l'][samples[i]['l']<0] += 2*np.pi\n",
    "        plt.hist(samples[i]['l'][samples[i]['cmpt']==j], \n",
    "                 bins=20, range=[0,2*np.pi], histtype='step', linewidth=2, label=i.replace('_',''));\n",
    "        #plt.yscale('log')"
   ]
  },
  {
   "cell_type": "code",
   "execution_count": null,
   "metadata": {},
   "outputs": [],
   "source": []
  }
 ],
 "metadata": {
  "kernelspec": {
   "display_name": "py36",
   "language": "python",
   "name": "py36"
  },
  "language_info": {
   "codemirror_mode": {
    "name": "ipython",
    "version": 3
   },
   "file_extension": ".py",
   "mimetype": "text/x-python",
   "name": "python",
   "nbconvert_exporter": "python",
   "pygments_lexer": "ipython3",
   "version": "3.6.13"
  }
 },
 "nbformat": 4,
 "nbformat_minor": 2
}
