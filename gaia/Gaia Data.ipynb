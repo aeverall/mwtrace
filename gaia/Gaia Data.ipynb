{
 "cells": [
  {
   "cell_type": "code",
   "execution_count": 1,
   "metadata": {},
   "outputs": [],
   "source": [
    "%load_ext autoreload\n",
    "%autoreload 2"
   ]
  },
  {
   "cell_type": "code",
   "execution_count": 2,
   "metadata": {},
   "outputs": [],
   "source": [
    "import sys, os\n",
    "sys.path.append('/home/andy/Documents/software')\n",
    "import getdata, sqlutilpy\n",
    "\n",
    "import numpy as np, healpy as hp, h5py, pandas as pd\n",
    "from scipy import stats, special, linalg, optimize\n",
    "import scipy\n",
    "import tqdm\n",
    "\n",
    "# Plotting modules\n",
    "import matplotlib.pyplot as plt, matplotlib\n",
    "import matplotlib\n",
    "from pylab import cm\n",
    "import matplotlib.pyplot as plt\n",
    "from matplotlib.colors import LogNorm\n",
    "plt.rc('text', usetex=True)\n",
    "plt.rc('font', family='serif')\n",
    "plt.rc('axes', labelsize=16)\n",
    "plt.rc('xtick',labelsize=16)\n",
    "plt.rc('ytick',labelsize=16)\n",
    "plt.rc('legend',fontsize=16)\n",
    "plt.rc('font',size=16)"
   ]
  },
  {
   "cell_type": "code",
   "execution_count": 3,
   "metadata": {},
   "outputs": [],
   "source": [
    "import warnings\n",
    "warnings.filterwarnings(\"ignore\", message=\"You are modifying the state of a globally registered colormap.\")\n",
    "warnings.filterwarnings(\"ignore\", message=\"Passing parameters norm and vmin/vmax simultaneously is deprecated\")\n",
    "warnings.filterwarnings(\"ignore\", message=\"divide by zero encountered\")\n",
    "warnings.filterwarnings(\"ignore\", message=\"overflow encountered in exp\")"
   ]
  },
  {
   "cell_type": "markdown",
   "metadata": {},
   "source": [
    "## Counts"
   ]
  },
  {
   "cell_type": "code",
   "execution_count": 12,
   "metadata": {},
   "outputs": [
    {
     "name": "stdout",
     "output_type": "stream",
     "text": [
      "b>85, n=204373, b<-85, n=221801\n",
      "b>80, n=817775, b<-80, n=855918\n",
      "b>75, n=1925624, b<-75, n=1939911\n",
      "b>70, n=3437900, b<-70, n=3473715\n",
      "b>65, n=5454269, b<-65, n=5572616\n",
      "b>60, n=8063081, b<-60, n=8250784\n"
     ]
    }
   ],
   "source": [
    "df = pd.read_csv('dr2_counts.csv')\n",
    "countp=0; countm=0\n",
    "for b in np.arange(60, 90, 5)[::-1]:\n",
    "    countp += df['count_all'][df['b5']==b].iloc[0]\n",
    "    countm += df['count_all'][df['b5']==-b-5].iloc[0]\n",
    "    print(f'b>{b:.0f}, n={countp:d}, b<{-b:.0f}, n={countm:d}')"
   ]
  },
  {
   "cell_type": "code",
   "execution_count": 15,
   "metadata": {},
   "outputs": [
    {
     "name": "stdout",
     "output_type": "stream",
     "text": [
      "b>85, n=225979, b<-85, n=242745\n",
      "b>80, n=905216, b<-80, n=942006\n",
      "b>75, n=2130889, b<-75, n=2142412\n",
      "b>70, n=3813393, b<-70, n=3841335\n",
      "b>65, n=6057261, b<-65, n=6161535\n",
      "b>60, n=8933118, b<-60, n=9106927\n"
     ]
    }
   ],
   "source": [
    "df = pd.read_csv('edr3-counts.csv')\n",
    "countp=0; countm=0\n",
    "for b in np.arange(60, 90, 5)[::-1]:\n",
    "    countp += df['count_all'][df['b5']==b].iloc[0]\n",
    "    countm += df['count_all'][df['b5']==-b-5].iloc[0]\n",
    "    print(f'b>{b:.0f}, n={countp:d}, b<{-b:.0f}, n={countm:d}')"
   ]
  },
  {
   "cell_type": "markdown",
   "metadata": {},
   "source": [
    "## Expected runtime"
   ]
  },
  {
   "cell_type": "markdown",
   "metadata": {},
   "source": [
    "005 ---> Sample size: 99900, SF subset: 27167\n",
    "\n",
    "                 fD and alpha3 free - 14 free parameters. perr gradient evaluation made numerically.\n",
    "                 ftol=1e-12, gtol=1e-7. When lnp=nan in mcmc - return 1e-20.\n",
    "Time initialised: 6s\n",
    "Time full sample: 0s\n",
    "Time SF selected: 0s\n",
    "Time SF and parallax error: 11425s"
   ]
  },
  {
   "cell_type": "code",
   "execution_count": 19,
   "metadata": {},
   "outputs": [],
   "source": [
    "runtime = lambda x: x/27167 * 11425/3600"
   ]
  },
  {
   "cell_type": "code",
   "execution_count": 21,
   "metadata": {},
   "outputs": [
    {
     "name": "stdout",
     "output_type": "stream",
     "text": [
      "b>85, n=26, b<-85, n=28\n",
      "b>80, n=106, b<-80, n=110\n",
      "b>75, n=249, b<-75, n=250\n",
      "b>70, n=445, b<-70, n=449\n",
      "b>65, n=708, b<-65, n=720\n",
      "b>60, n=1044, b<-60, n=1064\n"
     ]
    }
   ],
   "source": [
    "df = pd.read_csv('edr3-counts.csv')\n",
    "countp=0; countm=0\n",
    "for b in np.arange(60, 90, 5)[::-1]:\n",
    "    countp += df['count_all'][df['b5']==b].iloc[0]\n",
    "    countm += df['count_all'][df['b5']==-b-5].iloc[0]\n",
    "    print(f'b>{b:.0f}, n={runtime(countp):.0f}, b<{-b:.0f}, n={runtime(countm):.0f}')"
   ]
  },
  {
   "cell_type": "code",
   "execution_count": null,
   "metadata": {},
   "outputs": [],
   "source": []
  }
 ],
 "metadata": {
  "kernelspec": {
   "display_name": "py36",
   "language": "python",
   "name": "py36"
  },
  "language_info": {
   "codemirror_mode": {
    "name": "ipython",
    "version": 3
   },
   "file_extension": ".py",
   "mimetype": "text/x-python",
   "name": "python",
   "nbconvert_exporter": "python",
   "pygments_lexer": "ipython3",
   "version": "3.6.13"
  }
 },
 "nbformat": 4,
 "nbformat_minor": 2
}
