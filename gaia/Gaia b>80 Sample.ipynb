{
 "cells": [
  {
   "cell_type": "code",
   "execution_count": 1,
   "metadata": {},
   "outputs": [],
   "source": [
    "%load_ext autoreload\n",
    "%autoreload 2"
   ]
  },
  {
   "cell_type": "code",
   "execution_count": 2,
   "metadata": {},
   "outputs": [],
   "source": [
    "import sys, os\n",
    "sys.path.append('/home/andy/Documents/software')\n",
    "import getdata, sqlutilpy\n",
    "\n",
    "import numpy as np, healpy as hp, h5py, pandas as pd\n",
    "from scipy import stats, special, linalg, optimize\n",
    "import scipy\n",
    "import tqdm\n",
    "\n",
    "# Plotting modules\n",
    "import matplotlib.pyplot as plt, matplotlib\n",
    "import matplotlib\n",
    "from pylab import cm\n",
    "import matplotlib.pyplot as plt\n",
    "from matplotlib.colors import LogNorm\n",
    "plt.rc('text', usetex=True)\n",
    "plt.rc('font', family='serif')\n",
    "plt.rc('axes', labelsize=16)\n",
    "plt.rc('xtick',labelsize=16)\n",
    "plt.rc('ytick',labelsize=16)\n",
    "plt.rc('legend',fontsize=16)\n",
    "plt.rc('font',size=16)"
   ]
  },
  {
   "cell_type": "code",
   "execution_count": 3,
   "metadata": {},
   "outputs": [],
   "source": [
    "import warnings\n",
    "warnings.filterwarnings(\"ignore\", message=\"You are modifying the state of a globally registered colormap.\")\n",
    "warnings.filterwarnings(\"ignore\", message=\"Passing parameters norm and vmin/vmax simultaneously is deprecated\")\n",
    "warnings.filterwarnings(\"ignore\", message=\"divide by zero encountered\")\n",
    "warnings.filterwarnings(\"ignore\", message=\"overflow encountered in exp\")"
   ]
  },
  {
   "cell_type": "code",
   "execution_count": 4,
   "metadata": {},
   "outputs": [
    {
     "name": "stdout",
     "output_type": "stream",
     "text": [
      "729653/729881\n"
     ]
    }
   ],
   "source": [
    "file = \"gaia_edr3.gaia_source_b80\"\n",
    "cardinal = \"south\"\n",
    "size = 700000\n",
    "# Load Sample\n",
    "#keys = {'phot_g_mean_mag':'phot_g_mean_mag', 'parallax':'parallax', 'b':'b', 'parallax_error':'parallax_error', }\n",
    "keys = ['source_id', 'phot_g_corr', 'parallax', 'b', 'parallax_error', 'zeropoint']\n",
    "sample = {};\n",
    "filename=\"/data/asfe2/Projects/mwtrace_data/gaia/%s.h\" % file\n",
    "with h5py.File(filename, 'r') as hf:\n",
    "    subset = ( ~np.isnan(hf[cardinal]['phot_g_corr'][...]) )\n",
    "    print('%d/%d' % (np.sum(subset), len(subset)))\n",
    "    subsample  = np.sort(np.random.choice(np.arange(np.sum(subset)), size=size, replace=False))\n",
    "    for key in keys:\n",
    "        sample[key]=hf[cardinal][key][...][subset][subsample]\n",
    "sample['sinb'] = np.sin(np.deg2rad(sample['b']))\n",
    "sample['parallax_obs'] = sample['parallax']-sample['zeropoint']\n",
    "sample['m']  = sample['phot_g_corr'].copy()"
   ]
  },
  {
   "cell_type": "markdown",
   "metadata": {},
   "source": [
    "## Apparent magnitude"
   ]
  },
  {
   "cell_type": "code",
   "execution_count": 15,
   "metadata": {},
   "outputs": [
    {
     "data": {
      "image/png": "[encoded data removed]",
      "text/plain": [
       "<Figure size 576x360 with 1 Axes>"
      ]
     },
     "metadata": {
      "needs_background": "light"
     },
     "output_type": "display_data"
    }
   ],
   "source": [
    "plt.figure(figsize=(8,5))\n",
    "plt.hist(sample['phot_g_corr'], bins=100);\n",
    "plt.yscale('log')"
   ]
  },
  {
   "cell_type": "code",
   "execution_count": 7,
   "metadata": {},
   "outputs": [
    {
     "name": "stderr",
     "output_type": "stream",
     "text": [
      "/home/andy/py36/lib/python3.6/site-packages/ipykernel_launcher.py:1: RuntimeWarning: invalid value encountered in log10\n",
      "  \"\"\"Entry point for launching an IPython kernel.\n"
     ]
    }
   ],
   "source": [
    "sample['M'] = sample['m'] + 5*(np.log10(sample['parallax_obs'])-2)"
   ]
  },
  {
   "cell_type": "code",
   "execution_count": 5,
   "metadata": {},
   "outputs": [
    {
     "data": {
      "text/plain": [
       "21.435204"
      ]
     },
     "execution_count": 5,
     "metadata": {},
     "output_type": "execute_result"
    }
   ],
   "source": [
    "np.max(sample['m'])"
   ]
  },
  {
   "cell_type": "code",
   "execution_count": 23,
   "metadata": {},
   "outputs": [
    {
     "data": {
      "text/plain": [
       "Text(0.5, 0, '$1/\\\\varpi$ (kpc)')"
      ]
     },
     "execution_count": 23,
     "metadata": {},
     "output_type": "execute_result"
    },
    {
     "data": {
      "image/png": "[encoded data removed]",
      "text/plain": [
       "<Figure size 576x360 with 1 Axes>"
      ]
     },
     "metadata": {
      "needs_background": "light"
     },
     "output_type": "display_data"
    }
   ],
   "source": [
    "fig, ax = plt.subplots(1,1,figsize=(8,5))\n",
    "\n",
    "xlim = (-2.5,3)\n",
    "plt.hist(1/sample['parallax'][sample['M']>12], bins=np.logspace(*xlim,100), color='r', histtype='step', linewidth=2);\n",
    "plt.hist(1/sample['parallax'], bins=np.logspace(*xlim,100), histtype='step', linewidth=2);\n",
    "plt.xlim(10**xlim[0], 10**xlim[1])\n",
    "\n",
    "plt.xscale('log'), plt.yscale('log'); plt.xlabel(r'$1/\\varpi$ (kpc)')"
   ]
  },
  {
   "cell_type": "code",
   "execution_count": 29,
   "metadata": {},
   "outputs": [
    {
     "data": {
      "text/plain": [
       "Text(0.5, 0, '$\\\\varpi/\\\\sigma_\\\\varpi$')"
      ]
     },
     "execution_count": 29,
     "metadata": {},
     "output_type": "execute_result"
    },
    {
     "data": {
      "image/png": "[encoded data removed]",
      "text/plain": [
       "<Figure size 576x360 with 1 Axes>"
      ]
     },
     "metadata": {
      "needs_background": "light"
     },
     "output_type": "display_data"
    }
   ],
   "source": [
    "fig, ax = plt.subplots(1,1,figsize=(8,5))\n",
    "\n",
    "xlim = (-4,4)\n",
    "plt.hist((sample['parallax']/sample['parallax_error'])[sample['M']>12], bins=np.logspace(*xlim,100), color='r', histtype='step', linewidth=2);\n",
    "plt.hist(sample['parallax']/sample['parallax_error'], bins=np.logspace(*xlim,100), histtype='step', linewidth=2);\n",
    "plt.xlim(10**xlim[0], 10**xlim[1])\n",
    "\n",
    "plt.xscale('log'), plt.yscale('log'); plt.xlabel(r'$\\varpi/\\sigma_\\varpi$')"
   ]
  },
  {
   "cell_type": "code",
   "execution_count": 32,
   "metadata": {},
   "outputs": [
    {
     "data": {
      "text/plain": [
       "(2.988251245461485, 2.491761469033009)"
      ]
     },
     "execution_count": 32,
     "metadata": {},
     "output_type": "execute_result"
    }
   ],
   "source": [
    "np.median((sample['parallax']/sample['parallax_error'])[sample['M']>12]), np.median((sample['parallax']/sample['parallax_error']))"
   ]
  },
  {
   "cell_type": "code",
   "execution_count": 33,
   "metadata": {},
   "outputs": [
    {
     "data": {
      "text/plain": [
       "Text(0.5, 0, '$M_G$')"
      ]
     },
     "execution_count": 33,
     "metadata": {},
     "output_type": "execute_result"
    },
    {
     "data": {
      "image/png": "[encoded data removed]",
      "text/plain": [
       "<Figure size 576x360 with 1 Axes>"
      ]
     },
     "metadata": {
      "needs_background": "light"
     },
     "output_type": "display_data"
    }
   ],
   "source": [
    "fig, ax = plt.subplots(1,1,figsize=(8,5))\n",
    "minmax = np.nanmin(sample['M']), np.nanmax(sample['M'])\n",
    "\n",
    "plt.hist(sample['M'], bins=np.linspace(*minmax, 100), histtype='step');\n",
    "plt.hist(sample['M'][sample['parallax_obs']/sample['parallax_error']>4], \n",
    "         bins=np.linspace(*minmax, 100), histtype='step');\n",
    "\n",
    "plt.plot([12,12], ax.get_ylim(), '--k')\n",
    "\n",
    "plt.yscale('log'); plt.xlabel(r'$M_G$')"
   ]
  }
 ],
 "metadata": {
  "kernelspec": {
   "display_name": "py36",
   "language": "python",
   "name": "py36"
  },
  "language_info": {
   "codemirror_mode": {
    "name": "ipython",
    "version": 3
   },
   "file_extension": ".py",
   "mimetype": "text/x-python",
   "name": "python",
   "nbconvert_exporter": "python",
   "pygments_lexer": "ipython3",
   "version": "3.6.13"
  }
 },
 "nbformat": 4,
 "nbformat_minor": 2
}
