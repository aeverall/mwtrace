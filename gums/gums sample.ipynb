{
 "cells": [
  {
   "cell_type": "code",
   "execution_count": 1,
   "metadata": {},
   "outputs": [],
   "source": [
    "%load_ext autoreload\n",
    "%autoreload 2"
   ]
  },
  {
   "cell_type": "code",
   "execution_count": 2,
   "metadata": {},
   "outputs": [],
   "source": [
    "%config Completer.use_jedi = False"
   ]
  },
  {
   "cell_type": "code",
   "execution_count": 3,
   "metadata": {},
   "outputs": [],
   "source": [
    "import sys, os\n",
    "sys.path.append('/home/andy/Documents/software')\n",
    "import getdata, sqlutilpy\n",
    "\n",
    "import numpy as np, healpy as hp, h5py, pandas as pd\n",
    "from scipy import stats, special, linalg, optimize\n",
    "import scipy\n",
    "import tqdm\n",
    "\n",
    "# Plotting modules\n",
    "import matplotlib.pyplot as plt, matplotlib\n",
    "import matplotlib\n",
    "from pylab import cm\n",
    "import matplotlib.pyplot as plt\n",
    "from matplotlib.colors import LogNorm\n",
    "plt.rc('text', usetex=True)\n",
    "plt.rc('font', family='serif')\n",
    "plt.rc('axes', labelsize=16)\n",
    "plt.rc('xtick',labelsize=16)\n",
    "plt.rc('ytick',labelsize=16)\n",
    "plt.rc('legend',fontsize=16)\n",
    "plt.rc('font',size=16)"
   ]
  },
  {
   "cell_type": "code",
   "execution_count": 4,
   "metadata": {},
   "outputs": [],
   "source": [
    "import warnings\n",
    "warnings.filterwarnings(\"ignore\", message=\"You are modifying the state of a globally registered colormap.\")\n",
    "warnings.filterwarnings(\"ignore\", message=\"Passing parameters norm and vmin/vmax simultaneously is deprecated\")\n",
    "warnings.filterwarnings(\"ignore\", message=\"divide by zero encountered\")\n",
    "warnings.filterwarnings(\"ignore\", message=\"overflow encountered in exp\")"
   ]
  },
  {
   "cell_type": "code",
   "execution_count": 5,
   "metadata": {},
   "outputs": [],
   "source": [
    "def add_log_cbar(ax, vmin=0., vmax=1., cmap='viridis',\n",
    "             orientation='vertical', ticks=[0,1], tick_labels=['0','1']):\n",
    "\n",
    "    norm = matplotlib.colors.Normalize(vmin=0, vmax=1)\n",
    "    im = plt.cm.ScalarMappable(norm=norm, cmap=cmap); im.set_array([])\n",
    "\n",
    "    tick_pos = (np.log(np.array(ticks)) - np.log(vmin))/(np.log(vmax)-np.log(vmin))\n",
    "    cbar = plt.colorbar(im, cax=ax, orientation=orientation, ticks=tick_pos)\n",
    "\n",
    "    if orientation=='vertical':\n",
    "        cbar.ax.set_yticklabels(tick_labels)\n",
    "    else:\n",
    "        cbar.ax.set_xticklabels(tick_labels)\n",
    "    #print(tick_pos, tick_labels)\n",
    "\n",
    "    return cbar"
   ]
  },
  {
   "cell_type": "code",
   "execution_count": 6,
   "metadata": {},
   "outputs": [],
   "source": [
    "from astropy.coordinates import SkyCoord\n",
    "import warnings\n",
    "warnings.filterwarnings('ignore')"
   ]
  },
  {
   "cell_type": "markdown",
   "metadata": {},
   "source": [
    "## CSV  file"
   ]
  },
  {
   "cell_type": "code",
   "execution_count": 7,
   "metadata": {},
   "outputs": [],
   "source": [
    "gums_sample = pd.read_csv('/data/asfe2/Projects/mwtrace_data/gums/gums_north_b80.csv').to_dict('list')\n",
    "\n",
    "for key in gums_sample.keys():\n",
    "    gums_sample[key] = np.array(gums_sample[key])"
   ]
  },
  {
   "cell_type": "code",
   "execution_count": 19,
   "metadata": {},
   "outputs": [],
   "source": [
    "gums_sample['mag_v'] = gums_sample['mean_absolute_v'] + 10 + 5*np.log10(gums_sample['barycentric_distance']/1e3)"
   ]
  },
  {
   "cell_type": "code",
   "execution_count": 83,
   "metadata": {},
   "outputs": [],
   "source": [
    "include = [sei[17] in [' '] for sei in gums_sample['source_extended_id']]"
   ]
  },
  {
   "cell_type": "code",
   "execution_count": 68,
   "metadata": {},
   "outputs": [
    {
     "data": {
      "text/plain": [
       "array([21.278484, 21.117977, 21.207094, 21.110882])"
      ]
     },
     "execution_count": 68,
     "metadata": {},
     "output_type": "execute_result"
    }
   ],
   "source": [
    "gums_sample['mag_g'][include&(gums_sample['mag_g']>21.1)]"
   ]
  },
  {
   "cell_type": "code",
   "execution_count": 69,
   "metadata": {},
   "outputs": [
    {
     "data": {
      "text/plain": [
       "array([1891960827565572097, 1891922091255529473, 1747469211376025601,\n",
       "       1748215041036910593])"
      ]
     },
     "execution_count": 69,
     "metadata": {},
     "output_type": "execute_result"
    }
   ],
   "source": [
    "gums_sample['source_id'][include&(gums_sample['mag_g']>21.1)]"
   ]
  },
  {
   "cell_type": "code",
   "execution_count": 81,
   "metadata": {},
   "outputs": [
    {
     "data": {
      "text/plain": [
       "dict_keys(['source_extended_id', 'source_id', 'ra', 'dec', 'barycentric_distance', 'mag_g', 'v_i', 'mean_absolute_v', 'mag_bp', 'mag_rp', 'mag_rvs', 'mag_v'])"
      ]
     },
     "execution_count": 81,
     "metadata": {},
     "output_type": "execute_result"
    }
   ],
   "source": [
    "gums_sample.keys()"
   ]
  },
  {
   "cell_type": "code",
   "execution_count": null,
   "metadata": {},
   "outputs": [],
   "source": []
  },
  {
   "cell_type": "code",
   "execution_count": 86,
   "metadata": {},
   "outputs": [
    {
     "data": {
      "text/plain": [
       "<SkyCoord (Galactic): (l, b) in deg\n",
       "    [(153.76907075, -86.89622689), (253.85675021, -84.49753876),\n",
       "     ( 30.02888769, -80.37883124), (114.42063764, -86.49768976),\n",
       "     (316.31801876, -80.63130866), (116.4193106 , -84.17364676),\n",
       "     (329.9478856 , -85.74659902), (309.99603149, -84.164437  ),\n",
       "     (129.37135847, -81.04642379), (283.70643505, -83.50268391),\n",
       "     ( 59.13122983, -87.81709523), (295.51883079, -84.54681921),\n",
       "     ( 32.26929817, -83.75708169), (196.02524127, -80.61977659),\n",
       "     (291.01020576, -88.74872969), (297.43011823, -83.27637728),\n",
       "     ( 86.31434749, -86.14129408), (308.45745703, -80.03633474),\n",
       "     ( 55.79099204, -81.31972706), ( 19.17638204, -86.95895219),\n",
       "     ( 85.44199242, -87.04254315), (198.65036842, -85.20413497),\n",
       "     (120.15252648, -80.1800951 ), ( 25.19886683, -83.79732115),\n",
       "     ( 41.76878981, -84.54661189), (277.06133674, -87.16958769),\n",
       "     (322.87857272, -86.98846196), ( 22.73167501, -81.3396348 ),\n",
       "     (283.46952659, -84.50385385), (120.39826435, -81.60758986),\n",
       "     (249.04208865, -83.78929766), (163.26381805, -80.6085964 ),\n",
       "     (125.89544582, -85.29007823), ( 69.40964164, -87.94952232),\n",
       "     (243.08732817, -86.09359994), (344.85645804, -83.74847296),\n",
       "     ( 53.44227373, -80.24981415)]>"
      ]
     },
     "execution_count": 86,
     "metadata": {},
     "output_type": "execute_result"
    }
   ],
   "source": [
    "from astropy.coordinates import SkyCoord\n",
    "SkyCoord(ra=gums_sample['ra'][include&(gums_sample['mag_g']>21.1)], \n",
    "         dec=gums_sample['dec'][include&(gums_sample['mag_g']>21.1)],\n",
    "         unit='deg', frame='icrs').galactic"
   ]
  },
  {
   "cell_type": "code",
   "execution_count": 70,
   "metadata": {},
   "outputs": [
    {
     "data": {
      "text/plain": [
       "array(['*172071001-000001+     ', '*172061982-000001+     ',\n",
       "       '*138428925-000001+     ', '*138602577-000001+     '], dtype='<U23')"
      ]
     },
     "execution_count": 70,
     "metadata": {},
     "output_type": "execute_result"
    }
   ],
   "source": [
    "gums_sample['source_extended_id'][include&(gums_sample['mag_g']>21.1)]"
   ]
  },
  {
   "cell_type": "code",
   "execution_count": 71,
   "metadata": {},
   "outputs": [],
   "source": [
    "in_system = [sei[:17]=='*172071001-000001' for sei in gums_sample['source_extended_id']]"
   ]
  },
  {
   "cell_type": "code",
   "execution_count": 78,
   "metadata": {},
   "outputs": [
    {
     "data": {
      "text/plain": [
       "array([21.333979, 24.534773, 21.278484])"
      ]
     },
     "execution_count": 78,
     "metadata": {},
     "output_type": "execute_result"
    }
   ],
   "source": [
    "gums_sample['mag_g'][in_system]"
   ]
  },
  {
   "cell_type": "code",
   "execution_count": 39,
   "metadata": {},
   "outputs": [
    {
     "data": {
      "image/png": "[encoded data removed]",
      "text/plain": [
       "<Figure size 432x288 with 1 Axes>"
      ]
     },
     "metadata": {
      "needs_background": "light"
     },
     "output_type": "display_data"
    }
   ],
   "source": [
    "plt.hist(gums_sample['mag_g'][include], bins=100, range=[18,25], histtype='step');\n",
    "plt.hist(gums_sample['mag_bp'][include], bins=100, range=[18,25], histtype='step');\n",
    "plt.hist(gums_sample['mag_rp'][include], bins=100, range=[18,25], histtype='step');\n",
    "plt.hist(gums_sample['mag_rvs'][include], bins=100, range=[18,25], histtype='step');\n",
    "plt.hist(gums_sample['mag_v'][include], bins=100, range=[18,25], histtype='step');\n",
    "\n",
    "plt.yscale('log')"
   ]
  },
  {
   "cell_type": "code",
   "execution_count": null,
   "metadata": {},
   "outputs": [],
   "source": []
  },
  {
   "cell_type": "code",
   "execution_count": 9,
   "metadata": {},
   "outputs": [],
   "source": [
    "gums_sample['abs_g'] = gums_sample['mag_g'] - 10 - 5*np.log10(gums_sample['barycentric_distance']/1e3)\n",
    "gums_sample['abs_g'] = gums_sample['mag_g'] - 10 - 5*np.log10(gums_sample['barycentric_distance']/1e3)\n",
    "gums_sample['abs_g'] = gums_sample['mag_g'] - 10 - 5*np.log10(gums_sample['barycentric_distance']/1e3)\n",
    "gums_sample['abs_g'] = gums_sample['mag_g'] - 10 - 5*np.log10(gums_sample['barycentric_distance']/1e3)\n",
    "\n",
    "gums_sample['mag_v'] = gums_sample['mean_absolute_v'] + 10 + 5*np.log10(gums_sample['barycentric_distance']/1e3)"
   ]
  },
  {
   "cell_type": "code",
   "execution_count": 10,
   "metadata": {},
   "outputs": [
    {
     "data": {
      "image/png": "[encoded data removed]",
      "text/plain": [
       "<Figure size 432x288 with 1 Axes>"
      ]
     },
     "metadata": {
      "needs_background": "light"
     },
     "output_type": "display_data"
    }
   ],
   "source": [
    "plt.hist(gums_sample['abs_g'][(gums_sample['abs_g']<12)&include], bins=100, histtype='step');\n",
    "plt.yscale('log')"
   ]
  },
  {
   "cell_type": "code",
   "execution_count": 16,
   "metadata": {},
   "outputs": [
    {
     "data": {
      "image/png": "[encoded data removed]",
      "text/plain": [
       "<Figure size 432x288 with 1 Axes>"
      ]
     },
     "metadata": {
      "needs_background": "light"
     },
     "output_type": "display_data"
    }
   ],
   "source": [
    "plt.hist(gums_sample['mag_g'][include], bins=100, range=[20.4,21.5], histtype='step');\n",
    "# plt.hist(gums_sample['mag_bp'][include], bins=100, range=[18,25], histtype='step');\n",
    "# plt.hist(gums_sample['mag_rp'][include], bins=100, range=[18,25], histtype='step');\n",
    "# plt.hist(gums_sample['mag_rvs'][include], bins=100, range=[18,25], histtype='step');\n",
    "plt.yscale('log')"
   ]
  },
  {
   "cell_type": "code",
   "execution_count": 131,
   "metadata": {},
   "outputs": [
    {
     "data": {
      "image/png": "[encoded data removed]",
      "text/plain": [
       "<Figure size 432x288 with 1 Axes>"
      ]
     },
     "metadata": {
      "needs_background": "light"
     },
     "output_type": "display_data"
    }
   ],
   "source": [
    "plt.hist(gums_sample['mag_v'][include], bins=100, histtype='step');\n",
    "plt.yscale('log')"
   ]
  },
  {
   "cell_type": "code",
   "execution_count": 94,
   "metadata": {},
   "outputs": [
    {
     "data": {
      "image/png": "[encoded data removed]",
      "text/plain": [
       "<Figure size 432x288 with 1 Axes>"
      ]
     },
     "metadata": {
      "needs_background": "light"
     },
     "output_type": "display_data"
    }
   ],
   "source": [
    "bins = np.logspace(-2,2,100)\n",
    "hist, bins = np.histogram(gums_sample['barycentric_distance'][include]/1e3, bins=bins)\n",
    "x = np.repeat(bins,2)\n",
    "y = np.insert(np.repeat(hist/(bins[1:]-bins[:-1]), 2), (0,2*len(hist)), (0,0))\n",
    "plt.plot(x,y)\n",
    "plt.yscale('log'); plt.xscale('log')"
   ]
  },
  {
   "cell_type": "code",
   "execution_count": 67,
   "metadata": {},
   "outputs": [
    {
     "data": {
      "application/vnd.jupyter.widget-view+json": {
       "model_id": "87ee054dc68e464ebdf127c742998ed4",
       "version_major": 2,
       "version_minor": 0
      },
      "text/plain": [
       "  0%|          | 0/1087819 [00:00<?, ?it/s]"
      ]
     },
     "metadata": {},
     "output_type": "display_data"
    }
   ],
   "source": [
    "indicator = []; \n",
    "for sei in tqdm.tqdm_notebook(gums_sample['source_extended_id'], total=len(gums_sample['source_id'])):\n",
    "    indicator.append(sei[17])\n",
    "    \n",
    "include = [i in [' ','V','+'] for i in indicator]"
   ]
  },
  {
   "cell_type": "markdown",
   "metadata": {},
   "source": [
    "### hdf5 file"
   ]
  },
  {
   "cell_type": "code",
   "execution_count": 8,
   "metadata": {},
   "outputs": [],
   "source": [
    "gums_sample = {}\n",
    "with h5py.File('/data/asfe2/Projects/mwtrace_data/gums/gums_north_b80.h', 'r') as hf:\n",
    "    for key in hf['sample'].keys():\n",
    "        gums_sample[key] = hf['sample'][key][...]"
   ]
  },
  {
   "cell_type": "code",
   "execution_count": 9,
   "metadata": {},
   "outputs": [
    {
     "name": "stdout",
     "output_type": "stream",
     "text": [
      "m 2.8614514 21.31435\n",
      "s 0.0056085760000000005 99.92219\n",
      "sinb 0.9848077747968468 0.9999999891432805\n",
      "l 0.0010024615461032775 359.99889398363973\n"
     ]
    }
   ],
   "source": [
    "for key in ['m','s','sinb','l']:\n",
    "    print(key, np.min(gums_sample[key]), np.max(gums_sample[key]))"
   ]
  },
  {
   "cell_type": "code",
   "execution_count": 10,
   "metadata": {},
   "outputs": [
    {
     "name": "stdout",
     "output_type": "stream",
     "text": [
      "m 2.8614514 21.31435\n",
      "s 0.0056085760000000005 99.92219\n",
      "sinb 0.9848077747968468 0.9999999891432805\n",
      "l 0.0010024615461032775 359.99889398363973\n"
     ]
    }
   ],
   "source": [
    "for key in ['m','s','sinb','l']:\n",
    "    print(key, np.min(gums_sample[key]), np.max(gums_sample[key]))"
   ]
  },
  {
   "cell_type": "code",
   "execution_count": null,
   "metadata": {},
   "outputs": [],
   "source": []
  },
  {
   "cell_type": "code",
   "execution_count": 8,
   "metadata": {},
   "outputs": [
    {
     "data": {
      "image/png": "[encoded data removed]",
      "text/plain": [
       "<Figure size 432x288 with 1 Axes>"
      ]
     },
     "metadata": {
      "needs_background": "light"
     },
     "output_type": "display_data"
    }
   ],
   "source": [
    "plt.hist(gums_sample['M'], bins=100);\n",
    "plt.yscale('log')"
   ]
  },
  {
   "cell_type": "code",
   "execution_count": 17,
   "metadata": {},
   "outputs": [
    {
     "data": {
      "image/png": "[encoded data removed]",
      "text/plain": [
       "<Figure size 432x288 with 1 Axes>"
      ]
     },
     "metadata": {
      "needs_background": "light"
     },
     "output_type": "display_data"
    }
   ],
   "source": [
    "plt.hist(gums_sample['s'], bins=100);\n",
    "plt.yscale('log')"
   ]
  },
  {
   "cell_type": "code",
   "execution_count": 41,
   "metadata": {},
   "outputs": [
    {
     "data": {
      "text/plain": [
       "array(['*205532784-000001A     ', '*205532784-000001B     ',\n",
       "       '*205532784-000001+     ', '*205532785-000001      ',\n",
       "       '*205556069-000001A     ', '*205556069-000001B     ',\n",
       "       '*205556069-000001C     ', '*205730690-000001+     ',\n",
       "       '*205556069-000001+     ', '*205567709-000001      '], dtype='<U23')"
      ]
     },
     "execution_count": 41,
     "metadata": {},
     "output_type": "execute_result"
    }
   ],
   "source": [
    "gums_sample['source_extended_id'][:10]"
   ]
  },
  {
   "cell_type": "code",
   "execution_count": 49,
   "metadata": {},
   "outputs": [],
   "source": [
    "mags = []\n",
    "for indicator in ['+','A','B','C']:\n",
    "    mags.append(gums_sample['mag_g'][gums_sample['source_extended_id'] == f'*205556069-000001{indicator}     '])"
   ]
  },
  {
   "cell_type": "code",
   "execution_count": 55,
   "metadata": {},
   "outputs": [
    {
     "data": {
      "text/plain": [
       "19.975846821049647"
      ]
     },
     "execution_count": 55,
     "metadata": {},
     "output_type": "execute_result"
    }
   ],
   "source": [
    "-2.5*np.log10(np.sum( 10**(-np.array(mags)[:,0][1:]/2.5) ))"
   ]
  },
  {
   "cell_type": "code",
   "execution_count": null,
   "metadata": {},
   "outputs": [],
   "source": []
  },
  {
   "cell_type": "code",
   "execution_count": 45,
   "metadata": {},
   "outputs": [
    {
     "data": {
      "text/plain": [
       "array([11.829028, 27.216654, 11.829027, 19.897343, 20.219524, 25.948387,\n",
       "       21.73996 , 12.95395 , 19.975847, 18.913826])"
      ]
     },
     "execution_count": 45,
     "metadata": {},
     "output_type": "execute_result"
    }
   ],
   "source": [
    "gums_sample['mag_g'][:10]"
   ]
  },
  {
   "cell_type": "code",
   "execution_count": 47,
   "metadata": {},
   "outputs": [
    {
     "data": {
      "text/plain": [
       "11.829027240244647"
      ]
     },
     "execution_count": 47,
     "metadata": {},
     "output_type": "execute_result"
    }
   ],
   "source": [
    "-2.5*np.log10( 10**(-11.829028/2.5) + 10**(-27.216654/2.5) )"
   ]
  },
  {
   "cell_type": "code",
   "execution_count": 42,
   "metadata": {},
   "outputs": [
    {
     "data": {
      "text/plain": [
       "array([ 360.22156,  360.22156,  360.22156, 2186.065  , 9571.839  ,\n",
       "       9571.838  , 9571.845  ,  781.5243 , 9571.841  , 2093.3252 ])"
      ]
     },
     "execution_count": 42,
     "metadata": {},
     "output_type": "execute_result"
    }
   ],
   "source": [
    "gums_sample['barycentric_distance'][:10]"
   ]
  },
  {
   "cell_type": "code",
   "execution_count": null,
   "metadata": {},
   "outputs": [],
   "source": []
  },
  {
   "cell_type": "code",
   "execution_count": null,
   "metadata": {},
   "outputs": [],
   "source": []
  },
  {
   "cell_type": "code",
   "execution_count": 7,
   "metadata": {},
   "outputs": [
    {
     "name": "stdout",
     "output_type": "stream",
     "text": [
      "942006/942006\n",
      "905216/905216\n"
     ]
    }
   ],
   "source": [
    "file = \"gaia_unwise_sdss_b80\"\n",
    "filename=\"/data/asfe2/Projects/mwtrace_data/gaia/%s.h\" % file\n",
    "size = 'full'\n",
    "# Load Sample\n",
    "#keys = {'phot_g_mean_mag':'phot_g_mean_mag', 'parallax':'parallax', 'b':'b', 'parallax_error':'parallax_error', }\n",
    "keys = ['source_id', 'phot_g_mean_mag', 'phot_g_corr', 'parallax','l', 'b', 'parallax_error', 'parallax_error_corr', 'zeropoint',\n",
    "        'specobjid', 'class', 'bp_rp', 'phot_bp_rp_excess_factor', 'phot_bp_rp_excess_factor_c', 'w1', 'w2', 'ruwe']\n",
    "sample = {};\n",
    "for cardinal in ['south', 'north']:\n",
    "    sample[cardinal]={}\n",
    "    with h5py.File(filename, 'r') as hf:\n",
    "        subset = ( ~np.isnan(hf[cardinal]['phot_g_corr'][...]) )\n",
    "        subset = np.ones(len(hf[cardinal]['source_id']), dtype=bool)\n",
    "        print('%d/%d' % (np.sum(subset), len(subset)))\n",
    "        if size=='full': subsample = np.arange(np.sum(subset))\n",
    "        else: subsample  = np.sort(np.random.choice(np.arange(np.sum(subset)), size=size, replace=False))\n",
    "        for key in keys:\n",
    "            sample[cardinal][key]=hf[cardinal][key][...][subset][subsample]\n",
    "    sample[cardinal]['sinb'] = np.sin(np.deg2rad(sample[cardinal]['b']))\n",
    "    sample[cardinal]['parallax_obs'] = sample[cardinal]['parallax']-sample[cardinal]['zeropoint']\n",
    "    sample[cardinal]['m']  = sample[cardinal]['phot_g_corr'].copy()\n",
    "    \n",
    "    sample[cardinal]['M'] = sample[cardinal]['m'] + 5*(np.log10(sample[cardinal]['parallax_obs'])-2)"
   ]
  },
  {
   "cell_type": "code",
   "execution_count": 8,
   "metadata": {},
   "outputs": [],
   "source": [
    "excess_c = {}\n",
    "with h5py.File(filename, 'r') as hf:\n",
    "    for cardinal in ['south', 'north']:\n",
    "        excess_c[cardinal]=hf[cardinal]['phot_bp_rp_excess_factor_c'][...]"
   ]
  },
  {
   "cell_type": "code",
   "execution_count": null,
   "metadata": {},
   "outputs": [],
   "source": []
  }
 ],
 "metadata": {
  "kernelspec": {
   "display_name": "py36",
   "language": "python",
   "name": "py36"
  },
  "language_info": {
   "codemirror_mode": {
    "name": "ipython",
    "version": 3
   },
   "file_extension": ".py",
   "mimetype": "text/x-python",
   "name": "python",
   "nbconvert_exporter": "python",
   "pygments_lexer": "ipython3",
   "version": "3.6.13"
  }
 },
 "nbformat": 4,
 "nbformat_minor": 2
}
